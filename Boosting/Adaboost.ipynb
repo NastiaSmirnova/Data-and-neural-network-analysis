{
 "cells": [
  {
   "cell_type": "markdown",
   "metadata": {},
   "source": [
    "# <center>Алгоритм Adaboost</center>"
   ]
  },
  {
   "cell_type": "code",
   "execution_count": 1,
   "metadata": {},
   "outputs": [],
   "source": [
    "import numpy as np\n",
    "import pandas as pd\n",
    "from sklearn.tree import DecisionTreeClassifier\n",
    "from sklearn.metrics import accuracy_score"
   ]
  },
  {
   "cell_type": "code",
   "execution_count": 2,
   "metadata": {},
   "outputs": [],
   "source": [
    "data = pd.read_csv('data_adaboost.csv', header=None)"
   ]
  },
  {
   "cell_type": "code",
   "execution_count": 3,
   "metadata": {},
   "outputs": [
    {
     "data": {
      "text/html": [
       "<div>\n",
       "<style scoped>\n",
       "    .dataframe tbody tr th:only-of-type {\n",
       "        vertical-align: middle;\n",
       "    }\n",
       "\n",
       "    .dataframe tbody tr th {\n",
       "        vertical-align: top;\n",
       "    }\n",
       "\n",
       "    .dataframe thead th {\n",
       "        text-align: right;\n",
       "    }\n",
       "</style>\n",
       "<table border=\"1\" class=\"dataframe\">\n",
       "  <thead>\n",
       "    <tr style=\"text-align: right;\">\n",
       "      <th></th>\n",
       "      <th>0</th>\n",
       "      <th>1</th>\n",
       "      <th>2</th>\n",
       "    </tr>\n",
       "  </thead>\n",
       "  <tbody>\n",
       "    <tr>\n",
       "      <th>0</th>\n",
       "      <td>1.3</td>\n",
       "      <td>4.0</td>\n",
       "      <td>1</td>\n",
       "    </tr>\n",
       "    <tr>\n",
       "      <th>1</th>\n",
       "      <td>1.0</td>\n",
       "      <td>2.0</td>\n",
       "      <td>1</td>\n",
       "    </tr>\n",
       "    <tr>\n",
       "      <th>2</th>\n",
       "      <td>2.0</td>\n",
       "      <td>2.5</td>\n",
       "      <td>1</td>\n",
       "    </tr>\n",
       "    <tr>\n",
       "      <th>3</th>\n",
       "      <td>2.0</td>\n",
       "      <td>3.5</td>\n",
       "      <td>-1</td>\n",
       "    </tr>\n",
       "    <tr>\n",
       "      <th>4</th>\n",
       "      <td>2.5</td>\n",
       "      <td>0.5</td>\n",
       "      <td>1</td>\n",
       "    </tr>\n",
       "    <tr>\n",
       "      <th>5</th>\n",
       "      <td>2.3</td>\n",
       "      <td>1.5</td>\n",
       "      <td>1</td>\n",
       "    </tr>\n",
       "    <tr>\n",
       "      <th>6</th>\n",
       "      <td>2.3</td>\n",
       "      <td>4.0</td>\n",
       "      <td>-1</td>\n",
       "    </tr>\n",
       "    <tr>\n",
       "      <th>7</th>\n",
       "      <td>3.0</td>\n",
       "      <td>2.0</td>\n",
       "      <td>1</td>\n",
       "    </tr>\n",
       "    <tr>\n",
       "      <th>8</th>\n",
       "      <td>3.0</td>\n",
       "      <td>3.5</td>\n",
       "      <td>-1</td>\n",
       "    </tr>\n",
       "    <tr>\n",
       "      <th>9</th>\n",
       "      <td>4.0</td>\n",
       "      <td>0.5</td>\n",
       "      <td>-1</td>\n",
       "    </tr>\n",
       "    <tr>\n",
       "      <th>10</th>\n",
       "      <td>4.5</td>\n",
       "      <td>1.5</td>\n",
       "      <td>-1</td>\n",
       "    </tr>\n",
       "    <tr>\n",
       "      <th>11</th>\n",
       "      <td>3.4</td>\n",
       "      <td>2.5</td>\n",
       "      <td>-1</td>\n",
       "    </tr>\n",
       "  </tbody>\n",
       "</table>\n",
       "</div>"
      ],
      "text/plain": [
       "      0    1  2\n",
       "0   1.3  4.0  1\n",
       "1   1.0  2.0  1\n",
       "2   2.0  2.5  1\n",
       "3   2.0  3.5 -1\n",
       "4   2.5  0.5  1\n",
       "5   2.3  1.5  1\n",
       "6   2.3  4.0 -1\n",
       "7   3.0  2.0  1\n",
       "8   3.0  3.5 -1\n",
       "9   4.0  0.5 -1\n",
       "10  4.5  1.5 -1\n",
       "11  3.4  2.5 -1"
      ]
     },
     "execution_count": 3,
     "metadata": {},
     "output_type": "execute_result"
    }
   ],
   "source": [
    "data"
   ]
  },
  {
   "cell_type": "code",
   "execution_count": 4,
   "metadata": {},
   "outputs": [],
   "source": [
    "X = data[[0,1]].values\n",
    "y = data[2].values"
   ]
  },
  {
   "cell_type": "markdown",
   "metadata": {},
   "source": [
    "**Задание.** Реализуйте алгоритм Adaboost.\n",
    "\n",
    "В качестве базового алгоритма возьмем `DecisionTreeClassifier` глубины 1. Количество базовых алгоритмов $T=3$.\n",
    "\n",
    "- В переменной `self.sample_weight` будем хранить текущие значения весов объектов.\n",
    "- В методе `fit` последовательно будет производиться построение пней решения. На первом шаге алгоритма веса всех объектов одинаковы, т.е.:\n",
    "$$w_i^0=\\frac{1}{l}, i=1,\\ldots,l,$$\n",
    "где $l$ &ndash; количество объектов обучающей выборки.\n",
    "- На каждом шаге алгоритма необходимо обучить пень решения с текущими весами объектов. Веса объектов задаются в методе `fit(X, y, sample_weight=...)` пня.\n",
    "- После того, как пень обучен, вычислить:\n",
    "$$\\epsilon_t=\\sum_{i=1}^{l} w_i[y_i \\neq b_t(x_i)],$$\n",
    "$$\\alpha_t=\\frac{1}{2}\\log\\frac{1-\\epsilon_t}{\\epsilon_t}.$$\n",
    "- И обновить веса объектов:\n",
    "$$w_i^t=w_i^{t-1}\\exp(-\\alpha_t y_i b_t(x_i)), i=1,\\ldots,l,$$\n",
    "$$w_i^t=\\frac{w_i^t}{\\sum_{j=1}^{l} w_j^t}.$$\n",
    "\n",
    "- Обученные пни будем хранить в переменной `self.trees`."
   ]
  },
  {
   "cell_type": "markdown",
   "metadata": {},
   "source": [
    "1. Какими оказались веса объектов после обучения?\n",
    "2. Пользуясь полученной композицией алгоритмов, классифицируйте точку (4,4) (метод `predict` в реализации).\n",
    "3. За сколько шагов алгоритм классифицирует все точки верно, если глубина дерева равна 2?"
   ]
  },
  {
   "cell_type": "code",
   "execution_count": 5,
   "metadata": {},
   "outputs": [],
   "source": [
    "from sklearn.base import BaseEstimator\n",
    "\n",
    "class AdaboostClassifierCustom(BaseEstimator):\n",
    "    def __init__(self, n_estimators=3, max_depth=1, random_state=17):\n",
    "        self.n_estimators = n_estimators\n",
    "        self.max_depth = max_depth\n",
    "        self.random_state = random_state\n",
    "        self.trees = []\n",
    "        self.sample_weight = []\n",
    "\n",
    "    def fit(self, X, y):\n",
    "        #На первом шаге алгоритма веса всех объектов одинаковы\n",
    "        self.sample_weight = np.ones(X.shape[0]) / X.shape[0]\n",
    "        \n",
    "        for t in range(self.n_estimators):\n",
    "            #обучение пня. Веса объектов задаются в методе fit(X, y, sample_weight=...) пня\n",
    "            clf = DecisionTreeClassifier(max_depth=self.max_depth)\n",
    "            clf.fit(X, y, sample_weight = self.sample_weight )\n",
    "            \n",
    "            #вычисляем b,е,а\n",
    "            b =clf.predict(X)\n",
    "            e=np.sum(self.sample_weight[b!=y])\n",
    "            a=np.log((1 - e)/e)/2\n",
    "            #обновляем веса\n",
    "            self.sample_weight = self.sample_weight * np.exp(-a*y*b) #обновляем веса\n",
    "            self.sample_weight = self.sample_weight/np.sum(self.sample_weight) #нормируем веса\n",
    "            \n",
    "            #обученные пни будем хранить в переменной self.trees\n",
    "            self.trees.append(clf) \n",
    "\n",
    "        return self\n",
    "    \n",
    "    def predict(self, X):\n",
    "        pred=[]\n",
    "        for i in range(self.n_estimators):\n",
    "            pred.append(self.trees[i].predict(X))\n",
    "        res=np.sign(sum(pred))\n",
    "        if self.n_estimators% 2 == 0:\n",
    "            if np.count_nonzero(y == 1)>len(y)-np.count_nonzero(y == 1):\n",
    "                res[res==0]=1\n",
    "            else:\n",
    "                res[res==0]=-1\n",
    "        return res"
   ]
  },
  {
   "cell_type": "code",
   "execution_count": 6,
   "metadata": {},
   "outputs": [
    {
     "data": {
      "text/plain": [
       "AdaboostClassifierCustom()"
      ]
     },
     "execution_count": 6,
     "metadata": {},
     "output_type": "execute_result"
    }
   ],
   "source": [
    "model=  AdaboostClassifierCustom()\n",
    "model.fit(X,y)"
   ]
  },
  {
   "cell_type": "code",
   "execution_count": 7,
   "metadata": {},
   "outputs": [
    {
     "name": "stdout",
     "output_type": "stream",
     "text": [
      "[ 1  1  1 -1  1  1 -1  1 -1 -1 -1 -1]\n",
      "[ 1  1  1 -1  1  1 -1  1 -1 -1 -1 -1]\n"
     ]
    }
   ],
   "source": [
    "y_pred = model.predict(X)\n",
    "print(y)\n",
    "print(y_pred)"
   ]
  },
  {
   "cell_type": "code",
   "execution_count": 8,
   "metadata": {},
   "outputs": [
    {
     "data": {
      "text/plain": [
       "1.0"
      ]
     },
     "execution_count": 8,
     "metadata": {},
     "output_type": "execute_result"
    }
   ],
   "source": [
    "accuracy_score(y, y_pred)"
   ]
  },
  {
   "cell_type": "markdown",
   "metadata": {},
   "source": [
    "1. Какими оказались веса объектов после обучения?"
   ]
  },
  {
   "cell_type": "code",
   "execution_count": 9,
   "metadata": {},
   "outputs": [
    {
     "data": {
      "text/plain": [
       "array([0.07291667, 0.02083333, 0.125     , 0.0625    , 0.125     ,\n",
       "       0.125     , 0.0625    , 0.125     , 0.0625    , 0.07291667,\n",
       "       0.07291667, 0.07291667])"
      ]
     },
     "execution_count": 9,
     "metadata": {},
     "output_type": "execute_result"
    }
   ],
   "source": [
    "model.sample_weight"
   ]
  },
  {
   "cell_type": "markdown",
   "metadata": {},
   "source": [
    "2. Пользуясь полученной композицией алгоритмов, классифицируйте точку (4,4) (метод `predict` в реализации)."
   ]
  },
  {
   "cell_type": "code",
   "execution_count": 10,
   "metadata": {},
   "outputs": [
    {
     "data": {
      "text/plain": [
       "array([-1], dtype=int64)"
      ]
     },
     "execution_count": 10,
     "metadata": {},
     "output_type": "execute_result"
    }
   ],
   "source": [
    "y_pred2 = model.predict([[4,4]])\n",
    "y_pred2 "
   ]
  },
  {
   "cell_type": "markdown",
   "metadata": {},
   "source": [
    "3. За сколько шагов алгоритм классифицирует все точки верно, если глубина дерева равна 2?"
   ]
  },
  {
   "cell_type": "code",
   "execution_count": 11,
   "metadata": {},
   "outputs": [
    {
     "name": "stdout",
     "output_type": "stream",
     "text": [
      "Это шаг 1  Точность =  0.9166666666666666\n",
      "Это шаг 2  Точность =  0.9166666666666666\n",
      "Это шаг 3  Точность =  1.0\n"
     ]
    }
   ],
   "source": [
    "acc=0\n",
    "i=0\n",
    "while acc!=1:\n",
    "    i=i+1\n",
    "    model3=AdaboostClassifierCustom(max_depth=2,n_estimators=i)\n",
    "    model3.fit(X,y)\n",
    "    y_pred3 = model3.predict(X)\n",
    "    acc=accuracy_score(y, y_pred3)\n",
    "    print('Это шаг',i,' Точность = ',acc)"
   ]
  },
  {
   "cell_type": "code",
   "execution_count": 12,
   "metadata": {},
   "outputs": [
    {
     "name": "stdout",
     "output_type": "stream",
     "text": [
      "За 3 шага алгоритм классифицирует все точки верно\n"
     ]
    }
   ],
   "source": [
    "print('За',i,'шага алгоритм классифицирует все точки верно')"
   ]
  },
  {
   "cell_type": "code",
   "execution_count": null,
   "metadata": {},
   "outputs": [],
   "source": []
  }
 ],
 "metadata": {
  "kernelspec": {
   "display_name": "Python 3",
   "language": "python",
   "name": "python3"
  },
  "language_info": {
   "codemirror_mode": {
    "name": "ipython",
    "version": 3
   },
   "file_extension": ".py",
   "mimetype": "text/x-python",
   "name": "python",
   "nbconvert_exporter": "python",
   "pygments_lexer": "ipython3",
   "version": "3.8.8"
  }
 },
 "nbformat": 4,
 "nbformat_minor": 4
}
