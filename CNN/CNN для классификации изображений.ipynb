{
 "cells": [
  {
   "cell_type": "code",
   "execution_count": null,
   "metadata": {},
   "outputs": [],
   "source": [
    "#запуск на kaggle"
   ]
  },
  {
   "cell_type": "code",
   "execution_count": 1,
   "metadata": {
    "_cell_guid": "b1076dfc-b9ad-4769-8c92-a6c4dae69d19",
    "_uuid": "8f2839f25d086af736a60e9eeb907d3b93b6e0e5",
    "execution": {
     "iopub.execute_input": "2021-10-22T10:12:03.846202Z",
     "iopub.status.busy": "2021-10-22T10:12:03.845922Z",
     "iopub.status.idle": "2021-10-22T10:12:03.874130Z",
     "shell.execute_reply": "2021-10-22T10:12:03.873444Z",
     "shell.execute_reply.started": "2021-10-22T10:12:03.846127Z"
    }
   },
   "outputs": [],
   "source": [
    "# This Python 3 environment comes with many helpful analytics libraries installed\n",
    "# It is defined by the kaggle/python Docker image: https://github.com/kaggle/docker-python\n",
    "# For example, here's several helpful packages to load\n",
    "\n",
    "import numpy as np # linear algebra\n",
    "import pandas as pd # data processing, CSV file I/O (e.g. pd.read_csv)\n",
    "\n",
    "# Input data files are available in the read-only \"../input/\" directory\n",
    "# For example, running this (by clicking run or pressing Shift+Enter) will list all files under the input directory\n",
    "\n",
    "import os\n",
    "for dirname, _, filenames in os.walk('/kaggle/input'):\n",
    "    for filename in filenames:\n",
    "        print(os.path.join(dirname, filename))\n",
    "\n",
    "# You can write up to 20GB to the current directory (/kaggle/working/) that gets preserved as output when you create a version using \"Save & Run All\" \n",
    "# You can also write temporary files to /kaggle/temp/, but they won't be saved outside of the current session"
   ]
  },
  {
   "cell_type": "code",
   "execution_count": 2,
   "metadata": {
    "execution": {
     "iopub.execute_input": "2021-10-22T10:12:03.876152Z",
     "iopub.status.busy": "2021-10-22T10:12:03.875888Z",
     "iopub.status.idle": "2021-10-22T10:12:05.466617Z",
     "shell.execute_reply": "2021-10-22T10:12:05.465881Z",
     "shell.execute_reply.started": "2021-10-22T10:12:03.876115Z"
    }
   },
   "outputs": [],
   "source": [
    "import numpy as np\n",
    "import pandas as pd\n",
    "\n",
    "import torch\n",
    "import torchvision\n",
    "import torch.nn as nn\n",
    "from torchvision import transforms\n",
    "\n",
    "import os\n",
    "import zipfile"
   ]
  },
  {
   "cell_type": "code",
   "execution_count": 3,
   "metadata": {
    "execution": {
     "iopub.execute_input": "2021-10-22T10:12:05.468302Z",
     "iopub.status.busy": "2021-10-22T10:12:05.468043Z",
     "iopub.status.idle": "2021-10-22T10:12:05.514185Z",
     "shell.execute_reply": "2021-10-22T10:12:05.513491Z",
     "shell.execute_reply.started": "2021-10-22T10:12:05.468270Z"
    }
   },
   "outputs": [],
   "source": [
    "if torch.cuda.is_available():\n",
    "    dev = \"cuda:0\" \n",
    "else:  \n",
    "    dev = \"cpu\"  \n",
    "device = torch.device(dev) "
   ]
  },
  {
   "cell_type": "code",
   "execution_count": 4,
   "metadata": {
    "execution": {
     "iopub.execute_input": "2021-10-22T10:12:05.517475Z",
     "iopub.status.busy": "2021-10-22T10:12:05.516871Z",
     "iopub.status.idle": "2021-10-22T10:12:17.996755Z",
     "shell.execute_reply": "2021-10-22T10:12:17.996010Z",
     "shell.execute_reply.started": "2021-10-22T10:12:05.517435Z"
    }
   },
   "outputs": [],
   "source": [
    "base_dir = \"../input/cian-datafest-2019\"\n",
    "train_dir = os.path.join(base_dir, \"train.zip\")\n",
    "test_dir = os.path.join(base_dir, \"test.zip\")\n",
    "\n",
    "with zipfile.ZipFile(train_dir,\"r\") as z:\n",
    "    z.extractall()\n",
    "    \n",
    "with zipfile.ZipFile(test_dir,\"r\") as z:\n",
    "    z.extractall()"
   ]
  },
  {
   "cell_type": "code",
   "execution_count": 5,
   "metadata": {
    "execution": {
     "iopub.execute_input": "2021-10-22T10:12:17.998174Z",
     "iopub.status.busy": "2021-10-22T10:12:17.997910Z",
     "iopub.status.idle": "2021-10-22T10:12:18.317386Z",
     "shell.execute_reply": "2021-10-22T10:12:18.316704Z",
     "shell.execute_reply.started": "2021-10-22T10:12:17.998140Z"
    }
   },
   "outputs": [],
   "source": [
    "torch.manual_seed(10)\n",
    "transform = transforms.Compose([transforms.Resize((56,56)), transforms.ToTensor()])\n",
    "\n",
    "train_data = torchvision.datasets.ImageFolder('./train', \n",
    "                                              transform=transform)\n",
    "\n",
    "trainset = torch.utils.data.Subset(train_data, list(range(0, len(train_data), 6)))\n",
    "\n",
    "train_set, val_set = torch.utils.data.random_split(trainset, [6000, 3221])\n",
    "train_data_loader = torch.utils.data.DataLoader(train_set, batch_size=500, \n",
    "                                                shuffle=True, num_workers=2)\n",
    "val_data_loader = torch.utils.data.DataLoader(val_set, batch_size=500, \n",
    "                                              shuffle=True, num_workers=2)"
   ]
  },
  {
   "cell_type": "code",
   "execution_count": 6,
   "metadata": {
    "execution": {
     "iopub.execute_input": "2021-10-22T10:12:18.319096Z",
     "iopub.status.busy": "2021-10-22T10:12:18.318833Z",
     "iopub.status.idle": "2021-10-22T10:12:18.329776Z",
     "shell.execute_reply": "2021-10-22T10:12:18.329046Z",
     "shell.execute_reply.started": "2021-10-22T10:12:18.319053Z"
    }
   },
   "outputs": [],
   "source": [
    "class CNN(nn.Module):\n",
    "    def __init__(self, num_classes):\n",
    "        super(CNN, self).__init__()\n",
    "\n",
    "        self.conv_layer1 = nn.Conv2d(in_channels=3, out_channels=8, kernel_size=5, stride=1, padding=1)\n",
    "        self.conv_layer2 = nn.Conv2d(in_channels=8, out_channels=16, kernel_size=4, stride=1)\n",
    "        self.conv_layer3 = nn.Conv2d(in_channels=16, out_channels=32, kernel_size=2, stride=2,padding=1)\n",
    "        self.pooling_layer1 = nn.MaxPool2d(kernel_size=2)\n",
    "        self.pooling_layer2 = nn.AvgPool2d(kernel_size=2)\n",
    "        \n",
    "        self.linear_layer1 = nn.Linear(in_features=1568, out_features=100)\n",
    "        self.linear_layer2 = nn.Linear(in_features=100, out_features=num_classes)\n",
    "        \n",
    "        self.relu = nn.ReLU()\n",
    "    def forward(self, inputs):\n",
    "        \n",
    "        output_1 = self.relu(self.conv_layer1(inputs))\n",
    "        output_2 = self.pooling_layer1(output_1)\n",
    "        output_3 = self.relu(self.conv_layer2(output_2))\n",
    "        output_4 = self.pooling_layer2(output_3)\n",
    "        output_5 = self.relu(self.conv_layer3(output_4))\n",
    "        \n",
    "        output_6 = torch.flatten(output_5, 1)\n",
    "        output_7 = self.relu(self.linear_layer1(output_6))\n",
    "        output = self.linear_layer2(output_7)\n",
    "        \n",
    "        return output"
   ]
  },
  {
   "cell_type": "code",
   "execution_count": 7,
   "metadata": {
    "execution": {
     "iopub.execute_input": "2021-10-22T10:12:18.331715Z",
     "iopub.status.busy": "2021-10-22T10:12:18.331205Z",
     "iopub.status.idle": "2021-10-22T10:12:21.269199Z",
     "shell.execute_reply": "2021-10-22T10:12:21.267679Z",
     "shell.execute_reply.started": "2021-10-22T10:12:18.331678Z"
    }
   },
   "outputs": [],
   "source": [
    "model = CNN(1).to(device)\n",
    "print(model)"
   ]
  },
  {
   "cell_type": "code",
   "execution_count": 8,
   "metadata": {
    "execution": {
     "iopub.execute_input": "2021-10-22T10:12:21.270919Z",
     "iopub.status.busy": "2021-10-22T10:12:21.270643Z",
     "iopub.status.idle": "2021-10-22T10:12:21.278202Z",
     "shell.execute_reply": "2021-10-22T10:12:21.277382Z",
     "shell.execute_reply.started": "2021-10-22T10:12:21.270884Z"
    }
   },
   "outputs": [],
   "source": [
    "# Ваш код здесь (loss function + optimizer)\n",
    "#Adam 0.001\n",
    "#BCEWithLogitsLoss\n",
    "criterion = nn.BCEWithLogitsLoss()\n",
    "optimizer = torch.optim.Adam(model.parameters(), lr=0.001)"
   ]
  },
  {
   "cell_type": "code",
   "execution_count": 9,
   "metadata": {
    "execution": {
     "iopub.execute_input": "2021-10-22T10:12:21.280174Z",
     "iopub.status.busy": "2021-10-22T10:12:21.279490Z",
     "iopub.status.idle": "2021-10-22T10:12:41.117884Z",
     "shell.execute_reply": "2021-10-22T10:12:41.116948Z",
     "shell.execute_reply.started": "2021-10-22T10:12:21.280134Z"
    }
   },
   "outputs": [],
   "source": [
    "# обучение\n",
    "torch.manual_seed(10)\n",
    "\n",
    "epochs = 5\n",
    "\n",
    "total_step = len(train_data_loader)\n",
    "for epoch in range(epochs):\n",
    "    for i, (images, labels) in enumerate(train_data_loader):\n",
    "        images = images.to(device)\n",
    "        labels = labels.reshape(len(labels), 1)\n",
    "        labels = labels.type(torch.FloatTensor)\n",
    "        labels = labels.to(device)\n",
    "\n",
    "        outputs = model(images)\n",
    "        loss = criterion(outputs, labels)\n",
    "\n",
    "        optimizer.zero_grad()\n",
    "        loss.backward()\n",
    "        optimizer.step()\n",
    "        \n",
    "        print ('Epoch [{}/{}], Step [{}/{}], Loss: {:.4f}'\n",
    "               .format(epoch+1, epochs, i+1, total_step, loss.item()))"
   ]
  },
  {
   "cell_type": "code",
   "execution_count": 10,
   "metadata": {
    "execution": {
     "iopub.execute_input": "2021-10-22T10:12:41.121561Z",
     "iopub.status.busy": "2021-10-22T10:12:41.121334Z",
     "iopub.status.idle": "2021-10-22T10:12:42.885196Z",
     "shell.execute_reply": "2021-10-22T10:12:42.883611Z",
     "shell.execute_reply.started": "2021-10-22T10:12:41.121530Z"
    }
   },
   "outputs": [],
   "source": [
    "# оценка качества\n",
    "with torch.no_grad():\n",
    "    correct = 0\n",
    "    total = 0\n",
    "    for images, labels in val_data_loader:\n",
    "        images = images.to(device)\n",
    "        labels = labels.reshape(len(labels), 1)\n",
    "        labels = labels.type(torch.FloatTensor)\n",
    "        labels = labels.to(device)\n",
    "        \n",
    "        outputs = model(images)\n",
    "        predicted = (torch.sigmoid(outputs.data) > 0.5).float()\n",
    "        total += labels.size(0)\n",
    "        correct += (predicted == labels).sum().item()\n",
    "\n",
    "    print('Accuracy: {} %'.format(100 * correct / total))"
   ]
  },
  {
   "cell_type": "code",
   "execution_count": 21,
   "metadata": {
    "execution": {
     "iopub.execute_input": "2021-10-22T10:16:09.757689Z",
     "iopub.status.busy": "2021-10-22T10:16:09.757421Z",
     "iopub.status.idle": "2021-10-22T10:16:09.769251Z",
     "shell.execute_reply": "2021-10-22T10:16:09.768461Z",
     "shell.execute_reply.started": "2021-10-22T10:16:09.757657Z"
    }
   },
   "outputs": [],
   "source": [
    "class CNN(nn.Module):\n",
    "    def __init__(self, num_classes):\n",
    "        super(CNN, self).__init__()\n",
    "\n",
    "        self.conv_layer1 = nn.Conv2d(in_channels=3, out_channels=128, kernel_size=3, stride=1, padding=1)\n",
    "        self.conv_layer2 = nn.Conv2d(in_channels=128, out_channels=256, kernel_size=3, stride=1, padding=1)\n",
    "        self.conv_layer3 = nn.Conv2d(in_channels=256, out_channels=256, kernel_size=3, stride=2,padding=1)\n",
    "        self.conv_layer4 = nn.Conv2d(in_channels=256, out_channels=4096, kernel_size=7, stride=1)\n",
    "        self.pooling_layer1 = nn.MaxPool2d(kernel_size=2)\n",
    "        self.pooling_layer2 = nn.MaxPool2d(kernel_size=2)\n",
    "        self.pooling_layer3 = nn.MaxPool2d(kernel_size=2)\n",
    "        \n",
    "        self.linear_layer1 = nn.Linear(in_features=4096, out_features=1000)\n",
    "        self.linear_layer2 = nn.Linear(in_features=1000, out_features=num_classes)\n",
    "        \n",
    "        self.relu = nn.ReLU()\n",
    "    def forward(self, inputs):\n",
    "        \n",
    "        output_1 = self.relu(self.conv_layer1(inputs))\n",
    "        output_2 = self.pooling_layer1(output_1)\n",
    "        output_3 = self.relu(self.conv_layer2(output_2))\n",
    "        output_4 = self.pooling_layer2(output_3)\n",
    "        output_5 = self.relu(self.conv_layer3(output_4))\n",
    "        output_6 = self.pooling_layer3(output_5)\n",
    "        output_7 = self.relu(self.conv_layer4(output_5))\n",
    "        \n",
    "        output_8 = torch.flatten(output_7, 1)\n",
    "        nn.Dropout(p=0.5)\n",
    "        output_9 = self.relu(self.linear_layer1(output_8))\n",
    "        output = self.linear_layer2(output_9)\n",
    "        \n",
    "        return output"
   ]
  },
  {
   "cell_type": "code",
   "execution_count": 22,
   "metadata": {
    "execution": {
     "iopub.execute_input": "2021-10-22T10:16:10.486788Z",
     "iopub.status.busy": "2021-10-22T10:16:10.486108Z",
     "iopub.status.idle": "2021-10-22T10:16:11.075481Z",
     "shell.execute_reply": "2021-10-22T10:16:11.074743Z",
     "shell.execute_reply.started": "2021-10-22T10:16:10.486744Z"
    }
   },
   "outputs": [],
   "source": [
    "model = CNN(1).to(device)\n",
    "print(model)"
   ]
  },
  {
   "cell_type": "code",
   "execution_count": 23,
   "metadata": {
    "execution": {
     "iopub.execute_input": "2021-10-22T10:16:13.047372Z",
     "iopub.status.busy": "2021-10-22T10:16:13.047093Z",
     "iopub.status.idle": "2021-10-22T10:16:13.052979Z",
     "shell.execute_reply": "2021-10-22T10:16:13.051784Z",
     "shell.execute_reply.started": "2021-10-22T10:16:13.047334Z"
    }
   },
   "outputs": [],
   "source": [
    "# Ваш код здесь (loss function + optimizer)\n",
    "#Adam 0.001\n",
    "#BCEWithLogitsLoss\n",
    "criterion = nn.BCEWithLogitsLoss()\n",
    "optimizer = torch.optim.Adam(model.parameters(), lr=0.001)"
   ]
  },
  {
   "cell_type": "code",
   "execution_count": 24,
   "metadata": {
    "execution": {
     "iopub.execute_input": "2021-10-22T10:16:15.487391Z",
     "iopub.status.busy": "2021-10-22T10:16:15.487108Z",
     "iopub.status.idle": "2021-10-22T10:16:46.457261Z",
     "shell.execute_reply": "2021-10-22T10:16:46.456393Z",
     "shell.execute_reply.started": "2021-10-22T10:16:15.487362Z"
    }
   },
   "outputs": [],
   "source": [
    "# обучение\n",
    "torch.manual_seed(10)\n",
    "\n",
    "epochs = 5\n",
    "\n",
    "total_step = len(train_data_loader)\n",
    "for epoch in range(epochs):\n",
    "    for i, (images, labels) in enumerate(train_data_loader):\n",
    "        images = images.to(device)\n",
    "        labels = labels.reshape(len(labels), 1)\n",
    "        labels = labels.type(torch.FloatTensor)\n",
    "        labels = labels.to(device)\n",
    "\n",
    "        outputs = model(images)\n",
    "        loss = criterion(outputs, labels)\n",
    "\n",
    "        optimizer.zero_grad()\n",
    "        loss.backward()\n",
    "        optimizer.step()\n",
    "        \n",
    "        print ('Epoch [{}/{}], Step [{}/{}], Loss: {:.4f}'\n",
    "               .format(epoch+1, epochs, i+1, total_step, loss.item()))"
   ]
  },
  {
   "cell_type": "code",
   "execution_count": 25,
   "metadata": {
    "execution": {
     "iopub.execute_input": "2021-10-22T10:16:46.459546Z",
     "iopub.status.busy": "2021-10-22T10:16:46.459107Z",
     "iopub.status.idle": "2021-10-22T10:16:48.129342Z",
     "shell.execute_reply": "2021-10-22T10:16:48.127627Z",
     "shell.execute_reply.started": "2021-10-22T10:16:46.459503Z"
    }
   },
   "outputs": [],
   "source": [
    "# оценка качества\n",
    "with torch.no_grad():\n",
    "    correct = 0\n",
    "    total = 0\n",
    "    for images, labels in val_data_loader:\n",
    "        images = images.to(device)\n",
    "        labels = labels.reshape(len(labels), 1)\n",
    "        labels = labels.type(torch.FloatTensor)\n",
    "        labels = labels.to(device)\n",
    "        \n",
    "        outputs = model(images)\n",
    "        predicted = (torch.sigmoid(outputs.data) > 0.5).float()\n",
    "        total += labels.size(0)\n",
    "        correct += (predicted == labels).sum().item()\n",
    "\n",
    "    print('Accuracy: {} %'.format(100 * correct / total))"
   ]
  },
  {
   "cell_type": "code",
   "execution_count": 29,
   "metadata": {
    "execution": {
     "iopub.execute_input": "2021-10-22T10:22:53.743565Z",
     "iopub.status.busy": "2021-10-22T10:22:53.742835Z",
     "iopub.status.idle": "2021-10-22T10:22:53.747501Z",
     "shell.execute_reply": "2021-10-22T10:22:53.746530Z",
     "shell.execute_reply.started": "2021-10-22T10:22:53.743517Z"
    }
   },
   "outputs": [],
   "source": [
    "from torchvision.models import vgg16"
   ]
  },
  {
   "cell_type": "code",
   "execution_count": 30,
   "metadata": {
    "execution": {
     "iopub.execute_input": "2021-10-22T10:23:24.482193Z",
     "iopub.status.busy": "2021-10-22T10:23:24.481753Z",
     "iopub.status.idle": "2021-10-22T10:23:53.191113Z",
     "shell.execute_reply": "2021-10-22T10:23:53.189399Z",
     "shell.execute_reply.started": "2021-10-22T10:23:24.482157Z"
    }
   },
   "outputs": [],
   "source": [
    "vgg16=vgg16(pretrained=True)"
   ]
  },
  {
   "cell_type": "code",
   "execution_count": null,
   "metadata": {},
   "outputs": [],
   "source": []
  }
 ],
 "metadata": {
  "kernelspec": {
   "display_name": "Python 3",
   "language": "python",
   "name": "python3"
  },
  "language_info": {
   "codemirror_mode": {
    "name": "ipython",
    "version": 3
   },
   "file_extension": ".py",
   "mimetype": "text/x-python",
   "name": "python",
   "nbconvert_exporter": "python",
   "pygments_lexer": "ipython3",
   "version": "3.8.8"
  }
 },
 "nbformat": 4,
 "nbformat_minor": 4
}
