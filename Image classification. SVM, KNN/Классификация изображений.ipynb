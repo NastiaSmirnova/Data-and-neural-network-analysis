{
 "cells": [
  {
   "cell_type": "markdown",
   "metadata": {},
   "source": [
    "# <center> Классификация изображений</center>"
   ]
  },
  {
   "cell_type": "code",
   "execution_count": 1,
   "metadata": {
    "id": "QUSlC_Nlah3Y"
   },
   "outputs": [],
   "source": [
    "import numpy as np\n",
    "import pandas as pd\n",
    "from os import walk\n",
    "from PIL import Image, ImageFilter, ImageOps    \n",
    "from sklearn.model_selection import train_test_split\n",
    "\n",
    "from sklearn.neighbors import KNeighborsClassifier\n",
    "from sklearn.metrics import confusion_matrix\n",
    "from sklearn.svm import SVC\n",
    "from sklearn.model_selection import GridSearchCV"
   ]
  },
  {
   "cell_type": "markdown",
   "metadata": {
    "id": "MH51cVFEah3j"
   },
   "source": [
    "## Загрузка обработанных изображений"
   ]
  },
  {
   "cell_type": "code",
   "execution_count": 2,
   "metadata": {
    "id": "4Yb5l8Weah3j"
   },
   "outputs": [],
   "source": [
    "img_dir = './cropped/'\n",
    "_, _, up = next(walk(img_dir + 'up'))\n",
    "_, _, down = next(walk(img_dir + 'down'))\n",
    "_, _, mov = next(walk(img_dir + 'mov'))\n",
    "up = [img_dir + 'up/' + filename for filename in up]\n",
    "down = [img_dir + 'down/' + filename for filename in down]\n",
    "mov = [img_dir + 'mov/' + filename for filename in mov]"
   ]
  },
  {
   "cell_type": "code",
   "execution_count": 3,
   "metadata": {},
   "outputs": [
    {
     "data": {
      "text/plain": [
       "5082"
      ]
     },
     "execution_count": 3,
     "metadata": {},
     "output_type": "execute_result"
    }
   ],
   "source": [
    "filenames = up + down + mov\n",
    "y_full = ['up']*len(up) + ['down']*len(down) + ['mov']*len(mov) \n",
    "n_max = len(filenames)\n",
    "part_coeff = 0.1\n",
    "int(n_max * part_coeff)"
   ]
  },
  {
   "cell_type": "code",
   "execution_count": 4,
   "metadata": {},
   "outputs": [],
   "source": [
    "sample_idx = sorted(np.random.choice(np.arange(len(filenames)), int(n_max * part_coeff), replace=False))"
   ]
  },
  {
   "cell_type": "code",
   "execution_count": 5,
   "metadata": {},
   "outputs": [],
   "source": [
    "filenames_sample = np.array(filenames)[sample_idx]\n",
    "y = np.array(y_full)[sample_idx]"
   ]
  },
  {
   "cell_type": "code",
   "execution_count": 6,
   "metadata": {
    "id": "EsslT7-dah3j"
   },
   "outputs": [],
   "source": [
    "X = []\n",
    "for img_path in filenames_sample:\n",
    "    img = Image.open(img_path)\n",
    "    X.append(np.hstack(np.array(img)))\n",
    "X = np.array(X)"
   ]
  },
  {
   "cell_type": "code",
   "execution_count": 7,
   "metadata": {},
   "outputs": [
    {
     "data": {
      "text/plain": [
       "(5082, 2100)"
      ]
     },
     "execution_count": 7,
     "metadata": {},
     "output_type": "execute_result"
    }
   ],
   "source": [
    "X.shape"
   ]
  },
  {
   "cell_type": "markdown",
   "metadata": {
    "id": "ER7dG6VDah3j"
   },
   "source": [
    "## Выделение обучающей и контрольной выборок"
   ]
  },
  {
   "cell_type": "code",
   "execution_count": 8,
   "metadata": {
    "id": "Wm83dwpUah3k",
    "outputId": "1edc3e2b-3412-421f-dfe8-8b0e4fc63b18"
   },
   "outputs": [],
   "source": [
    "X_train, X_test, y_train, y_test = train_test_split(X, y, test_size=0.2, random_state=42)"
   ]
  },
  {
   "cell_type": "markdown",
   "metadata": {},
   "source": [
    "<div class=\"alert alert-info\">\n",
    "\n",
    "<h3> Задание.</h3>\n",
    "<p></p>\n",
    "\n",
    " <ol>\n",
    "  <li>Решите задачу классификации изображений двумя методами: методом опорных векторов (sklearn.svm.SVC) и методом ближайших соседей (sklearn.neighbors.KNeighborsClassifier). Оцените качество классификации с помощью матрицы ошибок (sklearn.metrics.confusion_matrix).</li>\n",
    " <p></p>\n",
    "\n",
    "      \n",
    "  <li>Определите оптимальный параметр n_neighbors у KNeighborsClassifier с помощью sklearn.model_selection.GridSearchCV. Метрикой качества выберите f1.</li>\n",
    "<p></p>\n",
    "  \n",
    "\n",
    " </ol> \n",
    "</div>"
   ]
  },
  {
   "cell_type": "markdown",
   "metadata": {},
   "source": [
    "# Задание 1"
   ]
  },
  {
   "cell_type": "markdown",
   "metadata": {},
   "source": [
    "### KNeighborsClassifier"
   ]
  },
  {
   "cell_type": "code",
   "execution_count": 9,
   "metadata": {},
   "outputs": [],
   "source": [
    "neigh = KNeighborsClassifier()\n",
    "neigh.fit(X_train, y_train)\n",
    "y_pred_neight=neigh.predict(X_test)"
   ]
  },
  {
   "cell_type": "code",
   "execution_count": 10,
   "metadata": {},
   "outputs": [
    {
     "data": {
      "text/plain": [
       "array([[381,   5,  12],\n",
       "       [ 10, 168,  19],\n",
       "       [  8,  10, 404]], dtype=int64)"
      ]
     },
     "execution_count": 10,
     "metadata": {},
     "output_type": "execute_result"
    }
   ],
   "source": [
    "confusion_matrix(y_test, y_pred_neight)"
   ]
  },
  {
   "cell_type": "markdown",
   "metadata": {},
   "source": [
    "### SVC"
   ]
  },
  {
   "cell_type": "code",
   "execution_count": 11,
   "metadata": {},
   "outputs": [],
   "source": [
    "svc = SVC()\n",
    "svc.fit(X_train, y_train)\n",
    "y_pred_svc=svc.predict(X_test)"
   ]
  },
  {
   "cell_type": "code",
   "execution_count": 12,
   "metadata": {},
   "outputs": [
    {
     "data": {
      "text/plain": [
       "array([[398,   0,   0],\n",
       "       [ 55, 103,  39],\n",
       "       [ 16,   0, 406]], dtype=int64)"
      ]
     },
     "execution_count": 12,
     "metadata": {},
     "output_type": "execute_result"
    }
   ],
   "source": [
    "confusion_matrix(y_test, y_pred_svc)"
   ]
  },
  {
   "cell_type": "markdown",
   "metadata": {},
   "source": [
    "# Задание 2"
   ]
  },
  {
   "cell_type": "code",
   "execution_count": 13,
   "metadata": {},
   "outputs": [],
   "source": [
    "parameters = {'n_neighbors':list(range(1,20))}"
   ]
  },
  {
   "cell_type": "code",
   "execution_count": 14,
   "metadata": {},
   "outputs": [
    {
     "data": {
      "text/plain": [
       "GridSearchCV(estimator=KNeighborsClassifier(),\n",
       "             param_grid={'n_neighbors': [1, 2, 3, 4, 5, 6, 7, 8, 9, 10, 11, 12,\n",
       "                                         13, 14, 15, 16, 17, 18, 19]},\n",
       "             scoring='f1_micro')"
      ]
     },
     "execution_count": 14,
     "metadata": {},
     "output_type": "execute_result"
    }
   ],
   "source": [
    "neigh = KNeighborsClassifier()\n",
    "clf = GridSearchCV(neigh, parameters,scoring='f1_micro')\n",
    "clf.fit(X_train, y_train)"
   ]
  },
  {
   "cell_type": "code",
   "execution_count": 15,
   "metadata": {},
   "outputs": [
    {
     "data": {
      "text/plain": [
       "{'n_neighbors': 1}"
      ]
     },
     "execution_count": 15,
     "metadata": {},
     "output_type": "execute_result"
    }
   ],
   "source": [
    "clf.best_params_"
   ]
  },
  {
   "cell_type": "code",
   "execution_count": null,
   "metadata": {},
   "outputs": [],
   "source": []
  }
 ],
 "metadata": {
  "colab": {
   "collapsed_sections": [],
   "name": "hometask_13_template.ipynb",
   "provenance": []
  },
  "kernelspec": {
   "display_name": "Python 3",
   "language": "python",
   "name": "python3"
  },
  "language_info": {
   "codemirror_mode": {
    "name": "ipython",
    "version": 3
   },
   "file_extension": ".py",
   "mimetype": "text/x-python",
   "name": "python",
   "nbconvert_exporter": "python",
   "pygments_lexer": "ipython3",
   "version": "3.8.8"
  }
 },
 "nbformat": 4,
 "nbformat_minor": 1
}
