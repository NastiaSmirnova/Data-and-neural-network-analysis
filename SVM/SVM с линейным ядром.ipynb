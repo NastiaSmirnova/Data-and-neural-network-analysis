{
 "cells": [
  {
   "cell_type": "markdown",
   "id": "d244da0e",
   "metadata": {},
   "source": [
    "### Реализовать метод опорных векторов для линейно разделимого случая "
   ]
  },
  {
   "cell_type": "code",
   "execution_count": 1,
   "id": "8bea93ac",
   "metadata": {},
   "outputs": [],
   "source": [
    "import numpy as np\n",
    "import pandas as pd\n",
    "import matplotlib.pyplot as plt\n",
    "%matplotlib inline\n",
    "import seaborn as sns\n",
    "from scipy.optimize import minimize"
   ]
  },
  {
   "cell_type": "code",
   "execution_count": 2,
   "id": "87242bef",
   "metadata": {},
   "outputs": [
    {
     "data": {
      "text/html": [
       "<div>\n",
       "<style scoped>\n",
       "    .dataframe tbody tr th:only-of-type {\n",
       "        vertical-align: middle;\n",
       "    }\n",
       "\n",
       "    .dataframe tbody tr th {\n",
       "        vertical-align: top;\n",
       "    }\n",
       "\n",
       "    .dataframe thead th {\n",
       "        text-align: right;\n",
       "    }\n",
       "</style>\n",
       "<table border=\"1\" class=\"dataframe\">\n",
       "  <thead>\n",
       "    <tr style=\"text-align: right;\">\n",
       "      <th></th>\n",
       "      <th>x1</th>\n",
       "      <th>x2</th>\n",
       "      <th>y</th>\n",
       "    </tr>\n",
       "  </thead>\n",
       "  <tbody>\n",
       "    <tr>\n",
       "      <th>0</th>\n",
       "      <td>0.057833</td>\n",
       "      <td>-1.398096</td>\n",
       "      <td>-1</td>\n",
       "    </tr>\n",
       "    <tr>\n",
       "      <th>1</th>\n",
       "      <td>0.236386</td>\n",
       "      <td>0.283487</td>\n",
       "      <td>-1</td>\n",
       "    </tr>\n",
       "    <tr>\n",
       "      <th>2</th>\n",
       "      <td>-0.819391</td>\n",
       "      <td>0.809699</td>\n",
       "      <td>1</td>\n",
       "    </tr>\n",
       "    <tr>\n",
       "      <th>3</th>\n",
       "      <td>1.491693</td>\n",
       "      <td>-1.704607</td>\n",
       "      <td>-1</td>\n",
       "    </tr>\n",
       "    <tr>\n",
       "      <th>4</th>\n",
       "      <td>-0.567840</td>\n",
       "      <td>-0.071000</td>\n",
       "      <td>1</td>\n",
       "    </tr>\n",
       "    <tr>\n",
       "      <th>5</th>\n",
       "      <td>-0.694414</td>\n",
       "      <td>-0.992279</td>\n",
       "      <td>1</td>\n",
       "    </tr>\n",
       "    <tr>\n",
       "      <th>6</th>\n",
       "      <td>0.293799</td>\n",
       "      <td>0.660239</td>\n",
       "      <td>-1</td>\n",
       "    </tr>\n",
       "    <tr>\n",
       "      <th>7</th>\n",
       "      <td>-0.813164</td>\n",
       "      <td>1.480960</td>\n",
       "      <td>1</td>\n",
       "    </tr>\n",
       "    <tr>\n",
       "      <th>8</th>\n",
       "      <td>-1.503199</td>\n",
       "      <td>0.811566</td>\n",
       "      <td>1</td>\n",
       "    </tr>\n",
       "    <tr>\n",
       "      <th>9</th>\n",
       "      <td>0.637056</td>\n",
       "      <td>0.303951</td>\n",
       "      <td>-1</td>\n",
       "    </tr>\n",
       "    <tr>\n",
       "      <th>10</th>\n",
       "      <td>1.681242</td>\n",
       "      <td>-0.183918</td>\n",
       "      <td>-1</td>\n",
       "    </tr>\n",
       "  </tbody>\n",
       "</table>\n",
       "</div>"
      ],
      "text/plain": [
       "          x1        x2  y\n",
       "0   0.057833 -1.398096 -1\n",
       "1   0.236386  0.283487 -1\n",
       "2  -0.819391  0.809699  1\n",
       "3   1.491693 -1.704607 -1\n",
       "4  -0.567840 -0.071000  1\n",
       "5  -0.694414 -0.992279  1\n",
       "6   0.293799  0.660239 -1\n",
       "7  -0.813164  1.480960  1\n",
       "8  -1.503199  0.811566  1\n",
       "9   0.637056  0.303951 -1\n",
       "10  1.681242 -0.183918 -1"
      ]
     },
     "execution_count": 2,
     "metadata": {},
     "output_type": "execute_result"
    }
   ],
   "source": [
    "df=pd.read_csv('svm_data.csv',names=['x1','x2','y'])\n",
    "df"
   ]
  },
  {
   "cell_type": "code",
   "execution_count": 3,
   "id": "6dd2bceb",
   "metadata": {},
   "outputs": [
    {
     "data": {
      "text/plain": [
       "<AxesSubplot:xlabel='x1', ylabel='x2'>"
      ]
     },
     "execution_count": 3,
     "metadata": {},
     "output_type": "execute_result"
    },
    {
     "data": {
      "image/png": "[encoded data removed]",
      "text/plain": [
       "<Figure size 432x288 with 1 Axes>"
      ]
     },
     "metadata": {
      "needs_background": "light"
     },
     "output_type": "display_data"
    }
   ],
   "source": [
    "sns.scatterplot(data=df,x='x1',y='x2',hue='y')"
   ]
  },
  {
   "cell_type": "code",
   "execution_count": 4,
   "id": "3e2e0c12",
   "metadata": {},
   "outputs": [],
   "source": [
    "X=df[['x1','x2']]\n",
    "y=df.y"
   ]
  },
  {
   "cell_type": "code",
   "execution_count": 5,
   "id": "c96f9708",
   "metadata": {},
   "outputs": [],
   "source": [
    "def fun(list_of_labda):\n",
    "    lagrangian=0\n",
    "    lagr=0\n",
    "    for i in range(len(X.index)):\n",
    "        lagr=0\n",
    "        for j in range(len(X.index)):\n",
    "            lagr=lagr+1/2*list_of_labda[i]*list_of_labda[j]*y.iloc[i]*y.iloc[j]*np.dot(X.iloc[i].values,X.iloc[j].values)\n",
    "        lagrangian=lagrangian+lagr\n",
    "    lagrangian=np.sum(list_of_labda)-lagrangian\n",
    "    return lagrangian"
   ]
  },
  {
   "cell_type": "code",
   "execution_count": 6,
   "id": "501c6986",
   "metadata": {},
   "outputs": [],
   "source": [
    "def ogranich(list_of_labda):\n",
    "    s=0\n",
    "    for i in range(len(y.index)):\n",
    "        s=s+y.iloc[i]*list_of_labda[i]\n",
    "    return s"
   ]
  },
  {
   "cell_type": "code",
   "execution_count": 7,
   "id": "d4c1327e",
   "metadata": {},
   "outputs": [
    {
     "data": {
      "text/plain": [
       "     fun: -3.4417307142086897\n",
       "     jac: array([-0.46216893, -0.46203375,  1.36092269,  3.36185595,  0.46114427,\n",
       "        0.53619397, -0.41660365,  1.53049919,  3.14465371,  0.57715818,\n",
       "        3.43520609])\n",
       " message: 'Optimization terminated successfully'\n",
       "    nfev: 183\n",
       "     nit: 15\n",
       "    njev: 15\n",
       "  status: 0\n",
       " success: True\n",
       "       x: array([8.90265990e-01, 2.55146302e+00, 0.00000000e+00, 0.00000000e+00,\n",
       "       3.44172901e+00, 1.41257991e-16, 1.33373130e-15, 0.00000000e+00,\n",
       "       0.00000000e+00, 0.00000000e+00, 2.93875709e-15])"
      ]
     },
     "execution_count": 7,
     "metadata": {},
     "output_type": "execute_result"
    }
   ],
   "source": [
    "ogranichenie=[{'type':'eq','fun':ogranich}]\n",
    "list_of_labda=np.zeros(len(df.index))\n",
    "bnds=[(0,None) for i in range(len(df.index))]\n",
    "result = minimize(lambda x: -fun(x),list_of_labda,constraints=ogranichenie ,bounds=bnds)\n",
    "lamda=result.x\n",
    "result"
   ]
  },
  {
   "cell_type": "code",
   "execution_count": 8,
   "id": "ea42e389",
   "metadata": {},
   "outputs": [
    {
     "data": {
      "text/plain": [
       "3.4417307142086897"
      ]
     },
     "execution_count": 8,
     "metadata": {},
     "output_type": "execute_result"
    }
   ],
   "source": [
    "fun(lamda)"
   ]
  },
  {
   "cell_type": "code",
   "execution_count": 9,
   "id": "7e4fbabd",
   "metadata": {},
   "outputs": [],
   "source": [
    "theta=sum([lamda[i]*y.iloc[i]*X.iloc[i].values for i in range(len(X.index))])"
   ]
  },
  {
   "cell_type": "code",
   "execution_count": 10,
   "id": "0abb6f54",
   "metadata": {},
   "outputs": [
    {
     "data": {
      "text/plain": [
       "-0.46183142957642087"
      ]
     },
     "execution_count": 10,
     "metadata": {},
     "output_type": "execute_result"
    }
   ],
   "source": [
    "theta0=(1-y.iloc[0]*np.dot(X.iloc[0].values,theta))/y.iloc[0]\n",
    "theta0"
   ]
  },
  {
   "cell_type": "code",
   "execution_count": 11,
   "id": "7a80b0f4",
   "metadata": {},
   "outputs": [
    {
     "data": {
      "text/plain": [
       "array([-1., -1.,  1., -1.,  1.,  1., -1.,  1.,  1., -1., -1.])"
      ]
     },
     "execution_count": 11,
     "metadata": {},
     "output_type": "execute_result"
    }
   ],
   "source": [
    "np.sign(np.dot(X.values,theta)+theta0)"
   ]
  },
  {
   "cell_type": "code",
   "execution_count": 12,
   "id": "c3e651dd",
   "metadata": {},
   "outputs": [],
   "source": [
    "def fun_a(list_of_x):\n",
    "    return np.dot(list_of_x,theta)+theta0\n",
    "def fun_a_1(list_of_x):\n",
    "    return np.dot(list_of_x,theta)+theta0+1\n",
    "def fun_a__1(list_of_x):\n",
    "    return np.dot(list_of_x,theta)+theta0-1"
   ]
  },
  {
   "cell_type": "code",
   "execution_count": 13,
   "id": "9e0a205d",
   "metadata": {},
   "outputs": [],
   "source": [
    "ogranichenie=[{'type':'eq','fun':fun_a}]\n",
    "ogranichenie1=[{'type':'eq','fun':fun_a_1}]\n",
    "ogranichenie2=[{'type':'eq','fun':fun_a__1}]\n",
    "list_of_x=[-3,-3]\n",
    "result = minimize(lambda x: fun_a(x),list_of_x,constraints=ogranichenie)\n",
    "xx=result.x\n",
    "\n",
    "ogranichenie=[{'type':'eq','fun':fun_a}]\n",
    "list_of_x=[3,3]\n",
    "result = minimize(lambda x: fun_a(x),list_of_x,constraints=ogranichenie)\n",
    "xx1=result.x\n",
    "\n",
    "ogranichenie=[{'type':'eq','fun':fun_a}]\n",
    "list_of_x=[-3,-3]\n",
    "result = minimize(lambda x: fun_a_1(x),list_of_x,constraints=ogranichenie1)\n",
    "xx2=result.x\n",
    "\n",
    "ogranichenie=[{'type':'eq','fun':fun_a}]\n",
    "list_of_x=[3,3]\n",
    "result = minimize(lambda x: fun_a_1(x),list_of_x,constraints=ogranichenie1)\n",
    "xx3=result.x\n",
    "\n",
    "ogranichenie=[{'type':'eq','fun':fun_a}]\n",
    "list_of_x=[-3,-3]\n",
    "result = minimize(lambda x: fun_a__1(x),list_of_x,constraints=ogranichenie2)\n",
    "xx4=result.x\n",
    "\n",
    "ogranichenie=[{'type':'eq','fun':fun_a}]\n",
    "list_of_x=[3,3]\n",
    "result = minimize(lambda x: fun_a__1(x),list_of_x,constraints=ogranichenie2)\n",
    "xx5=result.x"
   ]
  },
  {
   "cell_type": "code",
   "execution_count": 14,
   "id": "f39678ee",
   "metadata": {},
   "outputs": [
    {
     "data": {
      "text/plain": [
       "[<matplotlib.lines.Line2D at 0x269d9bf7488>]"
      ]
     },
     "execution_count": 14,
     "metadata": {},
     "output_type": "execute_result"
    },
    {
     "data": {
      "image/png": "[encoded data removed]",
      "text/plain": [
       "<Figure size 432x288 with 1 Axes>"
      ]
     },
     "metadata": {
      "needs_background": "light"
     },
     "output_type": "display_data"
    }
   ],
   "source": [
    "sns.scatterplot(data=df,x='x1',y='x2',hue='y')\n",
    "plt.plot([xx[0],xx1[0]],[xx[1],xx1[1]])\n",
    "plt.plot([xx2[0],xx3[0]],[xx2[1],xx3[1]])\n",
    "plt.plot([xx4[0],xx5[0]],[xx4[1],xx5[1]])"
   ]
  },
  {
   "cell_type": "code",
   "execution_count": null,
   "id": "f9c35d9f",
   "metadata": {},
   "outputs": [],
   "source": []
  }
 ],
 "metadata": {
  "kernelspec": {
   "display_name": "Python 3 (ipykernel)",
   "language": "python",
   "name": "python3"
  },
  "language_info": {
   "codemirror_mode": {
    "name": "ipython",
    "version": 3
   },
   "file_extension": ".py",
   "mimetype": "text/x-python",
   "name": "python",
   "nbconvert_exporter": "python",
   "pygments_lexer": "ipython3",
   "version": "3.7.9"
  }
 },
 "nbformat": 4,
 "nbformat_minor": 5
}
