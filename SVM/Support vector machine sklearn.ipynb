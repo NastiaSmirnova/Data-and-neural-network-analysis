{
 "cells": [
  {
   "cell_type": "markdown",
   "metadata": {},
   "source": [
    "## Метод опорных векторов в sklearn"
   ]
  },
  {
   "cell_type": "markdown",
   "metadata": {},
   "source": [
    "**Задание 1.** Отобразите на графике данные задач `task1` и `task2`. Каждому классу определите свой цвет. Какое ядро необходимо выбрать для данных задач?"
   ]
  },
  {
   "cell_type": "code",
   "execution_count": 1,
   "metadata": {},
   "outputs": [],
   "source": [
    "import numpy as np\n",
    "import pandas as pd\n",
    "\n",
    "import matplotlib.pyplot as plt\n",
    "%matplotlib inline\n",
    "import seaborn as sns"
   ]
  },
  {
   "cell_type": "code",
   "execution_count": 2,
   "metadata": {},
   "outputs": [
    {
     "data": {
      "text/html": [
       "<div>\n",
       "<style scoped>\n",
       "    .dataframe tbody tr th:only-of-type {\n",
       "        vertical-align: middle;\n",
       "    }\n",
       "\n",
       "    .dataframe tbody tr th {\n",
       "        vertical-align: top;\n",
       "    }\n",
       "\n",
       "    .dataframe thead th {\n",
       "        text-align: right;\n",
       "    }\n",
       "</style>\n",
       "<table border=\"1\" class=\"dataframe\">\n",
       "  <thead>\n",
       "    <tr style=\"text-align: right;\">\n",
       "      <th></th>\n",
       "      <th>x</th>\n",
       "      <th>y</th>\n",
       "      <th>class</th>\n",
       "    </tr>\n",
       "  </thead>\n",
       "  <tbody>\n",
       "    <tr>\n",
       "      <th>0</th>\n",
       "      <td>0.057833</td>\n",
       "      <td>-1.398096</td>\n",
       "      <td>-1</td>\n",
       "    </tr>\n",
       "    <tr>\n",
       "      <th>1</th>\n",
       "      <td>0.236386</td>\n",
       "      <td>0.283487</td>\n",
       "      <td>-1</td>\n",
       "    </tr>\n",
       "    <tr>\n",
       "      <th>2</th>\n",
       "      <td>-0.819391</td>\n",
       "      <td>0.809699</td>\n",
       "      <td>1</td>\n",
       "    </tr>\n",
       "    <tr>\n",
       "      <th>3</th>\n",
       "      <td>1.491693</td>\n",
       "      <td>-1.704607</td>\n",
       "      <td>-1</td>\n",
       "    </tr>\n",
       "    <tr>\n",
       "      <th>4</th>\n",
       "      <td>-0.567840</td>\n",
       "      <td>-0.071000</td>\n",
       "      <td>1</td>\n",
       "    </tr>\n",
       "    <tr>\n",
       "      <th>5</th>\n",
       "      <td>-0.694414</td>\n",
       "      <td>-0.992279</td>\n",
       "      <td>1</td>\n",
       "    </tr>\n",
       "    <tr>\n",
       "      <th>6</th>\n",
       "      <td>0.293799</td>\n",
       "      <td>0.660239</td>\n",
       "      <td>-1</td>\n",
       "    </tr>\n",
       "    <tr>\n",
       "      <th>7</th>\n",
       "      <td>-0.813164</td>\n",
       "      <td>1.480960</td>\n",
       "      <td>1</td>\n",
       "    </tr>\n",
       "    <tr>\n",
       "      <th>8</th>\n",
       "      <td>-1.503199</td>\n",
       "      <td>0.811566</td>\n",
       "      <td>1</td>\n",
       "    </tr>\n",
       "    <tr>\n",
       "      <th>9</th>\n",
       "      <td>0.637056</td>\n",
       "      <td>0.303951</td>\n",
       "      <td>-1</td>\n",
       "    </tr>\n",
       "    <tr>\n",
       "      <th>10</th>\n",
       "      <td>1.681242</td>\n",
       "      <td>-0.183918</td>\n",
       "      <td>-1</td>\n",
       "    </tr>\n",
       "  </tbody>\n",
       "</table>\n",
       "</div>"
      ],
      "text/plain": [
       "           x         y  class\n",
       "0   0.057833 -1.398096     -1\n",
       "1   0.236386  0.283487     -1\n",
       "2  -0.819391  0.809699      1\n",
       "3   1.491693 -1.704607     -1\n",
       "4  -0.567840 -0.071000      1\n",
       "5  -0.694414 -0.992279      1\n",
       "6   0.293799  0.660239     -1\n",
       "7  -0.813164  1.480960      1\n",
       "8  -1.503199  0.811566      1\n",
       "9   0.637056  0.303951     -1\n",
       "10  1.681242 -0.183918     -1"
      ]
     },
     "execution_count": 2,
     "metadata": {},
     "output_type": "execute_result"
    }
   ],
   "source": [
    "data1=pd.read_csv('task1.csv',names=['x','y','class'])\n",
    "data1"
   ]
  },
  {
   "cell_type": "code",
   "execution_count": 3,
   "metadata": {},
   "outputs": [
    {
     "data": {
      "text/html": [
       "<div>\n",
       "<style scoped>\n",
       "    .dataframe tbody tr th:only-of-type {\n",
       "        vertical-align: middle;\n",
       "    }\n",
       "\n",
       "    .dataframe tbody tr th {\n",
       "        vertical-align: top;\n",
       "    }\n",
       "\n",
       "    .dataframe thead th {\n",
       "        text-align: right;\n",
       "    }\n",
       "</style>\n",
       "<table border=\"1\" class=\"dataframe\">\n",
       "  <thead>\n",
       "    <tr style=\"text-align: right;\">\n",
       "      <th></th>\n",
       "      <th>x</th>\n",
       "      <th>y</th>\n",
       "      <th>class</th>\n",
       "    </tr>\n",
       "  </thead>\n",
       "  <tbody>\n",
       "    <tr>\n",
       "      <th>0</th>\n",
       "      <td>9.349913</td>\n",
       "      <td>-0.173044</td>\n",
       "      <td>1</td>\n",
       "    </tr>\n",
       "    <tr>\n",
       "      <th>1</th>\n",
       "      <td>-9.489691</td>\n",
       "      <td>-3.736932</td>\n",
       "      <td>1</td>\n",
       "    </tr>\n",
       "    <tr>\n",
       "      <th>2</th>\n",
       "      <td>-0.773686</td>\n",
       "      <td>-0.334750</td>\n",
       "      <td>-1</td>\n",
       "    </tr>\n",
       "    <tr>\n",
       "      <th>3</th>\n",
       "      <td>7.537869</td>\n",
       "      <td>3.060028</td>\n",
       "      <td>1</td>\n",
       "    </tr>\n",
       "    <tr>\n",
       "      <th>4</th>\n",
       "      <td>0.604132</td>\n",
       "      <td>-6.878277</td>\n",
       "      <td>1</td>\n",
       "    </tr>\n",
       "    <tr>\n",
       "      <th>...</th>\n",
       "      <td>...</td>\n",
       "      <td>...</td>\n",
       "      <td>...</td>\n",
       "    </tr>\n",
       "    <tr>\n",
       "      <th>80</th>\n",
       "      <td>8.415224</td>\n",
       "      <td>-0.343585</td>\n",
       "      <td>1</td>\n",
       "    </tr>\n",
       "    <tr>\n",
       "      <th>81</th>\n",
       "      <td>-7.551491</td>\n",
       "      <td>2.279189</td>\n",
       "      <td>1</td>\n",
       "    </tr>\n",
       "    <tr>\n",
       "      <th>82</th>\n",
       "      <td>3.087023</td>\n",
       "      <td>6.459161</td>\n",
       "      <td>-1</td>\n",
       "    </tr>\n",
       "    <tr>\n",
       "      <th>83</th>\n",
       "      <td>-8.701434</td>\n",
       "      <td>1.012202</td>\n",
       "      <td>1</td>\n",
       "    </tr>\n",
       "    <tr>\n",
       "      <th>84</th>\n",
       "      <td>8.938596</td>\n",
       "      <td>8.096525</td>\n",
       "      <td>1</td>\n",
       "    </tr>\n",
       "  </tbody>\n",
       "</table>\n",
       "<p>85 rows × 3 columns</p>\n",
       "</div>"
      ],
      "text/plain": [
       "           x         y  class\n",
       "0   9.349913 -0.173044      1\n",
       "1  -9.489691 -3.736932      1\n",
       "2  -0.773686 -0.334750     -1\n",
       "3   7.537869  3.060028      1\n",
       "4   0.604132 -6.878277      1\n",
       "..       ...       ...    ...\n",
       "80  8.415224 -0.343585      1\n",
       "81 -7.551491  2.279189      1\n",
       "82  3.087023  6.459161     -1\n",
       "83 -8.701434  1.012202      1\n",
       "84  8.938596  8.096525      1\n",
       "\n",
       "[85 rows x 3 columns]"
      ]
     },
     "execution_count": 3,
     "metadata": {},
     "output_type": "execute_result"
    }
   ],
   "source": [
    "data2=pd.read_csv('task2.csv',names=['x','y','class'])\n",
    "data2"
   ]
  },
  {
   "cell_type": "code",
   "execution_count": 4,
   "metadata": {},
   "outputs": [
    {
     "data": {
      "text/plain": [
       "<AxesSubplot:xlabel='x', ylabel='y'>"
      ]
     },
     "execution_count": 4,
     "metadata": {},
     "output_type": "execute_result"
    },
    {
     "data": {
      "image/png": "[encoded data removed]",
      "text/plain": [
       "<Figure size 432x288 with 1 Axes>"
      ]
     },
     "metadata": {
      "needs_background": "light"
     },
     "output_type": "display_data"
    }
   ],
   "source": [
    "sns.scatterplot(data=data1,x='x',y='y',hue='class')"
   ]
  },
  {
   "cell_type": "code",
   "execution_count": 5,
   "metadata": {},
   "outputs": [
    {
     "data": {
      "text/plain": [
       "<AxesSubplot:xlabel='x', ylabel='y'>"
      ]
     },
     "execution_count": 5,
     "metadata": {},
     "output_type": "execute_result"
    },
    {
     "data": {
      "image/png": "[encoded data removed]",
      "text/plain": [
       "<Figure size 432x288 with 1 Axes>"
      ]
     },
     "metadata": {
      "needs_background": "light"
     },
     "output_type": "display_data"
    }
   ],
   "source": [
    "sns.scatterplot(data=data2,x='x',y='y',hue='class')"
   ]
  },
  {
   "cell_type": "markdown",
   "metadata": {},
   "source": [
    "Для певого набора данных скорее подойдет линейное ядро, а для второго полиномиальное."
   ]
  },
  {
   "cell_type": "markdown",
   "metadata": {},
   "source": [
    "**Задание 2.** Обучите SVM из sklearn (`sklearn.svm.SVC`) с выбранными функциями ядра. Какие объекты оказались опорными? (методы `support_` и `support_vectors_` после применения метода `fit`)"
   ]
  },
  {
   "cell_type": "code",
   "execution_count": 6,
   "metadata": {},
   "outputs": [
    {
     "data": {
      "text/plain": [
       "SVC(kernel='linear')"
      ]
     },
     "execution_count": 6,
     "metadata": {},
     "output_type": "execute_result"
    }
   ],
   "source": [
    "from sklearn import svm\n",
    "X1=data1[['x','y']].values\n",
    "y1=data1['class'].values\n",
    "clf1 = svm.SVC(kernel='linear')\n",
    "clf1.fit(X1, y1)"
   ]
  },
  {
   "cell_type": "code",
   "execution_count": 7,
   "metadata": {},
   "outputs": [
    {
     "data": {
      "text/plain": [
       "array([[ 0.05783333, -1.39809578],\n",
       "       [ 0.23638569,  0.28348681],\n",
       "       [ 0.29379903,  0.66023859],\n",
       "       [-0.81939127,  0.80969886],\n",
       "       [-0.56784047, -0.07100018],\n",
       "       [-0.69441368, -0.99227863]])"
      ]
     },
     "execution_count": 7,
     "metadata": {},
     "output_type": "execute_result"
    }
   ],
   "source": [
    "clf1.support_vectors_ # get support vectors"
   ]
  },
  {
   "cell_type": "code",
   "execution_count": 8,
   "metadata": {},
   "outputs": [
    {
     "data": {
      "text/plain": [
       "array([0, 1, 6, 2, 4, 5])"
      ]
     },
     "execution_count": 8,
     "metadata": {},
     "output_type": "execute_result"
    }
   ],
   "source": [
    "clf1.support_ # get indices of support vectors"
   ]
  },
  {
   "cell_type": "code",
   "execution_count": 9,
   "metadata": {},
   "outputs": [
    {
     "data": {
      "text/plain": [
       "SVC(kernel='poly')"
      ]
     },
     "execution_count": 9,
     "metadata": {},
     "output_type": "execute_result"
    }
   ],
   "source": [
    "from sklearn import svm\n",
    "X2=data2[['x','y']].values\n",
    "y2=data2['class'].values\n",
    "clf2 = svm.SVC(kernel='poly')\n",
    "clf2.fit(X2, y2)"
   ]
  },
  {
   "cell_type": "code",
   "execution_count": 10,
   "metadata": {},
   "outputs": [
    {
     "data": {
      "text/plain": [
       "array([[-0.77368594, -0.33474987],\n",
       "       [ 2.87905415,  5.51449462],\n",
       "       [-4.23488395,  2.89957896],\n",
       "       [ 2.02769788,  0.98259327],\n",
       "       [ 0.21069158, -0.29980541],\n",
       "       [-0.96995935,  1.24946368],\n",
       "       [-2.91017433, -0.02225634],\n",
       "       [-2.3384616 , -0.24062757],\n",
       "       [-1.52021973,  7.36480077],\n",
       "       [-1.325815  ,  7.49112035],\n",
       "       [ 1.38520962,  0.8313004 ],\n",
       "       [-4.38820335,  7.23058663],\n",
       "       [ 4.31556286,  2.69393642],\n",
       "       [ 3.35833497,  6.67747427],\n",
       "       [ 2.74602495,  6.8728388 ],\n",
       "       [ 1.38023495,  5.76400991],\n",
       "       [-4.79086668,  8.06866448],\n",
       "       [ 5.48771328,  7.29468577],\n",
       "       [ 4.84985646,  6.58442107],\n",
       "       [-4.32926812,  6.25153674],\n",
       "       [ 3.08702272,  6.45916093],\n",
       "       [ 9.3499125 , -0.17304369],\n",
       "       [-9.48969136, -3.73693212],\n",
       "       [ 7.53786946,  3.06002849],\n",
       "       [-9.24225798,  0.63469266],\n",
       "       [-6.13653268,  0.28747428],\n",
       "       [ 9.52254432,  8.34221068],\n",
       "       [-7.45997418, -0.71132322],\n",
       "       [-9.83840035, -2.25721383],\n",
       "       [ 5.54528783, -3.86316529],\n",
       "       [-9.41172453,  8.53605063],\n",
       "       [-9.87381879,  8.79377655],\n",
       "       [ 6.37020475, -1.67675974],\n",
       "       [ 7.37033709, -4.2074699 ],\n",
       "       [ 7.69773213, -3.8069742 ],\n",
       "       [-6.93373184, -1.89441548],\n",
       "       [-8.05105707,  6.38394517],\n",
       "       [ 7.70165711, -0.97780942],\n",
       "       [-8.83259656, -1.67120553],\n",
       "       [ 7.64011397, -1.88644957],\n",
       "       [ 9.77872121, -6.92774962],\n",
       "       [ 7.45133139, -3.1463885 ],\n",
       "       [ 8.41522405, -0.3435851 ],\n",
       "       [ 8.93859605,  8.09652503]])"
      ]
     },
     "execution_count": 10,
     "metadata": {},
     "output_type": "execute_result"
    }
   ],
   "source": [
    "clf2.support_vectors_ # get support vectors"
   ]
  },
  {
   "cell_type": "code",
   "execution_count": 11,
   "metadata": {},
   "outputs": [
    {
     "data": {
      "text/plain": [
       "array([ 2,  9, 12, 18, 20, 25, 28, 36, 39, 48, 50, 51, 54, 63, 64, 69, 72,\n",
       "       74, 75, 76, 82,  0,  1,  3,  5,  6, 10, 15, 27, 29, 31, 34, 40, 41,\n",
       "       42, 46, 53, 57, 65, 67, 71, 79, 80, 84])"
      ]
     },
     "execution_count": 11,
     "metadata": {},
     "output_type": "execute_result"
    }
   ],
   "source": [
    "clf2.support_ # get indices of support vectors"
   ]
  },
  {
   "cell_type": "code",
   "execution_count": 12,
   "metadata": {},
   "outputs": [
    {
     "data": {
      "text/plain": [
       "array([[-1.78561566,  0.08209551]])"
      ]
     },
     "execution_count": 12,
     "metadata": {},
     "output_type": "execute_result"
    }
   ],
   "source": [
    "clf1.coef_"
   ]
  },
  {
   "cell_type": "markdown",
   "metadata": {},
   "source": [
    "**Задание 3.** Отобразите на графике полученную разделяющую гиперплоскость (методы `coef_` и `intercept_` после применения `fit`)."
   ]
  },
  {
   "cell_type": "code",
   "execution_count": 13,
   "metadata": {},
   "outputs": [],
   "source": [
    "def plot_hyperplane(clf, min_x, max_x, linestyle, label):\n",
    "    w = clf.coef_[0]\n",
    "    a = -w[0] / w[1]\n",
    "    xx = np.linspace(min_x - 5, max_x + 5)\n",
    "    yy = a * xx - (clf.intercept_[0]) / w[1]\n",
    "    plt.plot(xx, yy, linestyle, label=label)\n",
    "    sns.scatterplot(data=data1,x='x',y='y',hue='class')"
   ]
  },
  {
   "cell_type": "code",
   "execution_count": 14,
   "metadata": {},
   "outputs": [
    {
     "data": {
      "image/png": "[encoded data removed]",
      "text/plain": [
       "<Figure size 432x288 with 1 Axes>"
      ]
     },
     "metadata": {
      "needs_background": "light"
     },
     "output_type": "display_data"
    }
   ],
   "source": [
    "plot_hyperplane(clf1, np.min(X1[:, 0]), np.max(X1[:, 0]), 'blue', \"Разделяющая гиперплоскость\")"
   ]
  },
  {
   "cell_type": "markdown",
   "metadata": {},
   "source": [
    "**Задание 4.** В задаче `task2` проведите сравнение на графике различных функций ядра. (`kernel`: 'linear', 'poly', 'rbf', 'sigmoid', для полиномиального ядра 'poly' рассмотрите различные степени полинома `degree`)."
   ]
  },
  {
   "cell_type": "code",
   "execution_count": 15,
   "metadata": {},
   "outputs": [],
   "source": [
    "from sklearn import metrics"
   ]
  },
  {
   "cell_type": "code",
   "execution_count": 16,
   "metadata": {},
   "outputs": [
    {
     "data": {
      "text/plain": [
       "0.8235294117647058"
      ]
     },
     "execution_count": 16,
     "metadata": {},
     "output_type": "execute_result"
    }
   ],
   "source": [
    "clf2_Lin = svm.SVC(kernel='linear')\n",
    "clf2_Lin.fit(X2, y2)\n",
    "metrics.accuracy_score(clf2_Lin.predict(X2), y2)"
   ]
  },
  {
   "cell_type": "code",
   "execution_count": 17,
   "metadata": {},
   "outputs": [
    {
     "data": {
      "text/plain": [
       "0.8352941176470589"
      ]
     },
     "execution_count": 17,
     "metadata": {},
     "output_type": "execute_result"
    }
   ],
   "source": [
    "clf2_poly = svm.SVC(kernel='poly',degree=3)\n",
    "clf2_poly.fit(X2, y2)\n",
    "metrics.accuracy_score(clf2_poly.predict(X2), y2)"
   ]
  },
  {
   "cell_type": "code",
   "execution_count": 18,
   "metadata": {},
   "outputs": [
    {
     "data": {
      "text/plain": [
       "0.788235294117647"
      ]
     },
     "execution_count": 18,
     "metadata": {},
     "output_type": "execute_result"
    }
   ],
   "source": [
    "clf2_poly = svm.SVC(kernel='poly',degree=2)\n",
    "clf2_poly.fit(X2, y2)\n",
    "metrics.accuracy_score(clf2_poly.predict(X2), y2)"
   ]
  },
  {
   "cell_type": "code",
   "execution_count": 19,
   "metadata": {},
   "outputs": [
    {
     "data": {
      "text/plain": [
       "0.7176470588235294"
      ]
     },
     "execution_count": 19,
     "metadata": {},
     "output_type": "execute_result"
    }
   ],
   "source": [
    "clf2_poly = svm.SVC(kernel='poly',degree=4)\n",
    "clf2_poly.fit(X2, y2)\n",
    "metrics.accuracy_score(clf2_poly.predict(X2), y2)"
   ]
  },
  {
   "cell_type": "code",
   "execution_count": 20,
   "metadata": {},
   "outputs": [
    {
     "data": {
      "text/plain": [
       "1.0"
      ]
     },
     "execution_count": 20,
     "metadata": {},
     "output_type": "execute_result"
    }
   ],
   "source": [
    "clf2_rbf = svm.SVC(kernel='rbf')\n",
    "clf2_rbf.fit(X2, y2)\n",
    "metrics.accuracy_score(clf2_rbf.predict(X2), y2)"
   ]
  },
  {
   "cell_type": "code",
   "execution_count": 21,
   "metadata": {},
   "outputs": [
    {
     "data": {
      "text/plain": [
       "0.8"
      ]
     },
     "execution_count": 21,
     "metadata": {},
     "output_type": "execute_result"
    }
   ],
   "source": [
    "clf2_sigmoid = svm.SVC(kernel='sigmoid')\n",
    "clf2_sigmoid.fit(X2, y2)\n",
    "metrics.accuracy_score(clf2_sigmoid.predict(X2), y2)"
   ]
  },
  {
   "cell_type": "markdown",
   "metadata": {},
   "source": [
    "Лучше всего себя показал 'rbf'"
   ]
  },
  {
   "cell_type": "markdown",
   "metadata": {},
   "source": [
    "**Задание 5.** Решите методов опорных векторов задачу `multiclass_classification` и отобразите результат на графике."
   ]
  },
  {
   "cell_type": "code",
   "execution_count": 22,
   "metadata": {},
   "outputs": [
    {
     "data": {
      "text/html": [
       "<div>\n",
       "<style scoped>\n",
       "    .dataframe tbody tr th:only-of-type {\n",
       "        vertical-align: middle;\n",
       "    }\n",
       "\n",
       "    .dataframe tbody tr th {\n",
       "        vertical-align: top;\n",
       "    }\n",
       "\n",
       "    .dataframe thead th {\n",
       "        text-align: right;\n",
       "    }\n",
       "</style>\n",
       "<table border=\"1\" class=\"dataframe\">\n",
       "  <thead>\n",
       "    <tr style=\"text-align: right;\">\n",
       "      <th></th>\n",
       "      <th>X1</th>\n",
       "      <th>X2</th>\n",
       "      <th>y</th>\n",
       "    </tr>\n",
       "  </thead>\n",
       "  <tbody>\n",
       "    <tr>\n",
       "      <th>0</th>\n",
       "      <td>0.827082</td>\n",
       "      <td>0.657831</td>\n",
       "      <td>3</td>\n",
       "    </tr>\n",
       "    <tr>\n",
       "      <th>1</th>\n",
       "      <td>0.050806</td>\n",
       "      <td>0.478433</td>\n",
       "      <td>2</td>\n",
       "    </tr>\n",
       "    <tr>\n",
       "      <th>2</th>\n",
       "      <td>0.444427</td>\n",
       "      <td>0.805732</td>\n",
       "      <td>3</td>\n",
       "    </tr>\n",
       "    <tr>\n",
       "      <th>3</th>\n",
       "      <td>0.952284</td>\n",
       "      <td>0.668506</td>\n",
       "      <td>3</td>\n",
       "    </tr>\n",
       "    <tr>\n",
       "      <th>4</th>\n",
       "      <td>0.406597</td>\n",
       "      <td>0.445482</td>\n",
       "      <td>2</td>\n",
       "    </tr>\n",
       "    <tr>\n",
       "      <th>...</th>\n",
       "      <td>...</td>\n",
       "      <td>...</td>\n",
       "      <td>...</td>\n",
       "    </tr>\n",
       "    <tr>\n",
       "      <th>995</th>\n",
       "      <td>0.355891</td>\n",
       "      <td>0.568789</td>\n",
       "      <td>3</td>\n",
       "    </tr>\n",
       "    <tr>\n",
       "      <th>996</th>\n",
       "      <td>0.863360</td>\n",
       "      <td>0.312122</td>\n",
       "      <td>1</td>\n",
       "    </tr>\n",
       "    <tr>\n",
       "      <th>997</th>\n",
       "      <td>0.654715</td>\n",
       "      <td>0.758457</td>\n",
       "      <td>3</td>\n",
       "    </tr>\n",
       "    <tr>\n",
       "      <th>998</th>\n",
       "      <td>0.533368</td>\n",
       "      <td>0.927485</td>\n",
       "      <td>3</td>\n",
       "    </tr>\n",
       "    <tr>\n",
       "      <th>999</th>\n",
       "      <td>0.583831</td>\n",
       "      <td>0.955460</td>\n",
       "      <td>3</td>\n",
       "    </tr>\n",
       "  </tbody>\n",
       "</table>\n",
       "<p>1000 rows × 3 columns</p>\n",
       "</div>"
      ],
      "text/plain": [
       "           X1        X2  y\n",
       "0    0.827082  0.657831  3\n",
       "1    0.050806  0.478433  2\n",
       "2    0.444427  0.805732  3\n",
       "3    0.952284  0.668506  3\n",
       "4    0.406597  0.445482  2\n",
       "..        ...       ... ..\n",
       "995  0.355891  0.568789  3\n",
       "996  0.863360  0.312122  1\n",
       "997  0.654715  0.758457  3\n",
       "998  0.533368  0.927485  3\n",
       "999  0.583831  0.955460  3\n",
       "\n",
       "[1000 rows x 3 columns]"
      ]
     },
     "execution_count": 22,
     "metadata": {},
     "output_type": "execute_result"
    }
   ],
   "source": [
    "data3 = pd.read_csv('multiclass_classification.csv')\n",
    "data3"
   ]
  },
  {
   "cell_type": "code",
   "execution_count": 23,
   "metadata": {},
   "outputs": [
    {
     "data": {
      "text/plain": [
       "<AxesSubplot:xlabel='X1', ylabel='X2'>"
      ]
     },
     "execution_count": 23,
     "metadata": {},
     "output_type": "execute_result"
    },
    {
     "data": {
      "image/png": "[encoded data removed]",
      "text/plain": [
       "<Figure size 432x288 with 1 Axes>"
      ]
     },
     "metadata": {
      "needs_background": "light"
     },
     "output_type": "display_data"
    }
   ],
   "source": [
    "sns.scatterplot(data=data3,x='X1',y='X2',hue='y')"
   ]
  },
  {
   "cell_type": "code",
   "execution_count": 24,
   "metadata": {},
   "outputs": [],
   "source": [
    "X3=data3[['X1','X2']].values\n",
    "y3=data3['y'].values"
   ]
  },
  {
   "cell_type": "code",
   "execution_count": 25,
   "metadata": {},
   "outputs": [
    {
     "data": {
      "text/plain": [
       "SVC(decision_function_shape='ovo')"
      ]
     },
     "execution_count": 25,
     "metadata": {},
     "output_type": "execute_result"
    }
   ],
   "source": [
    "clf_multi = svm.SVC(decision_function_shape='ovo')\n",
    "clf_multi.fit(X3, y3)"
   ]
  },
  {
   "cell_type": "code",
   "execution_count": 26,
   "metadata": {},
   "outputs": [
    {
     "data": {
      "text/plain": [
       "array([[0.37347921, 0.06859952],\n",
       "       [0.47283921, 0.12655034],\n",
       "       [0.74602137, 0.23736366],\n",
       "       [0.40431613, 0.04892144],\n",
       "       [0.51502379, 0.15561956],\n",
       "       [0.79152603, 0.26860351],\n",
       "       [0.52537541, 0.15904861],\n",
       "       [0.42477179, 0.10351736],\n",
       "       [0.83522947, 0.27568418],\n",
       "       [0.45245788, 0.07571358],\n",
       "       [0.93369151, 0.35303906],\n",
       "       [0.95993568, 0.37816062],\n",
       "       [0.6933441 , 0.23335928],\n",
       "       [0.38328692, 0.04134496],\n",
       "       [0.33410514, 0.05864884],\n",
       "       [0.55453254, 0.14865162],\n",
       "       [0.30004777, 0.00790391],\n",
       "       [0.74649261, 0.2722402 ],\n",
       "       [0.9199213 , 0.28531222],\n",
       "       [0.80973109, 0.29644035],\n",
       "       [0.91284737, 0.34954112],\n",
       "       [0.51200297, 0.12821095],\n",
       "       [0.53513081, 0.13948245],\n",
       "       [0.76324849, 0.27907194],\n",
       "       [0.85850897, 0.27436832],\n",
       "       [0.48443439, 0.10944814],\n",
       "       [0.58479091, 0.16234832],\n",
       "       [0.96648189, 0.34323212],\n",
       "       [0.98602196, 0.33116303],\n",
       "       [0.46079556, 0.0954695 ],\n",
       "       [0.94154623, 0.29842018],\n",
       "       [0.3494548 , 0.00718897],\n",
       "       [0.31554819, 0.03806923],\n",
       "       [0.37749072, 0.02348682],\n",
       "       [0.57245979, 0.16317344],\n",
       "       [0.35624438, 0.07513394],\n",
       "       [0.74039535, 0.26338508],\n",
       "       [0.56478691, 0.16921899],\n",
       "       [0.66881863, 0.17926347],\n",
       "       [0.44608259, 0.09883827],\n",
       "       [0.56407118, 0.1511749 ],\n",
       "       [0.97428876, 0.38280445],\n",
       "       [0.35808136, 0.01298442],\n",
       "       [0.44856967, 0.11342949],\n",
       "       [0.62233301, 0.1765998 ],\n",
       "       [0.65652488, 0.17415232],\n",
       "       [0.85216337, 0.25838435],\n",
       "       [0.96616393, 0.32872007],\n",
       "       [0.86335953, 0.31212197],\n",
       "       [0.79923358, 0.30529911],\n",
       "       [0.1851015 , 0.54871572],\n",
       "       [0.3282975 , 0.10084866],\n",
       "       [0.3211339 , 0.55787157],\n",
       "       [0.24637561, 0.03721669],\n",
       "       [0.3723749 , 0.141542  ],\n",
       "       [0.9150295 , 0.50783461],\n",
       "       [0.83863014, 0.34054464],\n",
       "       [0.15327811, 0.56881372],\n",
       "       [0.60737356, 0.53909023],\n",
       "       [0.63842368, 0.50544483],\n",
       "       [0.45556343, 0.1505565 ],\n",
       "       [0.64609313, 0.50060213],\n",
       "       [0.81920196, 0.45858891],\n",
       "       [0.39517715, 0.1513507 ],\n",
       "       [0.74225697, 0.50493659],\n",
       "       [0.0382955 , 0.56201156],\n",
       "       [0.41524798, 0.54087543],\n",
       "       [0.59446472, 0.21807631],\n",
       "       [0.42739321, 0.17282616],\n",
       "       [0.99789055, 0.45065188],\n",
       "       [0.99395541, 0.40642586],\n",
       "       [0.4402901 , 0.54302627],\n",
       "       [0.96050957, 0.45256536],\n",
       "       [0.7487809 , 0.31264618],\n",
       "       [0.58923991, 0.47097877],\n",
       "       [0.36170655, 0.5118795 ],\n",
       "       [0.59137804, 0.51072933],\n",
       "       [0.18858109, 0.57207682],\n",
       "       [0.67135706, 0.25126517],\n",
       "       [0.73109108, 0.29012946],\n",
       "       [0.32247329, 0.52895747],\n",
       "       [0.23893951, 0.5684305 ],\n",
       "       [0.6248701 , 0.22987851],\n",
       "       [0.5510691 , 0.1798509 ],\n",
       "       [0.59665697, 0.22722067],\n",
       "       [0.42403366, 0.15839077],\n",
       "       [0.98028024, 0.39091791],\n",
       "       [0.18021633, 0.55842724],\n",
       "       [0.28859097, 0.04901221],\n",
       "       [0.87419765, 0.35652398],\n",
       "       [0.89021561, 0.51018116],\n",
       "       [0.42699891, 0.53627881],\n",
       "       [0.48391821, 0.14908206],\n",
       "       [0.24538442, 0.53348176],\n",
       "       [0.60705377, 0.23941176],\n",
       "       [0.81490668, 0.46748636],\n",
       "       [0.95641058, 0.41390151],\n",
       "       [0.9439421 , 0.49001958],\n",
       "       [0.80080802, 0.47479163],\n",
       "       [0.27868283, 0.08474409],\n",
       "       [0.57501607, 0.49634765],\n",
       "       [0.69731844, 0.52303509],\n",
       "       [0.8944484 , 0.50510853],\n",
       "       [0.34053148, 0.07235287],\n",
       "       [0.08120782, 0.57384973],\n",
       "       [0.41647133, 0.13278021],\n",
       "       [0.97530115, 0.43857265],\n",
       "       [0.42695464, 0.50272838],\n",
       "       [0.61331329, 0.50533417],\n",
       "       [0.83844081, 0.34952995],\n",
       "       [0.15275844, 0.56664773],\n",
       "       [0.50326277, 0.20781846],\n",
       "       [0.63321986, 0.24085462],\n",
       "       [0.39036306, 0.13358342],\n",
       "       [0.95674602, 0.47765633],\n",
       "       [0.54700365, 0.48732799],\n",
       "       [0.2843603 , 0.54556796],\n",
       "       [0.38755761, 0.55971972],\n",
       "       [0.71469061, 0.30339606],\n",
       "       [0.19112978, 0.5516685 ],\n",
       "       [0.03287837, 0.54779099],\n",
       "       [0.91393798, 0.50329417],\n",
       "       [0.63787935, 0.23336048],\n",
       "       [0.56863357, 0.52592273],\n",
       "       [0.23293374, 0.03110911],\n",
       "       [0.61521311, 0.49440902],\n",
       "       [0.36526983, 0.5441037 ],\n",
       "       [0.66415805, 0.50934952],\n",
       "       [0.13094143, 0.56411278],\n",
       "       [0.53061876, 0.50077167],\n",
       "       [0.06762384, 0.57983524],\n",
       "       [0.92520097, 0.41240126],\n",
       "       [0.18703944, 0.55457855],\n",
       "       [0.70418043, 0.51094993],\n",
       "       [0.80602888, 0.32457442],\n",
       "       [0.47922912, 0.18777911],\n",
       "       [0.5038858 , 0.48012788],\n",
       "       [0.41556146, 0.55214376],\n",
       "       [0.63886608, 0.22846584],\n",
       "       [0.93588598, 0.39316286],\n",
       "       [0.24678714, 0.03328181],\n",
       "       [0.58020661, 0.53364073],\n",
       "       [0.3516093 , 0.09698939],\n",
       "       [0.44060691, 0.16722049],\n",
       "       [0.60773923, 0.22742139],\n",
       "       [0.61359151, 0.5208498 ],\n",
       "       [0.91608943, 0.37309674],\n",
       "       [0.9560161 , 0.44978096],\n",
       "       [0.66103889, 0.25715199],\n",
       "       [0.49437417, 0.18210427],\n",
       "       [0.79506583, 0.3121302 ],\n",
       "       [0.45272849, 0.53430208],\n",
       "       [0.93468736, 0.47393472],\n",
       "       [0.00367451, 0.56447052],\n",
       "       [0.31386104, 0.09557086],\n",
       "       [0.48286122, 0.55490951],\n",
       "       [0.9625871 , 0.5374004 ],\n",
       "       [0.62689089, 0.56187326],\n",
       "       [0.03223331, 0.6976345 ],\n",
       "       [0.81197652, 0.54881437],\n",
       "       [0.27844553, 0.63310541],\n",
       "       [0.48576673, 0.57863014],\n",
       "       [0.47698438, 0.56969417],\n",
       "       [0.00791021, 0.63538754],\n",
       "       [0.66294057, 0.53485844],\n",
       "       [0.40980237, 0.99705732],\n",
       "       [0.3423563 , 0.60203396],\n",
       "       [0.21049416, 0.58336173],\n",
       "       [0.31740598, 0.57464021],\n",
       "       [0.36763233, 0.56546234],\n",
       "       [0.9600262 , 0.53219918],\n",
       "       [0.66067607, 0.5501673 ],\n",
       "       [0.02427604, 0.62778689],\n",
       "       [0.82581508, 0.54480293],\n",
       "       [0.01139583, 0.98597896],\n",
       "       [0.38969586, 0.56615819],\n",
       "       [0.16954806, 0.59202121],\n",
       "       [0.39152622, 0.59596866],\n",
       "       [0.40954251, 0.58978491],\n",
       "       [0.32751925, 0.58269643],\n",
       "       [0.87966137, 0.51558124],\n",
       "       [0.91471605, 0.58028575],\n",
       "       [0.54567203, 0.56473541],\n",
       "       [0.46717394, 0.56867997],\n",
       "       [0.14015953, 0.67519889],\n",
       "       [0.85522776, 0.54456149],\n",
       "       [0.70650536, 0.54620999],\n",
       "       [0.07822071, 0.61594146],\n",
       "       [0.36123094, 0.58611687],\n",
       "       [0.69934183, 0.55861628],\n",
       "       [0.53260571, 0.56080813],\n",
       "       [0.50305542, 0.56478426],\n",
       "       [0.64680493, 0.5422354 ],\n",
       "       [0.41281339, 0.55878096],\n",
       "       [0.48261249, 0.57417275],\n",
       "       [0.91360788, 0.57338331],\n",
       "       [0.98283538, 0.54636346],\n",
       "       [0.37348211, 0.59910504],\n",
       "       [0.87569719, 0.55294439],\n",
       "       [0.04931734, 0.69469436],\n",
       "       [0.7207186 , 0.55045959],\n",
       "       [0.04517646, 0.59632589],\n",
       "       [0.53167941, 0.56689749],\n",
       "       [0.37404925, 0.57622614],\n",
       "       [0.78860108, 0.52721083],\n",
       "       [0.78359712, 0.54206055],\n",
       "       [0.90033912, 0.53442117],\n",
       "       [0.66191251, 0.54128834],\n",
       "       [0.09590433, 0.65394338],\n",
       "       [0.52960175, 0.56364919],\n",
       "       [0.05006328, 0.61905826],\n",
       "       [0.43888756, 0.56472033],\n",
       "       [0.35589091, 0.56878909]])"
      ]
     },
     "execution_count": 26,
     "metadata": {},
     "output_type": "execute_result"
    }
   ],
   "source": [
    "clf_multi.support_vectors_ # get support vectors"
   ]
  },
  {
   "cell_type": "code",
   "execution_count": 27,
   "metadata": {},
   "outputs": [
    {
     "data": {
      "text/plain": [
       "array([ 27,  50,  62,  81, 105, 204, 210, 213, 216, 219, 232, 253, 263,\n",
       "       319, 325, 341, 370, 399, 413, 482, 498, 525, 553, 567, 618, 635,\n",
       "       642, 645, 646, 682, 702, 739, 745, 753, 760, 770, 779, 815, 822,\n",
       "       829, 868, 892, 917, 942, 957, 963, 967, 990, 996,  12,  26,  37,\n",
       "        40,  41,  46,  52,  88, 100, 108, 112, 150, 158, 169, 201, 202,\n",
       "       205, 207, 242, 245, 246, 247, 250, 256, 281, 291, 292, 296, 310,\n",
       "       317, 321, 366, 367, 385, 396, 406, 409, 416, 427, 434, 440, 445,\n",
       "       483, 500, 501, 508, 521, 529, 534, 544, 562, 573, 576, 578, 582,\n",
       "       599, 600, 611, 615, 623, 639, 650, 651, 652, 661, 663, 664, 666,\n",
       "       686, 692, 704, 712, 723, 724, 734, 736, 762, 763, 766, 774, 788,\n",
       "       794, 805, 812, 814, 818, 823, 824, 831, 833, 848, 849, 885, 891,\n",
       "       933, 936, 944, 954, 955, 956, 958, 961, 978, 985, 986, 987,   9,\n",
       "        24,  49,  63,  76, 101, 120, 125, 134, 143, 159, 172, 195, 218,\n",
       "       227, 265, 268, 270, 283, 293, 294, 328, 331, 338, 346, 348, 363,\n",
       "       371, 386, 397, 431, 437, 449, 453, 457, 490, 512, 551, 565, 601,\n",
       "       653, 678, 711, 738, 754, 773, 799, 847, 861, 869, 875, 896, 897,\n",
       "       899, 916, 983, 989, 995])"
      ]
     },
     "execution_count": 27,
     "metadata": {},
     "output_type": "execute_result"
    }
   ],
   "source": [
    "clf_multi.support_"
   ]
  },
  {
   "cell_type": "code",
   "execution_count": 28,
   "metadata": {},
   "outputs": [],
   "source": [
    "h=0.2\n",
    "x_min, x_max = X3[:, 0].min() - 1, X3[:, 0].max() + 1\n",
    "y_min, y_max = X3[:, 1].min() - 1, X3[:, 1].max() + 1\n",
    "xx, yy = np.meshgrid(np.arange(x_min, x_max, h),\n",
    "                     np.arange(y_min, y_max, h))"
   ]
  },
  {
   "cell_type": "code",
   "execution_count": 29,
   "metadata": {},
   "outputs": [
    {
     "data": {
      "text/plain": [
       "([], [])"
      ]
     },
     "execution_count": 29,
     "metadata": {},
     "output_type": "execute_result"
    },
    {
     "data": {
      "image/png": "[encoded data removed]",
      "text/plain": [
       "<Figure size 432x288 with 1 Axes>"
      ]
     },
     "metadata": {},
     "output_type": "display_data"
    }
   ],
   "source": [
    "Z = clf_multi.predict(np.c_[xx.ravel(), yy.ravel()])\n",
    "Z = Z.reshape(xx.shape)\n",
    "plt.contourf(xx, yy, Z, cmap=plt.cm.coolwarm, alpha=0.8)\n",
    "plt.scatter(X3[:, 0], X3[:, 1], c=y3, cmap=plt.cm.coolwarm)\n",
    "\n",
    "plt.xlim(xx.min(), xx.max())\n",
    "plt.ylim(yy.min(), yy.max())\n",
    "plt.xticks(())\n",
    "plt.yticks(())"
   ]
  },
  {
   "cell_type": "markdown",
   "metadata": {},
   "source": [
    "## Решение задачи классификации текстов"
   ]
  },
  {
   "cell_type": "markdown",
   "metadata": {},
   "source": [
    "Возьмем в качестве примера данные новостей `fetch_20newsgroups` из sklearn и рассмотрим категории \"атеизм\" и \"космос\"."
   ]
  },
  {
   "cell_type": "code",
   "execution_count": 30,
   "metadata": {},
   "outputs": [],
   "source": [
    "from sklearn.datasets import fetch_20newsgroups"
   ]
  },
  {
   "cell_type": "code",
   "execution_count": 31,
   "metadata": {},
   "outputs": [],
   "source": [
    "data = fetch_20newsgroups(subset='all', categories=['alt.atheism', 'sci.space'])"
   ]
  },
  {
   "cell_type": "markdown",
   "metadata": {},
   "source": [
    "Массив с текстами будет находиться в поле `data.data`, номер класса &ndash; в поле `data.target`. В этой задаче для преобразования текстов будем использовать метод Tf-Idf."
   ]
  },
  {
   "cell_type": "markdown",
   "metadata": {},
   "source": [
    "**Задание 1.** Преобразуйте тексты с помощью `TfIdfVectorizer`."
   ]
  },
  {
   "cell_type": "code",
   "execution_count": 32,
   "metadata": {},
   "outputs": [],
   "source": [
    "from sklearn.feature_extraction.text import TfidfVectorizer"
   ]
  },
  {
   "cell_type": "code",
   "execution_count": 33,
   "metadata": {},
   "outputs": [],
   "source": [
    "count_vec = TfidfVectorizer(max_features=30000, sublinear_tf=True, \n",
    "                            strip_accents='unicode', analyzer='word', \n",
    "                            token_pattern=r'\\w{1,}')"
   ]
  },
  {
   "cell_type": "code",
   "execution_count": 34,
   "metadata": {},
   "outputs": [
    {
     "data": {
      "text/plain": [
       "<1786x28419 sparse matrix of type '<class 'numpy.float64'>'\n",
       "\twith 313811 stored elements in Compressed Sparse Row format>"
      ]
     },
     "execution_count": 34,
     "metadata": {},
     "output_type": "execute_result"
    }
   ],
   "source": [
    "comments_vec = count_vec.fit_transform(data.data)\n",
    "comments_vec "
   ]
  },
  {
   "cell_type": "markdown",
   "metadata": {},
   "source": [
    "Реализация SVM находится в классе `sklearn.svm.SVC`. Веса каждого признака у обученного классификатора хранятся в поле `coef_`."
   ]
  },
  {
   "cell_type": "markdown",
   "metadata": {},
   "source": [
    "**Задание 2.** С помощью функции `sklearn.model_selection.GridSearchCV` выберите лучший параметр `C` для SVM с линейным ядром (`kernel='linear'`) из множества $[10^{-5}, 10^{-4}, 10^{-3}, ... , 10^{3}, 10^{4}, 10^{5}]$. Кросс-валидацию выполняйте по 5 блокам с параметром `random_state=241` и\n",
    "для `SVC`, и для `KFold`. Качество оценивайте с помощью метрики `accuracy`."
   ]
  },
  {
   "cell_type": "code",
   "execution_count": 35,
   "metadata": {},
   "outputs": [],
   "source": [
    "from sklearn.model_selection import GridSearchCV\n",
    "from sklearn.model_selection import KFold"
   ]
  },
  {
   "cell_type": "code",
   "execution_count": 36,
   "metadata": {},
   "outputs": [
    {
     "data": {
      "text/plain": [
       "5"
      ]
     },
     "execution_count": 36,
     "metadata": {},
     "output_type": "execute_result"
    }
   ],
   "source": [
    "kfold= KFold(n_splits=5, shuffle=True, random_state=241)\n",
    "kfold.get_n_splits(comments_vec)"
   ]
  },
  {
   "cell_type": "code",
   "execution_count": 37,
   "metadata": {},
   "outputs": [],
   "source": [
    "clf5=svm.SVC(kernel='linear',random_state=241)"
   ]
  },
  {
   "cell_type": "code",
   "execution_count": 38,
   "metadata": {},
   "outputs": [],
   "source": [
    "par=[{'C':[1e-5,1e-4,1e-3,1e-2,1e-1,1e1,1e2,1e3,1e4,1e5]}]"
   ]
  },
  {
   "cell_type": "code",
   "execution_count": 39,
   "metadata": {},
   "outputs": [],
   "source": [
    "gscv=GridSearchCV(clf5,par,scoring='accuracy')"
   ]
  },
  {
   "cell_type": "code",
   "execution_count": 40,
   "metadata": {},
   "outputs": [
    {
     "data": {
      "text/plain": [
       "GridSearchCV(estimator=SVC(kernel='linear', random_state=241),\n",
       "             param_grid=[{'C': [1e-05, 0.0001, 0.001, 0.01, 0.1, 10.0, 100.0,\n",
       "                                1000.0, 10000.0, 100000.0]}],\n",
       "             scoring='accuracy')"
      ]
     },
     "execution_count": 40,
     "metadata": {},
     "output_type": "execute_result"
    }
   ],
   "source": [
    "gscv.fit(comments_vec,data.target)"
   ]
  },
  {
   "cell_type": "markdown",
   "metadata": {},
   "source": [
    "**Задание 3.** Обучите SVM на всей выборке с лучшим параметром `C`. Найдите 10 слов с наибольшим по модулю весом."
   ]
  },
  {
   "cell_type": "code",
   "execution_count": 41,
   "metadata": {},
   "outputs": [
    {
     "data": {
      "text/plain": [
       "SVC(C=10.0, kernel='linear', random_state=241)"
      ]
     },
     "execution_count": 41,
     "metadata": {},
     "output_type": "execute_result"
    }
   ],
   "source": [
    "gscv.best_estimator_"
   ]
  },
  {
   "cell_type": "code",
   "execution_count": 42,
   "metadata": {},
   "outputs": [],
   "source": [
    "clf6= svm.SVC(kernel = 'linear', C = 1e1)"
   ]
  },
  {
   "cell_type": "code",
   "execution_count": 43,
   "metadata": {},
   "outputs": [
    {
     "data": {
      "text/plain": [
       "SVC(C=10.0, kernel='linear')"
      ]
     },
     "execution_count": 43,
     "metadata": {},
     "output_type": "execute_result"
    }
   ],
   "source": [
    "clf6.fit(comments_vec, data.target)"
   ]
  },
  {
   "cell_type": "code",
   "execution_count": 44,
   "metadata": {},
   "outputs": [],
   "source": [
    "list1 = np.array(count_vec.get_feature_names())\n",
    "list2 = clf6.coef_.toarray()[0]"
   ]
  },
  {
   "cell_type": "code",
   "execution_count": 45,
   "metadata": {},
   "outputs": [
    {
     "data": {
      "text/plain": [
       "array(['0', '00', '000', ..., 'zwarte', 'zwork', 'zyklon'], dtype='<U80')"
      ]
     },
     "execution_count": 45,
     "metadata": {},
     "output_type": "execute_result"
    }
   ],
   "source": [
    "list1"
   ]
  },
  {
   "cell_type": "code",
   "execution_count": 46,
   "metadata": {},
   "outputs": [
    {
     "data": {
      "text/plain": [
       "array([-0.11835011,  0.30584603, -0.02345792, ...,  0.03498513,\n",
       "        0.07695514,  0.        ])"
      ]
     },
     "execution_count": 46,
     "metadata": {},
     "output_type": "execute_result"
    }
   ],
   "source": [
    "list2"
   ]
  },
  {
   "cell_type": "code",
   "execution_count": 47,
   "metadata": {},
   "outputs": [],
   "source": [
    "zipp = list(zip(list1, list2))\n",
    "res = sorted(zipp, key = lambda x: x[1])"
   ]
  },
  {
   "cell_type": "code",
   "execution_count": 48,
   "metadata": {},
   "outputs": [
    {
     "data": {
      "text/plain": [
       "[('shuttle', 0.7587932356147854),\n",
       " ('launch', 0.7705166235978583),\n",
       " ('dc', 0.7812051504127667),\n",
       " ('orbit', 0.8016862115644711),\n",
       " ('access', 0.8085385115206064),\n",
       " ('sky', 0.9540165780199089),\n",
       " ('nasa', 1.0875235081692591),\n",
       " ('moon', 1.1349611112129527),\n",
       " ('sci', 1.1469189404821853),\n",
       " ('space', 2.6601259164071323)]"
      ]
     },
     "execution_count": 48,
     "metadata": {},
     "output_type": "execute_result"
    }
   ],
   "source": [
    "res[-10:]"
   ]
  },
  {
   "cell_type": "code",
   "execution_count": null,
   "metadata": {},
   "outputs": [],
   "source": []
  }
 ],
 "metadata": {
  "kernelspec": {
   "display_name": "Python 3 (ipykernel)",
   "language": "python",
   "name": "python3"
  },
  "language_info": {
   "codemirror_mode": {
    "name": "ipython",
    "version": 3
   },
   "file_extension": ".py",
   "mimetype": "text/x-python",
   "name": "python",
   "nbconvert_exporter": "python",
   "pygments_lexer": "ipython3",
   "version": "3.9.7"
  }
 },
 "nbformat": 4,
 "nbformat_minor": 4
}
