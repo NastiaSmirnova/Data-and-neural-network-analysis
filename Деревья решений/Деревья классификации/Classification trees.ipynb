{
 "cells": [
  {
   "cell_type": "markdown",
   "metadata": {},
   "source": [
    "# <center>Деревья классификации</center>"
   ]
  },
  {
   "cell_type": "code",
   "execution_count": 1,
   "metadata": {},
   "outputs": [],
   "source": [
    "import pandas as pd\n",
    "import numpy as np\n",
    "\n",
    "import matplotlib.pyplot as plt\n",
    "%matplotlib inline"
   ]
  },
  {
   "cell_type": "markdown",
   "metadata": {},
   "source": [
    "Рассмотрим задачу бинарной классификации. Сгенерируем обучающую выборку и сохраним её в переменные `(train_data, train_labels)`. Каждый объект характеризуется парой признаков $x_1$ и $x_2$."
   ]
  },
  {
   "cell_type": "code",
   "execution_count": 2,
   "metadata": {},
   "outputs": [],
   "source": [
    "np.random.seed(67)\n",
    "points = np.random.uniform(size=(20, 2), low=-1, high=1)\n",
    "positive = points[np.logical_xor(points[:, 0] >= 0, points[:, 1] >= 0)]\n",
    "negative = points[np.logical_xor(points[:, 0] >= 0, points[:, 1] < 0)]\n",
    "train_data = np.vstack([positive, negative])\n",
    "train_labels = np.hstack([np.ones(positive.shape[0]), np.zeros(negative.shape[0])])"
   ]
  },
  {
   "cell_type": "code",
   "execution_count": 3,
   "metadata": {},
   "outputs": [
    {
     "data": {
      "text/plain": [
       "array([[ 0.37178517, -0.33681636],\n",
       "       [-0.57370028,  0.8650133 ],\n",
       "       [ 0.4456366 , -0.90620939],\n",
       "       [-0.91362246,  0.91001759],\n",
       "       [-0.20464543,  0.05931678]])"
      ]
     },
     "execution_count": 3,
     "metadata": {},
     "output_type": "execute_result"
    }
   ],
   "source": [
    "train_data[:5]"
   ]
  },
  {
   "cell_type": "code",
   "execution_count": 4,
   "metadata": {},
   "outputs": [
    {
     "data": {
      "image/png": "[encoded data removed]",
      "text/plain": [
       "<Figure size 432x288 with 1 Axes>"
      ]
     },
     "metadata": {
      "needs_background": "light"
     },
     "output_type": "display_data"
    }
   ],
   "source": [
    "plt.scatter(train_data[:, 0], train_data[:, 1], \n",
    "            c=train_labels, s=100, cmap='Set1', edgecolors='black', linewidth=1.5)\n",
    "plt.xlim(-1, 1)\n",
    "plt.ylim(-1.2, 1.2)\n",
    "plt.show()"
   ]
  },
  {
   "cell_type": "markdown",
   "metadata": {},
   "source": [
    "**Задание 1.** Выберите предикаты, по которым проводить разбиение. Постройте дерево решений для данной задачи. Какой глубины будет оптимальное дерево?"
   ]
  },
  {
   "cell_type": "code",
   "execution_count": 5,
   "metadata": {},
   "outputs": [],
   "source": [
    "#делим элементы на право-лево\n",
    "X1_right = train_data[train_data[:, 0] > 0] # элементы справа\n",
    "y1_right = train_labels[train_data[:, 0] > 0]\n",
    "\n",
    "X1_left = train_data[train_data[:, 0] <= 0] # элементы слева\n",
    "y1_left = train_labels[train_data[:, 0] <= 0]"
   ]
  },
  {
   "cell_type": "code",
   "execution_count": 6,
   "metadata": {},
   "outputs": [],
   "source": [
    "#делим каждую половину на верз-низ\n",
    "X2_right_u = X1_right[X1_right[:, 1] > 0] #право - верх\n",
    "y2_right_u = y1_right[X1_right[:, 1] > 0]\n",
    "\n",
    "X2_right_d = X1_right[X1_right[:, 1] <= 0] #право - низ\n",
    "y2_right_d = y1_right[X1_right[:, 1] <= 0]\n",
    "\n",
    "\n",
    "X2_left_u = X1_left[X1_left[:, 1] > 0] #лево - верх\n",
    "y2_left_u  = y1_left[X1_left[:, 1] > 0]\n",
    "\n",
    "X2_left_d = X1_left[X1_left[:, 1] <= 0] #лево - низ\n",
    "y2_left_d = y1_left[X1_left[:, 1] <= 0]"
   ]
  },
  {
   "cell_type": "code",
   "execution_count": 7,
   "metadata": {},
   "outputs": [
    {
     "data": {
      "text/plain": [
       "(array([0., 0., 0., 0., 0.]),\n",
       " array([1., 1., 1., 1.]),\n",
       " array([1., 1., 1., 1.]),\n",
       " array([0., 0., 0., 0., 0., 0., 0.]))"
      ]
     },
     "execution_count": 7,
     "metadata": {},
     "output_type": "execute_result"
    }
   ],
   "source": [
    "y2_right_u,y2_right_d,y2_left_u ,y2_left_d"
   ]
  },
  {
   "cell_type": "markdown",
   "metadata": {},
   "source": [
    "**Задание 2.** При построении деревьев классификации используются различные критерии информативности. Сравните начальную энтропию и начальное значение критерия Джини в данной задаче.\n",
    "\n",
    "$$S_0=-p log_2 p-(1-p)log_2(1-p)$$\n",
    "$$G_0=1-p^2-(1-p)^2$$"
   ]
  },
  {
   "cell_type": "code",
   "execution_count": 8,
   "metadata": {},
   "outputs": [],
   "source": [
    "def S(p):\n",
    "        return -p * np.log2(p) - (1 - p) * np.log2(1 - p)\n",
    "def G(p):\n",
    "    return 1 - p*p - (1-p)*(1-p)"
   ]
  },
  {
   "cell_type": "code",
   "execution_count": 9,
   "metadata": {
    "scrolled": true
   },
   "outputs": [
    {
     "data": {
      "text/plain": [
       "0.4"
      ]
     },
     "execution_count": 9,
     "metadata": {},
     "output_type": "execute_result"
    }
   ],
   "source": [
    "p=np.count_nonzero(train_labels)/len(train_labels)\n",
    "p"
   ]
  },
  {
   "cell_type": "code",
   "execution_count": 10,
   "metadata": {},
   "outputs": [
    {
     "data": {
      "text/plain": [
       "0.9709505944546686"
      ]
     },
     "execution_count": 10,
     "metadata": {},
     "output_type": "execute_result"
    }
   ],
   "source": [
    "S(p)"
   ]
  },
  {
   "cell_type": "code",
   "execution_count": 11,
   "metadata": {},
   "outputs": [
    {
     "data": {
      "text/plain": [
       "0.48"
      ]
     },
     "execution_count": 11,
     "metadata": {},
     "output_type": "execute_result"
    }
   ],
   "source": [
    "G(p)"
   ]
  },
  {
   "cell_type": "markdown",
   "metadata": {},
   "source": [
    "**Задание 3.** Определите набор предикатов для данной задачи. Для этого напишите функцию, которая по значениям признака и целевой переменной возвращает список предикатов для выбранного признака. Получите все предикаты по **всем** признакам."
   ]
  },
  {
   "cell_type": "code",
   "execution_count": 12,
   "metadata": {},
   "outputs": [],
   "source": [
    "def predic(x,y):\n",
    "    new_x=x[np.argsort(x)]\n",
    "    new_y=y[np.argsort(x)]\n",
    "    lst=[]\n",
    "    for i in range(len(y)-1):\n",
    "        if new_y[i]!=new_y[i+1]:\n",
    "            lst.append((new_x[i]+new_x[i+1])/2)\n",
    "    return np.array(lst)"
   ]
  },
  {
   "cell_type": "code",
   "execution_count": 13,
   "metadata": {},
   "outputs": [
    {
     "data": {
      "text/plain": [
       "array([-0.8968133 , -0.75660659, -0.6287665 , -0.59901212, -0.55403723,\n",
       "       -0.3450799 , -0.20007115,  0.23787043,  0.63547434])"
      ]
     },
     "execution_count": 13,
     "metadata": {},
     "output_type": "execute_result"
    }
   ],
   "source": [
    "pr1=predic(train_data[:, 0],train_labels) #1 признак\n",
    "pr1"
   ]
  },
  {
   "cell_type": "code",
   "execution_count": 14,
   "metadata": {
    "scrolled": true
   },
   "outputs": [
    {
     "data": {
      "text/plain": [
       "array([-0.94274591, -0.39375319, -0.35333149, -0.31808827, -0.05808716,\n",
       "        0.12152789,  0.43647297,  0.58685395,  0.79136326,  0.91809101])"
      ]
     },
     "execution_count": 14,
     "metadata": {},
     "output_type": "execute_result"
    }
   ],
   "source": [
    "pr2=predic(train_data[:, 1],train_labels) #2 признак\n",
    "pr2"
   ]
  },
  {
   "cell_type": "markdown",
   "metadata": {},
   "source": [
    "**Задание 4.** Для каждого полученного в задании 3 предиката вычислите прирост информации (IG) по **критерию Джини**. Какое правило предлагает поместить в корень дерева указанный критерий? Проведите такое разбиение."
   ]
  },
  {
   "cell_type": "code",
   "execution_count": 15,
   "metadata": {},
   "outputs": [],
   "source": [
    "def find_IG(num_pr,n,train_labels,train_data):\n",
    "    lst=[]\n",
    "    for i in range(len(num_pr)):\n",
    "        X_right = train_data[train_data[:, n] > num_pr[i]]\n",
    "        y_right = train_labels[train_data[:, n] > num_pr[i]]\n",
    "\n",
    "        X_left = train_data[train_data[:, n] <= num_pr[i]]\n",
    "        y_left = train_labels[train_data[:, n] <= num_pr[i]]\n",
    "\n",
    "        if len(y_right)!=0:\n",
    "            p1_r=np.count_nonzero(y_right)/len(y_right)\n",
    "        else:\n",
    "            p1_r=0\n",
    "            \n",
    "        if len(y_left)!=0:\n",
    "            p1_l=np.count_nonzero(y_left)/len(y_left)\n",
    "        else:\n",
    "            p1_l=0\n",
    "            \n",
    "        p_r=len(y_right)/len(train_labels)\n",
    "        p_l=len(y_left)/len(train_labels)\n",
    "        p=np.count_nonzero(train_labels)/len(train_labels)\n",
    "\n",
    "        IG=G(p)-(p_r*G(p1_r)+p_l*G(p1_l))\n",
    "        lst.append(IG)\n",
    "\n",
    "    return np.max(lst),num_pr[np.argsort(lst)][-1]"
   ]
  },
  {
   "cell_type": "code",
   "execution_count": 16,
   "metadata": {},
   "outputs": [
    {
     "data": {
      "text/plain": [
       "(0.06095238095238098, 0.2378704257933334)"
      ]
     },
     "execution_count": 16,
     "metadata": {},
     "output_type": "execute_result"
    }
   ],
   "source": [
    "find_IG(pr1,0,train_labels,train_data) #прирост информации и предикат для признака 1"
   ]
  },
  {
   "cell_type": "code",
   "execution_count": 17,
   "metadata": {},
   "outputs": [
    {
     "data": {
      "text/plain": [
       "(0.06124999999999997, -0.3937531883073182)"
      ]
     },
     "execution_count": 17,
     "metadata": {},
     "output_type": "execute_result"
    }
   ],
   "source": [
    "find_IG(pr2,1,train_labels,train_data) #прирост информации и предикат для признака 2"
   ]
  },
  {
   "cell_type": "markdown",
   "metadata": {},
   "source": [
    "Найдем предикат который дает наилучший прирост информации среди признаков"
   ]
  },
  {
   "cell_type": "code",
   "execution_count": 18,
   "metadata": {},
   "outputs": [],
   "source": [
    "def find_best(r1,r2):\n",
    "    if r1[0]>=r2[0]:\n",
    "        return r1[1],0\n",
    "    else:\n",
    "        return r2[1],1"
   ]
  },
  {
   "cell_type": "code",
   "execution_count": 19,
   "metadata": {},
   "outputs": [
    {
     "data": {
      "text/plain": [
       "(-0.3937531883073182, 1)"
      ]
     },
     "execution_count": 19,
     "metadata": {},
     "output_type": "execute_result"
    }
   ],
   "source": [
    "new_pr=find_best(find_IG(pr1,0,train_labels,train_data),find_IG(pr2,1,train_labels,train_data))\n",
    "new_pr #предикат и по какому признаку"
   ]
  },
  {
   "cell_type": "code",
   "execution_count": 20,
   "metadata": {},
   "outputs": [],
   "source": [
    "#Разбиваем дерево в соответствии с новым предикатом\n",
    "X_right = train_data[train_data[:, new_pr[1]] > new_pr[0]]\n",
    "y_right = train_labels[train_data[:, new_pr[1]] > new_pr[0]]\n",
    "\n",
    "X_left = train_data[train_data[:, new_pr[1]] <= new_pr[0]]\n",
    "y_left = train_labels[train_data[:, new_pr[1]] <= new_pr[0]]"
   ]
  },
  {
   "cell_type": "code",
   "execution_count": 21,
   "metadata": {},
   "outputs": [
    {
     "data": {
      "text/plain": [
       "(array([1., 1., 1., 1., 1., 0., 0., 0., 0., 0., 0., 0., 0., 0., 0., 0.]),\n",
       " array([1., 1., 1., 0.]))"
      ]
     },
     "execution_count": 21,
     "metadata": {},
     "output_type": "execute_result"
    }
   ],
   "source": [
    "y_right,y_left"
   ]
  },
  {
   "cell_type": "markdown",
   "metadata": {},
   "source": [
    "**Задание 5.** Постройте решающее дерево той же глубины, что и в задании 1. С помощью полученного дерева классифицируйте объект с признаками (0.5, 0.3)."
   ]
  },
  {
   "cell_type": "code",
   "execution_count": 22,
   "metadata": {},
   "outputs": [
    {
     "data": {
      "text/plain": [
       "0.4296875"
      ]
     },
     "execution_count": 22,
     "metadata": {},
     "output_type": "execute_result"
    }
   ],
   "source": [
    "#находим критерий джинни для правой и левой части дерева\n",
    "p_r=np.count_nonzero(y_right)/len(y_right)\n",
    "G(p_r)"
   ]
  },
  {
   "cell_type": "code",
   "execution_count": 23,
   "metadata": {},
   "outputs": [
    {
     "data": {
      "text/plain": [
       "0.375"
      ]
     },
     "execution_count": 23,
     "metadata": {},
     "output_type": "execute_result"
    }
   ],
   "source": [
    "p_l=np.count_nonzero(y_left)/len(y_left)\n",
    "G(p_l)"
   ]
  },
  {
   "cell_type": "markdown",
   "metadata": {},
   "source": [
    "### Правое поддерево"
   ]
  },
  {
   "cell_type": "code",
   "execution_count": 24,
   "metadata": {},
   "outputs": [
    {
     "data": {
      "text/plain": [
       "(0.07514204545454539, -0.554037228654128)"
      ]
     },
     "execution_count": 24,
     "metadata": {},
     "output_type": "execute_result"
    }
   ],
   "source": [
    "find_IG(pr1,0,y_right,X_right) #прирост информации и предикат для признака 1 правого поддерава"
   ]
  },
  {
   "cell_type": "code",
   "execution_count": 25,
   "metadata": {},
   "outputs": [
    {
     "data": {
      "text/plain": [
       "(0.07514204545454539, 0.43647296726164697)"
      ]
     },
     "execution_count": 25,
     "metadata": {},
     "output_type": "execute_result"
    }
   ],
   "source": [
    "find_IG(pr2,1,y_right,X_right) #прирост информации и предикат для признака 2 правого поддерава"
   ]
  },
  {
   "cell_type": "code",
   "execution_count": 26,
   "metadata": {},
   "outputs": [
    {
     "data": {
      "text/plain": [
       "(-0.554037228654128, 0)"
      ]
     },
     "execution_count": 26,
     "metadata": {},
     "output_type": "execute_result"
    }
   ],
   "source": [
    "new_pr_r=find_best(find_IG(pr1,0,y_right,X_right),find_IG(pr2,1,y_right,X_right))\n",
    "new_pr_r"
   ]
  },
  {
   "cell_type": "code",
   "execution_count": 27,
   "metadata": {},
   "outputs": [],
   "source": [
    "#делим правое поддерево\n",
    "X2_right_u = X_right[X_right[:, new_pr_r[1]] > new_pr_r[0]]\n",
    "y2_right_u = y_right[X_right[:, new_pr_r[1]] > new_pr_r[0]]\n",
    "\n",
    "X2_right_d = X_right[X_right[:, new_pr_r[1]] <= new_pr_r[0]] \n",
    "y2_right_d = y_right[X_right[:, new_pr_r[1]] <= new_pr_r[0]]"
   ]
  },
  {
   "cell_type": "code",
   "execution_count": 28,
   "metadata": {},
   "outputs": [
    {
     "data": {
      "text/plain": [
       "(array([1., 1., 0., 0., 0., 0., 0., 0., 0., 0., 0.]),\n",
       " array([1., 1., 1., 0., 0.]))"
      ]
     },
     "execution_count": 28,
     "metadata": {},
     "output_type": "execute_result"
    }
   ],
   "source": [
    "y2_right_u ,y2_right_d"
   ]
  },
  {
   "cell_type": "markdown",
   "metadata": {},
   "source": [
    "### Левое поддерево"
   ]
  },
  {
   "cell_type": "code",
   "execution_count": 29,
   "metadata": {},
   "outputs": [
    {
     "data": {
      "text/plain": [
       "(0.375, 0.2378704257933334)"
      ]
     },
     "execution_count": 29,
     "metadata": {},
     "output_type": "execute_result"
    }
   ],
   "source": [
    "find_IG(pr1,0,y_left,X_left) #прирост информации и предикат для признака 1 левого поддерава"
   ]
  },
  {
   "cell_type": "code",
   "execution_count": 30,
   "metadata": {},
   "outputs": [
    {
     "data": {
      "text/plain": [
       "(0.375, -0.9427459061178219)"
      ]
     },
     "execution_count": 30,
     "metadata": {},
     "output_type": "execute_result"
    }
   ],
   "source": [
    "find_IG(pr2,1,y_left,X_left) #прирост информации и предикат для признака 2 левого поддерава"
   ]
  },
  {
   "cell_type": "code",
   "execution_count": 31,
   "metadata": {},
   "outputs": [
    {
     "data": {
      "text/plain": [
       "(0.2378704257933334, 0)"
      ]
     },
     "execution_count": 31,
     "metadata": {},
     "output_type": "execute_result"
    }
   ],
   "source": [
    "new_pr_l=find_best(find_IG(pr1,0,y_left,X_left),find_IG(pr2,1,y_left,X_left))\n",
    "new_pr_l"
   ]
  },
  {
   "cell_type": "code",
   "execution_count": 32,
   "metadata": {},
   "outputs": [],
   "source": [
    "# делим левое поддерево\n",
    "X2_left_u = X_left[X_left[:, new_pr_l[1]] >= new_pr_l[0]]\n",
    "y2_left_u = y_left[X_left[:, new_pr_l[1]] >= new_pr_l[0]]\n",
    "\n",
    "X2_left_d = X_left[X_left[:, new_pr_l[1]] < new_pr_l[0]] \n",
    "y2_left_d = y_left[X_left[:, new_pr_l[1]] < new_pr_l[0]]"
   ]
  },
  {
   "cell_type": "code",
   "execution_count": 33,
   "metadata": {},
   "outputs": [
    {
     "data": {
      "text/plain": [
       "(array([1., 1., 1.]), array([0.]))"
      ]
     },
     "execution_count": 33,
     "metadata": {},
     "output_type": "execute_result"
    }
   ],
   "source": [
    "y2_left_u ,y2_left_d"
   ]
  },
  {
   "cell_type": "markdown",
   "metadata": {},
   "source": [
    "### Итоговое дерево"
   ]
  },
  {
   "cell_type": "code",
   "execution_count": 34,
   "metadata": {},
   "outputs": [
    {
     "data": {
      "text/plain": [
       "(array([1., 1., 0., 0., 0., 0., 0., 0., 0., 0., 0.]),\n",
       " array([1., 1., 1., 0., 0.]),\n",
       " array([1., 1., 1.]),\n",
       " array([0.]))"
      ]
     },
     "execution_count": 34,
     "metadata": {},
     "output_type": "execute_result"
    }
   ],
   "source": [
    "y2_right_u ,y2_right_d,y2_left_u ,y2_left_d"
   ]
  },
  {
   "cell_type": "code",
   "execution_count": 35,
   "metadata": {},
   "outputs": [],
   "source": [
    "def define_class(lis):\n",
    "    if len(lis[lis==1])>len(lis[lis==0]):\n",
    "        return 1\n",
    "    else:\n",
    "        return 0"
   ]
  },
  {
   "cell_type": "markdown",
   "metadata": {},
   "source": [
    "#### Определяем класс вершин"
   ]
  },
  {
   "cell_type": "code",
   "execution_count": 36,
   "metadata": {},
   "outputs": [],
   "source": [
    "v_r_u,v_r_d = define_class(y2_right_u),define_class(y2_right_d)\n",
    "v_l_u,v_l_d = define_class(y2_left_u),define_class(y2_left_d)"
   ]
  },
  {
   "cell_type": "code",
   "execution_count": 37,
   "metadata": {},
   "outputs": [
    {
     "data": {
      "text/plain": [
       "(0, 1, 1, 0)"
      ]
     },
     "execution_count": 37,
     "metadata": {},
     "output_type": "execute_result"
    }
   ],
   "source": [
    "v_r_u,v_r_d,v_l_u,v_l_d"
   ]
  },
  {
   "cell_type": "markdown",
   "metadata": {},
   "source": [
    "То есть право-верх класс 0, право низ класс 1, лево врех класс 1, лево низ класс 0"
   ]
  },
  {
   "cell_type": "markdown",
   "metadata": {},
   "source": [
    "# С помощью полученного дерева классифицируйте объект с признаками (0.5, 0.3)."
   ]
  },
  {
   "cell_type": "code",
   "execution_count": 38,
   "metadata": {},
   "outputs": [],
   "source": [
    "obj=[0.5,0.3]"
   ]
  },
  {
   "cell_type": "code",
   "execution_count": 39,
   "metadata": {},
   "outputs": [
    {
     "name": "stdout",
     "output_type": "stream",
     "text": [
      "Объект класса: 0\n"
     ]
    }
   ],
   "source": [
    "if obj[new_pr[1]] > new_pr[0]:\n",
    "    if obj[new_pr_r[1]]>new_pr_r[0]:\n",
    "        print('Объект класса:',v_r_u)\n",
    "    else:\n",
    "        print('Объект класса:',v_r_d)\n",
    "else:\n",
    "    if obj[new_pr_l[1]]>new_pr_l[0]:\n",
    "        print('Объект класса:',v_l_u)\n",
    "    else:\n",
    "        print('Объект класса:',v_l_d)"
   ]
  },
  {
   "cell_type": "code",
   "execution_count": 40,
   "metadata": {},
   "outputs": [
    {
     "data": {
      "image/png": "[encoded data removed]",
      "text/plain": [
       "<Figure size 432x288 with 1 Axes>"
      ]
     },
     "metadata": {
      "needs_background": "light"
     },
     "output_type": "display_data"
    }
   ],
   "source": [
    "plt.scatter(train_data[:, 0], train_data[:, 1], \n",
    "            c=train_labels, s=100, cmap='Set1', edgecolors='black', linewidth=1.5)\n",
    "plt.xlim(-1, 1)\n",
    "plt.ylim(-1.2, 1.2)\n",
    "plt.scatter(0.5,0.3, s=100, cmap='Set1', edgecolors='black', linewidth=1.5)\n",
    "plt.show()"
   ]
  },
  {
   "cell_type": "markdown",
   "metadata": {},
   "source": [
    "**Задание 6*.** Постройте решающее дерево максимальной глубины, пользуясь критерием Джини. Какой глубины получилось дерево? Отобразите все предикаты на графике."
   ]
  },
  {
   "cell_type": "code",
   "execution_count": null,
   "metadata": {},
   "outputs": [],
   "source": []
  },
  {
   "cell_type": "code",
   "execution_count": null,
   "metadata": {},
   "outputs": [],
   "source": []
  },
  {
   "cell_type": "code",
   "execution_count": null,
   "metadata": {},
   "outputs": [],
   "source": []
  }
 ],
 "metadata": {
  "kernelspec": {
   "display_name": "Python 3",
   "language": "python",
   "name": "python3"
  },
  "language_info": {
   "codemirror_mode": {
    "name": "ipython",
    "version": 3
   },
   "file_extension": ".py",
   "mimetype": "text/x-python",
   "name": "python",
   "nbconvert_exporter": "python",
   "pygments_lexer": "ipython3",
   "version": "3.8.8"
  }
 },
 "nbformat": 4,
 "nbformat_minor": 4
}
