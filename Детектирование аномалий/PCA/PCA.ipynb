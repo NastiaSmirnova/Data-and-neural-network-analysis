{
 "cells": [
  {
   "cell_type": "code",
   "execution_count": 1,
   "metadata": {},
   "outputs": [],
   "source": [
    "import numpy as np\n",
    "import pandas as pd\n",
    "import seaborn as sns   \n",
    "import matplotlib.pyplot as plt"
   ]
  },
  {
   "cell_type": "markdown",
   "metadata": {},
   "source": [
    "# Задача. Разделить европейские страны на группы со схожей структурой занятости. "
   ]
  },
  {
   "cell_type": "markdown",
   "metadata": {},
   "source": [
    "#### 0) Описание данных"
   ]
  },
  {
   "cell_type": "markdown",
   "metadata": {},
   "source": [
    "Файл содержит данные о проценте населения, занятого в различных отраслях занятости в странах Европы в 1979. Список отраслей состоит из agriculture, mining, manufacturing, power supplies, construction, service industries, finance, social and personal services, and transport and communications. "
   ]
  },
  {
   "attachments": {
    "image-3.png": {
     "image/png": "[encoded data removed]"
    }
   },
   "cell_type": "markdown",
   "metadata": {},
   "source": [
    "![image-3.png](attachment:image-3.png)"
   ]
  },
  {
   "cell_type": "markdown",
   "metadata": {},
   "source": [
    "#### 1) Ввод и проверка данных"
   ]
  },
  {
   "cell_type": "code",
   "execution_count": 2,
   "metadata": {},
   "outputs": [
    {
     "data": {
      "text/html": [
       "<div>\n",
       "<style scoped>\n",
       "    .dataframe tbody tr th:only-of-type {\n",
       "        vertical-align: middle;\n",
       "    }\n",
       "\n",
       "    .dataframe tbody tr th {\n",
       "        vertical-align: top;\n",
       "    }\n",
       "\n",
       "    .dataframe thead th {\n",
       "        text-align: right;\n",
       "    }\n",
       "</style>\n",
       "<table border=\"1\" class=\"dataframe\">\n",
       "  <thead>\n",
       "    <tr style=\"text-align: right;\">\n",
       "      <th></th>\n",
       "      <th>Agr</th>\n",
       "      <th>Min</th>\n",
       "      <th>Man</th>\n",
       "      <th>PS</th>\n",
       "      <th>Con</th>\n",
       "      <th>SI</th>\n",
       "      <th>Fin</th>\n",
       "      <th>SPS</th>\n",
       "      <th>TC</th>\n",
       "    </tr>\n",
       "    <tr>\n",
       "      <th>Country</th>\n",
       "      <th></th>\n",
       "      <th></th>\n",
       "      <th></th>\n",
       "      <th></th>\n",
       "      <th></th>\n",
       "      <th></th>\n",
       "      <th></th>\n",
       "      <th></th>\n",
       "      <th></th>\n",
       "    </tr>\n",
       "  </thead>\n",
       "  <tbody>\n",
       "    <tr>\n",
       "      <th>Belgium</th>\n",
       "      <td>3.3</td>\n",
       "      <td>0.9</td>\n",
       "      <td>27.6</td>\n",
       "      <td>0.9</td>\n",
       "      <td>8.2</td>\n",
       "      <td>19.1</td>\n",
       "      <td>6.2</td>\n",
       "      <td>26.6</td>\n",
       "      <td>7.2</td>\n",
       "    </tr>\n",
       "    <tr>\n",
       "      <th>Denmark</th>\n",
       "      <td>9.2</td>\n",
       "      <td>0.1</td>\n",
       "      <td>21.8</td>\n",
       "      <td>0.6</td>\n",
       "      <td>8.3</td>\n",
       "      <td>14.6</td>\n",
       "      <td>6.5</td>\n",
       "      <td>32.2</td>\n",
       "      <td>7.1</td>\n",
       "    </tr>\n",
       "    <tr>\n",
       "      <th>France</th>\n",
       "      <td>10.8</td>\n",
       "      <td>0.8</td>\n",
       "      <td>27.5</td>\n",
       "      <td>0.9</td>\n",
       "      <td>8.9</td>\n",
       "      <td>16.8</td>\n",
       "      <td>6.0</td>\n",
       "      <td>22.6</td>\n",
       "      <td>5.7</td>\n",
       "    </tr>\n",
       "    <tr>\n",
       "      <th>W_Germany</th>\n",
       "      <td>6.7</td>\n",
       "      <td>1.3</td>\n",
       "      <td>35.8</td>\n",
       "      <td>0.9</td>\n",
       "      <td>7.3</td>\n",
       "      <td>14.4</td>\n",
       "      <td>5.0</td>\n",
       "      <td>22.3</td>\n",
       "      <td>6.1</td>\n",
       "    </tr>\n",
       "    <tr>\n",
       "      <th>Ireland</th>\n",
       "      <td>23.2</td>\n",
       "      <td>1.0</td>\n",
       "      <td>20.7</td>\n",
       "      <td>1.3</td>\n",
       "      <td>7.5</td>\n",
       "      <td>16.8</td>\n",
       "      <td>2.8</td>\n",
       "      <td>20.8</td>\n",
       "      <td>6.1</td>\n",
       "    </tr>\n",
       "  </tbody>\n",
       "</table>\n",
       "</div>"
      ],
      "text/plain": [
       "            Agr  Min   Man   PS  Con    SI  Fin   SPS   TC\n",
       "Country                                                   \n",
       "Belgium     3.3  0.9  27.6  0.9  8.2  19.1  6.2  26.6  7.2\n",
       "Denmark     9.2  0.1  21.8  0.6  8.3  14.6  6.5  32.2  7.1\n",
       "France     10.8  0.8  27.5  0.9  8.9  16.8  6.0  22.6  5.7\n",
       "W_Germany   6.7  1.3  35.8  0.9  7.3  14.4  5.0  22.3  6.1\n",
       "Ireland    23.2  1.0  20.7  1.3  7.5  16.8  2.8  20.8  6.1"
      ]
     },
     "execution_count": 2,
     "metadata": {},
     "output_type": "execute_result"
    }
   ],
   "source": [
    "df = pd.read_excel('European.xlsx',index_col='Country')\n",
    "df.head()"
   ]
  },
  {
   "cell_type": "code",
   "execution_count": 3,
   "metadata": {},
   "outputs": [
    {
     "name": "stdout",
     "output_type": "stream",
     "text": [
      "(26, 9)\n",
      "<class 'pandas.core.frame.DataFrame'>\n",
      "Index: 26 entries, Belgium to Yugoslavia\n",
      "Data columns (total 9 columns):\n",
      " #   Column  Non-Null Count  Dtype  \n",
      "---  ------  --------------  -----  \n",
      " 0   Agr     26 non-null     float64\n",
      " 1   Min     26 non-null     float64\n",
      " 2   Man     26 non-null     float64\n",
      " 3   PS      26 non-null     float64\n",
      " 4   Con     26 non-null     float64\n",
      " 5   SI      26 non-null     float64\n",
      " 6   Fin     26 non-null     float64\n",
      " 7   SPS     26 non-null     float64\n",
      " 8   TC      26 non-null     float64\n",
      "dtypes: float64(9)\n",
      "memory usage: 2.0+ KB\n"
     ]
    }
   ],
   "source": [
    "# Проверяем есть ли пропущенные значения?\n",
    "\n",
    "print(df.shape)\n",
    "df.info()               "
   ]
  },
  {
   "cell_type": "markdown",
   "metadata": {},
   "source": [
    "Пропущенных значений в данных нет"
   ]
  },
  {
   "cell_type": "code",
   "execution_count": 4,
   "metadata": {
    "scrolled": true
   },
   "outputs": [
    {
     "data": {
      "image/png": "[encoded data removed]",
      "text/plain": [
       "<Figure size 576x360 with 1 Axes>"
      ]
     },
     "metadata": {
      "needs_background": "light"
     },
     "output_type": "display_data"
    }
   ],
   "source": [
    " #Проверяем есть ли выбросы?\n",
    "    \n",
    "fig, ax = plt.subplots(1, 1, figsize=(8, 5))     \n",
    "sns.boxplot(data=df, ax=ax, orient=\"h\")           \n",
    "plt.show()                       "
   ]
  },
  {
   "cell_type": "markdown",
   "metadata": {},
   "source": [
    "Можем считать что выбрасов нет, данные точки это выбрасы с точки зрения подхода к boxplot."
   ]
  },
  {
   "cell_type": "markdown",
   "metadata": {},
   "source": [
    "Таким образом Дальше можем продолжать работать:"
   ]
  },
  {
   "cell_type": "markdown",
   "metadata": {},
   "source": [
    "#### 2) Проверка применимости МГК  (РСА)"
   ]
  },
  {
   "cell_type": "code",
   "execution_count": 5,
   "metadata": {},
   "outputs": [],
   "source": [
    "# Наличие корреляции\n",
    "# Коррелограмма\n",
    "dfCor=df.corr()"
   ]
  },
  {
   "cell_type": "code",
   "execution_count": 6,
   "metadata": {},
   "outputs": [
    {
     "data": {
      "image/png": "[encoded data removed]",
      "text/plain": [
       "<Figure size 576x432 with 2 Axes>"
      ]
     },
     "metadata": {
      "needs_background": "light"
     },
     "output_type": "display_data"
    }
   ],
   "source": [
    "plt.figure(figsize=(8, 6))\n",
    "sns.heatmap(dfCor,xticklabels=dfCor.columns, \\\n",
    "            yticklabels=dfCor.columns, \\\n",
    "            center=0,annot=True)\n",
    "plt.title('Коррелограмма', fontsize=18)\n",
    "plt.xticks(fontsize=10)\n",
    "plt.yticks(fontsize=10)\n",
    "plt.show()"
   ]
  },
  {
   "cell_type": "markdown",
   "metadata": {},
   "source": [
    "### Метод Главных Компонент"
   ]
  },
  {
   "cell_type": "markdown",
   "metadata": {},
   "source": [
    "#### 3) Стандартизация:  данные центрируются (среднее=0) и нормируются (дисперсия=1)"
   ]
  },
  {
   "cell_type": "code",
   "execution_count": 7,
   "metadata": {},
   "outputs": [],
   "source": [
    "from sklearn.preprocessing import StandardScaler"
   ]
  },
  {
   "cell_type": "code",
   "execution_count": 8,
   "metadata": {},
   "outputs": [],
   "source": [
    "sc=StandardScaler()              # создать ОБЪЕКТ класса\n",
    "df_sc = sc.fit_transform(df)     # применить метод"
   ]
  },
  {
   "cell_type": "code",
   "execution_count": 9,
   "metadata": {},
   "outputs": [
    {
     "data": {
      "text/plain": [
       "numpy.ndarray"
      ]
     },
     "execution_count": 9,
     "metadata": {},
     "output_type": "execute_result"
    }
   ],
   "source": [
    "type(df_sc)"
   ]
  },
  {
   "cell_type": "code",
   "execution_count": 10,
   "metadata": {},
   "outputs": [
    {
     "data": {
      "text/plain": [
       "array([19.13076923,  1.25384615, 27.00769231,  0.90769231,  8.16538462,\n",
       "       12.95769231,  4.        , 20.02307692,  6.54615385])"
      ]
     },
     "execution_count": 10,
     "metadata": {},
     "output_type": "execute_result"
    }
   ],
   "source": [
    "sc.mean_ #средние исходного набора"
   ]
  },
  {
   "cell_type": "code",
   "execution_count": 11,
   "metadata": {},
   "outputs": [
    {
     "data": {
      "text/plain": [
       "array([2.32399822e+02, 9.04792899e-01, 4.72199408e+01, 1.36094675e-01,\n",
       "       2.60380178e+00, 2.01278254e+01, 7.57384615e+00, 4.48486982e+01,\n",
       "       1.86171598e+00])"
      ]
     },
     "execution_count": 11,
     "metadata": {},
     "output_type": "execute_result"
    }
   ],
   "source": [
    "sc.var_ #дисперсии исходного набора"
   ]
  },
  {
   "cell_type": "code",
   "execution_count": 12,
   "metadata": {},
   "outputs": [
    {
     "data": {
      "text/html": [
       "<div>\n",
       "<style scoped>\n",
       "    .dataframe tbody tr th:only-of-type {\n",
       "        vertical-align: middle;\n",
       "    }\n",
       "\n",
       "    .dataframe tbody tr th {\n",
       "        vertical-align: top;\n",
       "    }\n",
       "\n",
       "    .dataframe thead th {\n",
       "        text-align: right;\n",
       "    }\n",
       "</style>\n",
       "<table border=\"1\" class=\"dataframe\">\n",
       "  <thead>\n",
       "    <tr style=\"text-align: right;\">\n",
       "      <th></th>\n",
       "      <th>1</th>\n",
       "      <th>2</th>\n",
       "      <th>3</th>\n",
       "      <th>4</th>\n",
       "      <th>5</th>\n",
       "      <th>6</th>\n",
       "      <th>7</th>\n",
       "      <th>8</th>\n",
       "      <th>9</th>\n",
       "    </tr>\n",
       "  </thead>\n",
       "  <tbody>\n",
       "    <tr>\n",
       "      <th>1</th>\n",
       "      <td>-1.038446</td>\n",
       "      <td>-0.371997</td>\n",
       "      <td>0.086196</td>\n",
       "      <td>-0.020851</td>\n",
       "      <td>0.021452</td>\n",
       "      <td>1.369094</td>\n",
       "      <td>0.799401</td>\n",
       "      <td>0.982082</td>\n",
       "      <td>0.479202</td>\n",
       "    </tr>\n",
       "    <tr>\n",
       "      <th>2</th>\n",
       "      <td>-0.651426</td>\n",
       "      <td>-1.213035</td>\n",
       "      <td>-0.757849</td>\n",
       "      <td>-0.834058</td>\n",
       "      <td>0.083424</td>\n",
       "      <td>0.366063</td>\n",
       "      <td>0.908410</td>\n",
       "      <td>1.818288</td>\n",
       "      <td>0.405913</td>\n",
       "    </tr>\n",
       "    <tr>\n",
       "      <th>3</th>\n",
       "      <td>-0.546471</td>\n",
       "      <td>-0.477127</td>\n",
       "      <td>0.071643</td>\n",
       "      <td>-0.020851</td>\n",
       "      <td>0.455256</td>\n",
       "      <td>0.856434</td>\n",
       "      <td>0.726728</td>\n",
       "      <td>0.384792</td>\n",
       "      <td>-0.620144</td>\n",
       "    </tr>\n",
       "    <tr>\n",
       "      <th>4</th>\n",
       "      <td>-0.815418</td>\n",
       "      <td>0.048521</td>\n",
       "      <td>1.279500</td>\n",
       "      <td>-0.020851</td>\n",
       "      <td>-0.536297</td>\n",
       "      <td>0.321484</td>\n",
       "      <td>0.363364</td>\n",
       "      <td>0.339996</td>\n",
       "      <td>-0.326985</td>\n",
       "    </tr>\n",
       "    <tr>\n",
       "      <th>5</th>\n",
       "      <td>0.266928</td>\n",
       "      <td>-0.266868</td>\n",
       "      <td>-0.917926</td>\n",
       "      <td>1.063424</td>\n",
       "      <td>-0.412353</td>\n",
       "      <td>0.856434</td>\n",
       "      <td>-0.436037</td>\n",
       "      <td>0.116012</td>\n",
       "      <td>-0.326985</td>\n",
       "    </tr>\n",
       "  </tbody>\n",
       "</table>\n",
       "</div>"
      ],
      "text/plain": [
       "          1         2         3         4         5         6         7  \\\n",
       "1 -1.038446 -0.371997  0.086196 -0.020851  0.021452  1.369094  0.799401   \n",
       "2 -0.651426 -1.213035 -0.757849 -0.834058  0.083424  0.366063  0.908410   \n",
       "3 -0.546471 -0.477127  0.071643 -0.020851  0.455256  0.856434  0.726728   \n",
       "4 -0.815418  0.048521  1.279500 -0.020851 -0.536297  0.321484  0.363364   \n",
       "5  0.266928 -0.266868 -0.917926  1.063424 -0.412353  0.856434 -0.436037   \n",
       "\n",
       "          8         9  \n",
       "1  0.982082  0.479202  \n",
       "2  1.818288  0.405913  \n",
       "3  0.384792 -0.620144  \n",
       "4  0.339996 -0.326985  \n",
       "5  0.116012 -0.326985  "
      ]
     },
     "execution_count": 12,
     "metadata": {},
     "output_type": "execute_result"
    }
   ],
   "source": [
    "df1 = pd.DataFrame(df_sc) # ndarray в DataFrame\n",
    "df1.columns = df1.columns+1\n",
    "df1.index = df1.index + 1\n",
    "df1.head()"
   ]
  },
  {
   "cell_type": "code",
   "execution_count": 13,
   "metadata": {},
   "outputs": [
    {
     "data": {
      "text/plain": [
       "(26, 9)"
      ]
     },
     "execution_count": 13,
     "metadata": {},
     "output_type": "execute_result"
    }
   ],
   "source": [
    "df1.shape"
   ]
  },
  {
   "cell_type": "markdown",
   "metadata": {},
   "source": [
    "#### 4) Найдем корреляционную матрицу"
   ]
  },
  {
   "cell_type": "code",
   "execution_count": 14,
   "metadata": {},
   "outputs": [
    {
     "data": {
      "text/html": [
       "<div>\n",
       "<style scoped>\n",
       "    .dataframe tbody tr th:only-of-type {\n",
       "        vertical-align: middle;\n",
       "    }\n",
       "\n",
       "    .dataframe tbody tr th {\n",
       "        vertical-align: top;\n",
       "    }\n",
       "\n",
       "    .dataframe thead th {\n",
       "        text-align: right;\n",
       "    }\n",
       "</style>\n",
       "<table border=\"1\" class=\"dataframe\">\n",
       "  <thead>\n",
       "    <tr style=\"text-align: right;\">\n",
       "      <th></th>\n",
       "      <th>1</th>\n",
       "      <th>2</th>\n",
       "      <th>3</th>\n",
       "      <th>4</th>\n",
       "      <th>5</th>\n",
       "      <th>6</th>\n",
       "      <th>7</th>\n",
       "      <th>8</th>\n",
       "      <th>9</th>\n",
       "    </tr>\n",
       "  </thead>\n",
       "  <tbody>\n",
       "    <tr>\n",
       "      <th>1</th>\n",
       "      <td>1.000000</td>\n",
       "      <td>0.035799</td>\n",
       "      <td>-0.671098</td>\n",
       "      <td>-0.400051</td>\n",
       "      <td>-0.538325</td>\n",
       "      <td>-0.736981</td>\n",
       "      <td>-0.219836</td>\n",
       "      <td>-0.746790</td>\n",
       "      <td>-0.564920</td>\n",
       "    </tr>\n",
       "    <tr>\n",
       "      <th>2</th>\n",
       "      <td>0.035799</td>\n",
       "      <td>1.000000</td>\n",
       "      <td>0.445196</td>\n",
       "      <td>0.405455</td>\n",
       "      <td>-0.025598</td>\n",
       "      <td>-0.396565</td>\n",
       "      <td>-0.442683</td>\n",
       "      <td>-0.281012</td>\n",
       "      <td>0.156629</td>\n",
       "    </tr>\n",
       "    <tr>\n",
       "      <th>3</th>\n",
       "      <td>-0.671098</td>\n",
       "      <td>0.445196</td>\n",
       "      <td>1.000000</td>\n",
       "      <td>0.385346</td>\n",
       "      <td>0.494479</td>\n",
       "      <td>0.203826</td>\n",
       "      <td>-0.155829</td>\n",
       "      <td>0.154171</td>\n",
       "      <td>0.350692</td>\n",
       "    </tr>\n",
       "    <tr>\n",
       "      <th>4</th>\n",
       "      <td>-0.400051</td>\n",
       "      <td>0.405455</td>\n",
       "      <td>0.385346</td>\n",
       "      <td>1.000000</td>\n",
       "      <td>0.059889</td>\n",
       "      <td>0.201907</td>\n",
       "      <td>0.109862</td>\n",
       "      <td>0.132411</td>\n",
       "      <td>0.375231</td>\n",
       "    </tr>\n",
       "    <tr>\n",
       "      <th>5</th>\n",
       "      <td>-0.538325</td>\n",
       "      <td>-0.025598</td>\n",
       "      <td>0.494479</td>\n",
       "      <td>0.059889</td>\n",
       "      <td>1.000000</td>\n",
       "      <td>0.356022</td>\n",
       "      <td>0.016283</td>\n",
       "      <td>0.158243</td>\n",
       "      <td>0.387662</td>\n",
       "    </tr>\n",
       "    <tr>\n",
       "      <th>6</th>\n",
       "      <td>-0.736981</td>\n",
       "      <td>-0.396565</td>\n",
       "      <td>0.203826</td>\n",
       "      <td>0.201907</td>\n",
       "      <td>0.356022</td>\n",
       "      <td>1.000000</td>\n",
       "      <td>0.365555</td>\n",
       "      <td>0.572173</td>\n",
       "      <td>0.187554</td>\n",
       "    </tr>\n",
       "    <tr>\n",
       "      <th>7</th>\n",
       "      <td>-0.219836</td>\n",
       "      <td>-0.442683</td>\n",
       "      <td>-0.155829</td>\n",
       "      <td>0.109862</td>\n",
       "      <td>0.016283</td>\n",
       "      <td>0.365555</td>\n",
       "      <td>1.000000</td>\n",
       "      <td>0.107640</td>\n",
       "      <td>-0.245926</td>\n",
       "    </tr>\n",
       "    <tr>\n",
       "      <th>8</th>\n",
       "      <td>-0.746790</td>\n",
       "      <td>-0.281012</td>\n",
       "      <td>0.154171</td>\n",
       "      <td>0.132411</td>\n",
       "      <td>0.158243</td>\n",
       "      <td>0.572173</td>\n",
       "      <td>0.107640</td>\n",
       "      <td>1.000000</td>\n",
       "      <td>0.567867</td>\n",
       "    </tr>\n",
       "    <tr>\n",
       "      <th>9</th>\n",
       "      <td>-0.564920</td>\n",
       "      <td>0.156629</td>\n",
       "      <td>0.350692</td>\n",
       "      <td>0.375231</td>\n",
       "      <td>0.387662</td>\n",
       "      <td>0.187554</td>\n",
       "      <td>-0.245926</td>\n",
       "      <td>0.567867</td>\n",
       "      <td>1.000000</td>\n",
       "    </tr>\n",
       "  </tbody>\n",
       "</table>\n",
       "</div>"
      ],
      "text/plain": [
       "          1         2         3         4         5         6         7  \\\n",
       "1  1.000000  0.035799 -0.671098 -0.400051 -0.538325 -0.736981 -0.219836   \n",
       "2  0.035799  1.000000  0.445196  0.405455 -0.025598 -0.396565 -0.442683   \n",
       "3 -0.671098  0.445196  1.000000  0.385346  0.494479  0.203826 -0.155829   \n",
       "4 -0.400051  0.405455  0.385346  1.000000  0.059889  0.201907  0.109862   \n",
       "5 -0.538325 -0.025598  0.494479  0.059889  1.000000  0.356022  0.016283   \n",
       "6 -0.736981 -0.396565  0.203826  0.201907  0.356022  1.000000  0.365555   \n",
       "7 -0.219836 -0.442683 -0.155829  0.109862  0.016283  0.365555  1.000000   \n",
       "8 -0.746790 -0.281012  0.154171  0.132411  0.158243  0.572173  0.107640   \n",
       "9 -0.564920  0.156629  0.350692  0.375231  0.387662  0.187554 -0.245926   \n",
       "\n",
       "          8         9  \n",
       "1 -0.746790 -0.564920  \n",
       "2 -0.281012  0.156629  \n",
       "3  0.154171  0.350692  \n",
       "4  0.132411  0.375231  \n",
       "5  0.158243  0.387662  \n",
       "6  0.572173  0.187554  \n",
       "7  0.107640 -0.245926  \n",
       "8  1.000000  0.567867  \n",
       "9  0.567867  1.000000  "
      ]
     },
     "execution_count": 14,
     "metadata": {},
     "output_type": "execute_result"
    }
   ],
   "source": [
    "dcorr=df1.corr()   #  применяется к DataFrame\n",
    "dcorr"
   ]
  },
  {
   "cell_type": "code",
   "execution_count": 15,
   "metadata": {},
   "outputs": [
    {
     "data": {
      "text/plain": [
       "(9, 9)"
      ]
     },
     "execution_count": 15,
     "metadata": {},
     "output_type": "execute_result"
    }
   ],
   "source": [
    "dcorr.shape"
   ]
  },
  {
   "cell_type": "markdown",
   "metadata": {},
   "source": [
    "#### 5) Найдем собственные числа и собственые векторы"
   ]
  },
  {
   "cell_type": "code",
   "execution_count": 16,
   "metadata": {},
   "outputs": [],
   "source": [
    "eigenvalues, eigenvectors = np.linalg.eig(dcorr)"
   ]
  },
  {
   "cell_type": "code",
   "execution_count": 17,
   "metadata": {},
   "outputs": [
    {
     "data": {
      "text/plain": [
       "array([3.48715127e+00, 2.13017314e+00, 1.09895761e+00, 9.94482978e-01,\n",
       "       5.43217725e-01, 4.56251025e-05, 3.83427666e-01, 2.25754055e-01,\n",
       "       1.36789926e-01])"
      ]
     },
     "execution_count": 17,
     "metadata": {},
     "output_type": "execute_result"
    }
   ],
   "source": [
    "eigenvalues "
   ]
  },
  {
   "cell_type": "code",
   "execution_count": 18,
   "metadata": {
    "scrolled": false
   },
   "outputs": [
    {
     "data": {
      "text/html": [
       "<div>\n",
       "<style scoped>\n",
       "    .dataframe tbody tr th:only-of-type {\n",
       "        vertical-align: middle;\n",
       "    }\n",
       "\n",
       "    .dataframe tbody tr th {\n",
       "        vertical-align: top;\n",
       "    }\n",
       "\n",
       "    .dataframe thead th {\n",
       "        text-align: right;\n",
       "    }\n",
       "</style>\n",
       "<table border=\"1\" class=\"dataframe\">\n",
       "  <thead>\n",
       "    <tr style=\"text-align: right;\">\n",
       "      <th></th>\n",
       "      <th>1</th>\n",
       "      <th>2</th>\n",
       "      <th>3</th>\n",
       "      <th>4</th>\n",
       "      <th>5</th>\n",
       "      <th>6</th>\n",
       "      <th>7</th>\n",
       "      <th>8</th>\n",
       "      <th>9</th>\n",
       "    </tr>\n",
       "  </thead>\n",
       "  <tbody>\n",
       "    <tr>\n",
       "      <th>Agr</th>\n",
       "      <td>0.523791</td>\n",
       "      <td>0.053594</td>\n",
       "      <td>0.048674</td>\n",
       "      <td>0.028793</td>\n",
       "      <td>0.212703</td>\n",
       "      <td>0.806418</td>\n",
       "      <td>-0.153307</td>\n",
       "      <td>-0.021321</td>\n",
       "      <td>0.007922</td>\n",
       "    </tr>\n",
       "    <tr>\n",
       "      <th>Min</th>\n",
       "      <td>0.001323</td>\n",
       "      <td>0.617807</td>\n",
       "      <td>-0.201100</td>\n",
       "      <td>0.064085</td>\n",
       "      <td>-0.163743</td>\n",
       "      <td>0.048563</td>\n",
       "      <td>0.100590</td>\n",
       "      <td>0.725719</td>\n",
       "      <td>0.088363</td>\n",
       "    </tr>\n",
       "    <tr>\n",
       "      <th>Man</th>\n",
       "      <td>-0.347495</td>\n",
       "      <td>0.355054</td>\n",
       "      <td>-0.150463</td>\n",
       "      <td>-0.346088</td>\n",
       "      <td>-0.384958</td>\n",
       "      <td>0.365957</td>\n",
       "      <td>0.288152</td>\n",
       "      <td>-0.479363</td>\n",
       "      <td>0.125818</td>\n",
       "    </tr>\n",
       "    <tr>\n",
       "      <th>PS</th>\n",
       "      <td>-0.255716</td>\n",
       "      <td>0.261096</td>\n",
       "      <td>-0.561083</td>\n",
       "      <td>0.393309</td>\n",
       "      <td>0.295172</td>\n",
       "      <td>0.019385</td>\n",
       "      <td>-0.357264</td>\n",
       "      <td>-0.255647</td>\n",
       "      <td>-0.341228</td>\n",
       "    </tr>\n",
       "    <tr>\n",
       "      <th>Con</th>\n",
       "      <td>-0.325179</td>\n",
       "      <td>0.051288</td>\n",
       "      <td>0.153321</td>\n",
       "      <td>-0.668324</td>\n",
       "      <td>0.471593</td>\n",
       "      <td>0.082572</td>\n",
       "      <td>-0.130354</td>\n",
       "      <td>0.220695</td>\n",
       "      <td>-0.355734</td>\n",
       "    </tr>\n",
       "    <tr>\n",
       "      <th>SI</th>\n",
       "      <td>-0.378920</td>\n",
       "      <td>-0.350172</td>\n",
       "      <td>-0.115096</td>\n",
       "      <td>-0.050157</td>\n",
       "      <td>-0.283568</td>\n",
       "      <td>0.238299</td>\n",
       "      <td>-0.614829</td>\n",
       "      <td>0.229435</td>\n",
       "      <td>0.387537</td>\n",
       "    </tr>\n",
       "    <tr>\n",
       "      <th>Fin</th>\n",
       "      <td>-0.074374</td>\n",
       "      <td>-0.453698</td>\n",
       "      <td>-0.587361</td>\n",
       "      <td>-0.051567</td>\n",
       "      <td>0.279568</td>\n",
       "      <td>0.145171</td>\n",
       "      <td>0.525558</td>\n",
       "      <td>0.187455</td>\n",
       "      <td>0.174329</td>\n",
       "    </tr>\n",
       "    <tr>\n",
       "      <th>SPS</th>\n",
       "      <td>-0.387409</td>\n",
       "      <td>-0.221521</td>\n",
       "      <td>0.311904</td>\n",
       "      <td>0.412230</td>\n",
       "      <td>-0.220351</td>\n",
       "      <td>0.350942</td>\n",
       "      <td>0.262910</td>\n",
       "      <td>0.191302</td>\n",
       "      <td>-0.506154</td>\n",
       "    </tr>\n",
       "    <tr>\n",
       "      <th>TC</th>\n",
       "      <td>-0.366823</td>\n",
       "      <td>0.202592</td>\n",
       "      <td>0.375106</td>\n",
       "      <td>0.314372</td>\n",
       "      <td>0.512936</td>\n",
       "      <td>0.072055</td>\n",
       "      <td>0.123976</td>\n",
       "      <td>-0.068193</td>\n",
       "      <td>0.544562</td>\n",
       "    </tr>\n",
       "  </tbody>\n",
       "</table>\n",
       "</div>"
      ],
      "text/plain": [
       "            1         2         3         4         5         6         7  \\\n",
       "Agr  0.523791  0.053594  0.048674  0.028793  0.212703  0.806418 -0.153307   \n",
       "Min  0.001323  0.617807 -0.201100  0.064085 -0.163743  0.048563  0.100590   \n",
       "Man -0.347495  0.355054 -0.150463 -0.346088 -0.384958  0.365957  0.288152   \n",
       "PS  -0.255716  0.261096 -0.561083  0.393309  0.295172  0.019385 -0.357264   \n",
       "Con -0.325179  0.051288  0.153321 -0.668324  0.471593  0.082572 -0.130354   \n",
       "SI  -0.378920 -0.350172 -0.115096 -0.050157 -0.283568  0.238299 -0.614829   \n",
       "Fin -0.074374 -0.453698 -0.587361 -0.051567  0.279568  0.145171  0.525558   \n",
       "SPS -0.387409 -0.221521  0.311904  0.412230 -0.220351  0.350942  0.262910   \n",
       "TC  -0.366823  0.202592  0.375106  0.314372  0.512936  0.072055  0.123976   \n",
       "\n",
       "            8         9  \n",
       "Agr -0.021321  0.007922  \n",
       "Min  0.725719  0.088363  \n",
       "Man -0.479363  0.125818  \n",
       "PS  -0.255647 -0.341228  \n",
       "Con  0.220695 -0.355734  \n",
       "SI   0.229435  0.387537  \n",
       "Fin  0.187455  0.174329  \n",
       "SPS  0.191302 -0.506154  \n",
       "TC  -0.068193  0.544562  "
      ]
     },
     "execution_count": 18,
     "metadata": {},
     "output_type": "execute_result"
    }
   ],
   "source": [
    "pd.DataFrame(eigenvectors,columns=dcorr.columns,index=df.columns)"
   ]
  },
  {
   "cell_type": "markdown",
   "metadata": {},
   "source": [
    "## Отбор факторов"
   ]
  },
  {
   "cell_type": "code",
   "execution_count": 19,
   "metadata": {},
   "outputs": [
    {
     "data": {
      "image/png": "[encoded data removed]",
      "text/plain": [
       "<Figure size 576x432 with 1 Axes>"
      ]
     },
     "metadata": {
      "needs_background": "light"
     },
     "output_type": "display_data"
    }
   ],
   "source": [
    "# (1) Критерий Кайзера\n",
    "\n",
    "fig, ax = plt.subplots(1,1, figsize = (8,6))\n",
    "ax.bar(range(1, len(eigenvalues)+1), eigenvalues, label = 'Собственные значения', color = 'indigo')\n",
    "ax.plot(np.full(8, 1), '--',color='green')\n",
    "ax.legend()\n",
    "plt.show()"
   ]
  },
  {
   "cell_type": "markdown",
   "metadata": {},
   "source": [
    "Больше единицы 3 собственных числа для ковариационноц матрицы. Значит мы можем использовать 3 признака (ну или в крайнем случае 4) из 9, а остальные будут менее значимыми. "
   ]
  },
  {
   "cell_type": "code",
   "execution_count": 20,
   "metadata": {},
   "outputs": [
    {
     "data": {
      "text/plain": [
       "array([ 38.74612525,  62.41471571,  74.62535583,  85.6751667 ,\n",
       "        91.7109192 ,  91.71142615,  95.97173354,  98.48011194,\n",
       "       100.        ])"
      ]
     },
     "execution_count": 20,
     "metadata": {},
     "output_type": "execute_result"
    }
   ],
   "source": [
    "# (2)  Объясненная сумма дисперсии\n",
    "\n",
    "eigenvalues / np.sum(eigenvalues)*100\n",
    "np.cumsum(eigenvalues)/ np.sum(eigenvalues)*100"
   ]
  },
  {
   "cell_type": "markdown",
   "metadata": {},
   "source": [
    "Когда мы переходим к 3 факторам мы получаем 74,6% вариации данных. Если переходим к 4, то процент объясненной вариации 85,6%, так что оставлю 4 признака."
   ]
  },
  {
   "cell_type": "markdown",
   "metadata": {},
   "source": [
    "#### PCA Sklearn"
   ]
  },
  {
   "cell_type": "code",
   "execution_count": 21,
   "metadata": {},
   "outputs": [],
   "source": [
    "from sklearn.decomposition import PCA\n"
   ]
  },
  {
   "cell_type": "code",
   "execution_count": 22,
   "metadata": {},
   "outputs": [],
   "source": [
    "n_components=4\n",
    "pca = PCA(n_components=4)\n",
    "score_new = pca.fit_transform(df_sc) # матрица счетов, данные в новой системе координат"
   ]
  },
  {
   "cell_type": "code",
   "execution_count": 23,
   "metadata": {},
   "outputs": [
    {
     "data": {
      "text/html": [
       "<div>\n",
       "<style scoped>\n",
       "    .dataframe tbody tr th:only-of-type {\n",
       "        vertical-align: middle;\n",
       "    }\n",
       "\n",
       "    .dataframe tbody tr th {\n",
       "        vertical-align: top;\n",
       "    }\n",
       "\n",
       "    .dataframe thead th {\n",
       "        text-align: right;\n",
       "    }\n",
       "</style>\n",
       "<table border=\"1\" class=\"dataframe\">\n",
       "  <thead>\n",
       "    <tr style=\"text-align: right;\">\n",
       "      <th></th>\n",
       "      <th>PC1</th>\n",
       "      <th>PC2</th>\n",
       "      <th>PC3</th>\n",
       "      <th>PC4</th>\n",
       "    </tr>\n",
       "  </thead>\n",
       "  <tbody>\n",
       "    <tr>\n",
       "      <th>0</th>\n",
       "      <td>-1.710498</td>\n",
       "      <td>-1.221791</td>\n",
       "      <td>0.114765</td>\n",
       "      <td>-0.339492</td>\n",
       "    </tr>\n",
       "    <tr>\n",
       "      <th>1</th>\n",
       "      <td>-0.952902</td>\n",
       "      <td>-2.127785</td>\n",
       "      <td>-0.950722</td>\n",
       "      <td>-0.593949</td>\n",
       "    </tr>\n",
       "    <tr>\n",
       "      <th>2</th>\n",
       "      <td>-0.754630</td>\n",
       "      <td>-1.121208</td>\n",
       "      <td>0.497954</td>\n",
       "      <td>0.500329</td>\n",
       "    </tr>\n",
       "    <tr>\n",
       "      <th>3</th>\n",
       "      <td>-0.852553</td>\n",
       "      <td>-0.011377</td>\n",
       "      <td>0.579527</td>\n",
       "      <td>0.110470</td>\n",
       "    </tr>\n",
       "    <tr>\n",
       "      <th>4</th>\n",
       "      <td>0.103502</td>\n",
       "      <td>-0.413987</td>\n",
       "      <td>0.384048</td>\n",
       "      <td>-0.926664</td>\n",
       "    </tr>\n",
       "    <tr>\n",
       "      <th>5</th>\n",
       "      <td>-0.375407</td>\n",
       "      <td>-0.769547</td>\n",
       "      <td>-1.060598</td>\n",
       "      <td>1.477231</td>\n",
       "    </tr>\n",
       "    <tr>\n",
       "      <th>6</th>\n",
       "      <td>-1.059442</td>\n",
       "      <td>0.755827</td>\n",
       "      <td>0.651480</td>\n",
       "      <td>0.835156</td>\n",
       "    </tr>\n",
       "    <tr>\n",
       "      <th>7</th>\n",
       "      <td>-1.688217</td>\n",
       "      <td>-2.004845</td>\n",
       "      <td>-0.063742</td>\n",
       "      <td>0.023514</td>\n",
       "    </tr>\n",
       "    <tr>\n",
       "      <th>8</th>\n",
       "      <td>-1.630449</td>\n",
       "      <td>-0.373130</td>\n",
       "      <td>1.140903</td>\n",
       "      <td>-1.266879</td>\n",
       "    </tr>\n",
       "    <tr>\n",
       "      <th>9</th>\n",
       "      <td>-1.176448</td>\n",
       "      <td>0.143101</td>\n",
       "      <td>1.043364</td>\n",
       "      <td>0.157747</td>\n",
       "    </tr>\n",
       "    <tr>\n",
       "      <th>10</th>\n",
       "      <td>-0.991940</td>\n",
       "      <td>-0.748305</td>\n",
       "      <td>0.360122</td>\n",
       "      <td>-1.180431</td>\n",
       "    </tr>\n",
       "    <tr>\n",
       "      <th>11</th>\n",
       "      <td>2.113405</td>\n",
       "      <td>-0.353461</td>\n",
       "      <td>-0.878021</td>\n",
       "      <td>0.302834</td>\n",
       "    </tr>\n",
       "    <tr>\n",
       "      <th>12</th>\n",
       "      <td>-1.686496</td>\n",
       "      <td>-1.075717</td>\n",
       "      <td>-1.319923</td>\n",
       "      <td>-0.934062</td>\n",
       "    </tr>\n",
       "    <tr>\n",
       "      <th>13</th>\n",
       "      <td>1.015293</td>\n",
       "      <td>-0.757045</td>\n",
       "      <td>-0.655798</td>\n",
       "      <td>0.725781</td>\n",
       "    </tr>\n",
       "    <tr>\n",
       "      <th>14</th>\n",
       "      <td>0.435862</td>\n",
       "      <td>-0.616338</td>\n",
       "      <td>0.839393</td>\n",
       "      <td>2.496265</td>\n",
       "    </tr>\n",
       "    <tr>\n",
       "      <th>15</th>\n",
       "      <td>-1.083805</td>\n",
       "      <td>-1.578523</td>\n",
       "      <td>-0.417607</td>\n",
       "      <td>-1.025426</td>\n",
       "    </tr>\n",
       "    <tr>\n",
       "      <th>16</th>\n",
       "      <td>-1.058128</td>\n",
       "      <td>-0.742391</td>\n",
       "      <td>0.601324</td>\n",
       "      <td>1.858387</td>\n",
       "    </tr>\n",
       "    <tr>\n",
       "      <th>17</th>\n",
       "      <td>6.347540</td>\n",
       "      <td>-1.066145</td>\n",
       "      <td>-0.926038</td>\n",
       "      <td>-1.246248</td>\n",
       "    </tr>\n",
       "    <tr>\n",
       "      <th>18</th>\n",
       "      <td>0.725600</td>\n",
       "      <td>1.496766</td>\n",
       "      <td>-0.993419</td>\n",
       "      <td>0.392212</td>\n",
       "    </tr>\n",
       "    <tr>\n",
       "      <th>19</th>\n",
       "      <td>-0.425950</td>\n",
       "      <td>2.664556</td>\n",
       "      <td>0.152242</td>\n",
       "      <td>0.157581</td>\n",
       "    </tr>\n",
       "    <tr>\n",
       "      <th>20</th>\n",
       "      <td>-1.780826</td>\n",
       "      <td>2.815023</td>\n",
       "      <td>0.107777</td>\n",
       "      <td>-0.647430</td>\n",
       "    </tr>\n",
       "    <tr>\n",
       "      <th>21</th>\n",
       "      <td>-0.578344</td>\n",
       "      <td>3.143445</td>\n",
       "      <td>0.923707</td>\n",
       "      <td>-1.301326</td>\n",
       "    </tr>\n",
       "    <tr>\n",
       "      <th>22</th>\n",
       "      <td>1.113712</td>\n",
       "      <td>1.905247</td>\n",
       "      <td>-0.553581</td>\n",
       "      <td>-0.026194</td>\n",
       "    </tr>\n",
       "    <tr>\n",
       "      <th>23</th>\n",
       "      <td>2.051500</td>\n",
       "      <td>1.605032</td>\n",
       "      <td>-0.266493</td>\n",
       "      <td>1.357868</td>\n",
       "    </tr>\n",
       "    <tr>\n",
       "      <th>24</th>\n",
       "      <td>-0.050435</td>\n",
       "      <td>1.266533</td>\n",
       "      <td>-2.422998</td>\n",
       "      <td>-0.319667</td>\n",
       "    </tr>\n",
       "    <tr>\n",
       "      <th>25</th>\n",
       "      <td>3.950055</td>\n",
       "      <td>-0.813934</td>\n",
       "      <td>3.112336</td>\n",
       "      <td>-0.587609</td>\n",
       "    </tr>\n",
       "  </tbody>\n",
       "</table>\n",
       "</div>"
      ],
      "text/plain": [
       "         PC1       PC2       PC3       PC4\n",
       "0  -1.710498 -1.221791  0.114765 -0.339492\n",
       "1  -0.952902 -2.127785 -0.950722 -0.593949\n",
       "2  -0.754630 -1.121208  0.497954  0.500329\n",
       "3  -0.852553 -0.011377  0.579527  0.110470\n",
       "4   0.103502 -0.413987  0.384048 -0.926664\n",
       "5  -0.375407 -0.769547 -1.060598  1.477231\n",
       "6  -1.059442  0.755827  0.651480  0.835156\n",
       "7  -1.688217 -2.004845 -0.063742  0.023514\n",
       "8  -1.630449 -0.373130  1.140903 -1.266879\n",
       "9  -1.176448  0.143101  1.043364  0.157747\n",
       "10 -0.991940 -0.748305  0.360122 -1.180431\n",
       "11  2.113405 -0.353461 -0.878021  0.302834\n",
       "12 -1.686496 -1.075717 -1.319923 -0.934062\n",
       "13  1.015293 -0.757045 -0.655798  0.725781\n",
       "14  0.435862 -0.616338  0.839393  2.496265\n",
       "15 -1.083805 -1.578523 -0.417607 -1.025426\n",
       "16 -1.058128 -0.742391  0.601324  1.858387\n",
       "17  6.347540 -1.066145 -0.926038 -1.246248\n",
       "18  0.725600  1.496766 -0.993419  0.392212\n",
       "19 -0.425950  2.664556  0.152242  0.157581\n",
       "20 -1.780826  2.815023  0.107777 -0.647430\n",
       "21 -0.578344  3.143445  0.923707 -1.301326\n",
       "22  1.113712  1.905247 -0.553581 -0.026194\n",
       "23  2.051500  1.605032 -0.266493  1.357868\n",
       "24 -0.050435  1.266533 -2.422998 -0.319667\n",
       "25  3.950055 -0.813934  3.112336 -0.587609"
      ]
     },
     "execution_count": 23,
     "metadata": {},
     "output_type": "execute_result"
    }
   ],
   "source": [
    " #объекты в новой системе координат\n",
    "df_score_new = pd.DataFrame(score_new, columns = [fr'PC{i + 1}' for i in range(n_components)])\n",
    "df_score_new"
   ]
  },
  {
   "cell_type": "code",
   "execution_count": 24,
   "metadata": {},
   "outputs": [
    {
     "data": {
      "text/plain": [
       "array([[ 0.52379099,  0.00132346, -0.34749513, -0.25571618, -0.32517932,\n",
       "        -0.37891966, -0.07437358, -0.38740881, -0.36682271],\n",
       "       [ 0.05359389,  0.61780714,  0.3550536 ,  0.26109606,  0.05128845,\n",
       "        -0.35017206, -0.45369785, -0.2215212 ,  0.20259185],\n",
       "       [-0.04867439,  0.20110021,  0.15046308,  0.56108325, -0.15332114,\n",
       "         0.11509551,  0.5873613 , -0.3119035 , -0.37510601],\n",
       "       [-0.02879285, -0.06408495,  0.34608821, -0.39330897,  0.66832395,\n",
       "         0.05015651,  0.05156652, -0.41223019, -0.31437188]])"
      ]
     },
     "execution_count": 24,
     "metadata": {},
     "output_type": "execute_result"
    }
   ],
   "source": [
    "pca.components_ #  Матрица факторных нагрузок"
   ]
  },
  {
   "cell_type": "code",
   "execution_count": 25,
   "metadata": {},
   "outputs": [
    {
     "data": {
      "text/html": [
       "<div>\n",
       "<style scoped>\n",
       "    .dataframe tbody tr th:only-of-type {\n",
       "        vertical-align: middle;\n",
       "    }\n",
       "\n",
       "    .dataframe tbody tr th {\n",
       "        vertical-align: top;\n",
       "    }\n",
       "\n",
       "    .dataframe thead th {\n",
       "        text-align: right;\n",
       "    }\n",
       "</style>\n",
       "<table border=\"1\" class=\"dataframe\">\n",
       "  <thead>\n",
       "    <tr style=\"text-align: right;\">\n",
       "      <th></th>\n",
       "      <th>PC1</th>\n",
       "      <th>PC2</th>\n",
       "      <th>PC3</th>\n",
       "      <th>PC4</th>\n",
       "    </tr>\n",
       "  </thead>\n",
       "  <tbody>\n",
       "    <tr>\n",
       "      <th>Agr</th>\n",
       "      <td>0.523791</td>\n",
       "      <td>0.053594</td>\n",
       "      <td>-0.048674</td>\n",
       "      <td>-0.028793</td>\n",
       "    </tr>\n",
       "    <tr>\n",
       "      <th>Min</th>\n",
       "      <td>0.001323</td>\n",
       "      <td>0.617807</td>\n",
       "      <td>0.201100</td>\n",
       "      <td>-0.064085</td>\n",
       "    </tr>\n",
       "    <tr>\n",
       "      <th>Man</th>\n",
       "      <td>-0.347495</td>\n",
       "      <td>0.355054</td>\n",
       "      <td>0.150463</td>\n",
       "      <td>0.346088</td>\n",
       "    </tr>\n",
       "    <tr>\n",
       "      <th>PS</th>\n",
       "      <td>-0.255716</td>\n",
       "      <td>0.261096</td>\n",
       "      <td>0.561083</td>\n",
       "      <td>-0.393309</td>\n",
       "    </tr>\n",
       "    <tr>\n",
       "      <th>Con</th>\n",
       "      <td>-0.325179</td>\n",
       "      <td>0.051288</td>\n",
       "      <td>-0.153321</td>\n",
       "      <td>0.668324</td>\n",
       "    </tr>\n",
       "    <tr>\n",
       "      <th>SI</th>\n",
       "      <td>-0.378920</td>\n",
       "      <td>-0.350172</td>\n",
       "      <td>0.115096</td>\n",
       "      <td>0.050157</td>\n",
       "    </tr>\n",
       "    <tr>\n",
       "      <th>Fin</th>\n",
       "      <td>-0.074374</td>\n",
       "      <td>-0.453698</td>\n",
       "      <td>0.587361</td>\n",
       "      <td>0.051567</td>\n",
       "    </tr>\n",
       "    <tr>\n",
       "      <th>SPS</th>\n",
       "      <td>-0.387409</td>\n",
       "      <td>-0.221521</td>\n",
       "      <td>-0.311904</td>\n",
       "      <td>-0.412230</td>\n",
       "    </tr>\n",
       "    <tr>\n",
       "      <th>TC</th>\n",
       "      <td>-0.366823</td>\n",
       "      <td>0.202592</td>\n",
       "      <td>-0.375106</td>\n",
       "      <td>-0.314372</td>\n",
       "    </tr>\n",
       "  </tbody>\n",
       "</table>\n",
       "</div>"
      ],
      "text/plain": [
       "          PC1       PC2       PC3       PC4\n",
       "Agr  0.523791  0.053594 -0.048674 -0.028793\n",
       "Min  0.001323  0.617807  0.201100 -0.064085\n",
       "Man -0.347495  0.355054  0.150463  0.346088\n",
       "PS  -0.255716  0.261096  0.561083 -0.393309\n",
       "Con -0.325179  0.051288 -0.153321  0.668324\n",
       "SI  -0.378920 -0.350172  0.115096  0.050157\n",
       "Fin -0.074374 -0.453698  0.587361  0.051567\n",
       "SPS -0.387409 -0.221521 -0.311904 -0.412230\n",
       "TC  -0.366823  0.202592 -0.375106 -0.314372"
      ]
     },
     "execution_count": 25,
     "metadata": {},
     "output_type": "execute_result"
    }
   ],
   "source": [
    "#  Матрица факторных нагрузок, для наглядности в DataFrame\n",
    "P=pd.DataFrame((pca.components_).T,\n",
    "               index=df.columns,columns=[fr'PC{i + 1}' for i in range(n_components)])\n",
    "P"
   ]
  },
  {
   "cell_type": "code",
   "execution_count": 26,
   "metadata": {},
   "outputs": [
    {
     "data": {
      "text/html": [
       "<div>\n",
       "<style scoped>\n",
       "    .dataframe tbody tr th:only-of-type {\n",
       "        vertical-align: middle;\n",
       "    }\n",
       "\n",
       "    .dataframe tbody tr th {\n",
       "        vertical-align: top;\n",
       "    }\n",
       "\n",
       "    .dataframe thead th {\n",
       "        text-align: right;\n",
       "    }\n",
       "</style>\n",
       "<table border=\"1\" class=\"dataframe\">\n",
       "  <thead>\n",
       "    <tr style=\"text-align: right;\">\n",
       "      <th></th>\n",
       "      <th>1</th>\n",
       "      <th>2</th>\n",
       "      <th>3</th>\n",
       "      <th>4</th>\n",
       "      <th>5</th>\n",
       "      <th>6</th>\n",
       "      <th>7</th>\n",
       "      <th>8</th>\n",
       "      <th>9</th>\n",
       "    </tr>\n",
       "  </thead>\n",
       "  <tbody>\n",
       "    <tr>\n",
       "      <th>Agr</th>\n",
       "      <td>0.523791</td>\n",
       "      <td>0.053594</td>\n",
       "      <td>0.048674</td>\n",
       "      <td>0.028793</td>\n",
       "      <td>0.212703</td>\n",
       "      <td>0.806418</td>\n",
       "      <td>-0.153307</td>\n",
       "      <td>-0.021321</td>\n",
       "      <td>0.007922</td>\n",
       "    </tr>\n",
       "    <tr>\n",
       "      <th>Min</th>\n",
       "      <td>0.001323</td>\n",
       "      <td>0.617807</td>\n",
       "      <td>-0.201100</td>\n",
       "      <td>0.064085</td>\n",
       "      <td>-0.163743</td>\n",
       "      <td>0.048563</td>\n",
       "      <td>0.100590</td>\n",
       "      <td>0.725719</td>\n",
       "      <td>0.088363</td>\n",
       "    </tr>\n",
       "    <tr>\n",
       "      <th>Man</th>\n",
       "      <td>-0.347495</td>\n",
       "      <td>0.355054</td>\n",
       "      <td>-0.150463</td>\n",
       "      <td>-0.346088</td>\n",
       "      <td>-0.384958</td>\n",
       "      <td>0.365957</td>\n",
       "      <td>0.288152</td>\n",
       "      <td>-0.479363</td>\n",
       "      <td>0.125818</td>\n",
       "    </tr>\n",
       "    <tr>\n",
       "      <th>PS</th>\n",
       "      <td>-0.255716</td>\n",
       "      <td>0.261096</td>\n",
       "      <td>-0.561083</td>\n",
       "      <td>0.393309</td>\n",
       "      <td>0.295172</td>\n",
       "      <td>0.019385</td>\n",
       "      <td>-0.357264</td>\n",
       "      <td>-0.255647</td>\n",
       "      <td>-0.341228</td>\n",
       "    </tr>\n",
       "    <tr>\n",
       "      <th>Con</th>\n",
       "      <td>-0.325179</td>\n",
       "      <td>0.051288</td>\n",
       "      <td>0.153321</td>\n",
       "      <td>-0.668324</td>\n",
       "      <td>0.471593</td>\n",
       "      <td>0.082572</td>\n",
       "      <td>-0.130354</td>\n",
       "      <td>0.220695</td>\n",
       "      <td>-0.355734</td>\n",
       "    </tr>\n",
       "    <tr>\n",
       "      <th>SI</th>\n",
       "      <td>-0.378920</td>\n",
       "      <td>-0.350172</td>\n",
       "      <td>-0.115096</td>\n",
       "      <td>-0.050157</td>\n",
       "      <td>-0.283568</td>\n",
       "      <td>0.238299</td>\n",
       "      <td>-0.614829</td>\n",
       "      <td>0.229435</td>\n",
       "      <td>0.387537</td>\n",
       "    </tr>\n",
       "    <tr>\n",
       "      <th>Fin</th>\n",
       "      <td>-0.074374</td>\n",
       "      <td>-0.453698</td>\n",
       "      <td>-0.587361</td>\n",
       "      <td>-0.051567</td>\n",
       "      <td>0.279568</td>\n",
       "      <td>0.145171</td>\n",
       "      <td>0.525558</td>\n",
       "      <td>0.187455</td>\n",
       "      <td>0.174329</td>\n",
       "    </tr>\n",
       "    <tr>\n",
       "      <th>SPS</th>\n",
       "      <td>-0.387409</td>\n",
       "      <td>-0.221521</td>\n",
       "      <td>0.311904</td>\n",
       "      <td>0.412230</td>\n",
       "      <td>-0.220351</td>\n",
       "      <td>0.350942</td>\n",
       "      <td>0.262910</td>\n",
       "      <td>0.191302</td>\n",
       "      <td>-0.506154</td>\n",
       "    </tr>\n",
       "    <tr>\n",
       "      <th>TC</th>\n",
       "      <td>-0.366823</td>\n",
       "      <td>0.202592</td>\n",
       "      <td>0.375106</td>\n",
       "      <td>0.314372</td>\n",
       "      <td>0.512936</td>\n",
       "      <td>0.072055</td>\n",
       "      <td>0.123976</td>\n",
       "      <td>-0.068193</td>\n",
       "      <td>0.544562</td>\n",
       "    </tr>\n",
       "  </tbody>\n",
       "</table>\n",
       "</div>"
      ],
      "text/plain": [
       "            1         2         3         4         5         6         7  \\\n",
       "Agr  0.523791  0.053594  0.048674  0.028793  0.212703  0.806418 -0.153307   \n",
       "Min  0.001323  0.617807 -0.201100  0.064085 -0.163743  0.048563  0.100590   \n",
       "Man -0.347495  0.355054 -0.150463 -0.346088 -0.384958  0.365957  0.288152   \n",
       "PS  -0.255716  0.261096 -0.561083  0.393309  0.295172  0.019385 -0.357264   \n",
       "Con -0.325179  0.051288  0.153321 -0.668324  0.471593  0.082572 -0.130354   \n",
       "SI  -0.378920 -0.350172 -0.115096 -0.050157 -0.283568  0.238299 -0.614829   \n",
       "Fin -0.074374 -0.453698 -0.587361 -0.051567  0.279568  0.145171  0.525558   \n",
       "SPS -0.387409 -0.221521  0.311904  0.412230 -0.220351  0.350942  0.262910   \n",
       "TC  -0.366823  0.202592  0.375106  0.314372  0.512936  0.072055  0.123976   \n",
       "\n",
       "            8         9  \n",
       "Agr -0.021321  0.007922  \n",
       "Min  0.725719  0.088363  \n",
       "Man -0.479363  0.125818  \n",
       "PS  -0.255647 -0.341228  \n",
       "Con  0.220695 -0.355734  \n",
       "SI   0.229435  0.387537  \n",
       "Fin  0.187455  0.174329  \n",
       "SPS  0.191302 -0.506154  \n",
       "TC  -0.068193  0.544562  "
      ]
     },
     "execution_count": 26,
     "metadata": {},
     "output_type": "execute_result"
    }
   ],
   "source": [
    "# Сравним с собственными векторами\n",
    "pd.DataFrame(eigenvectors,columns=dcorr.columns,index=df.columns)"
   ]
  },
  {
   "cell_type": "markdown",
   "metadata": {},
   "source": [
    "Данные совпадают, но 3 и 4 столбец надо умножить на -1."
   ]
  },
  {
   "cell_type": "code",
   "execution_count": 27,
   "metadata": {},
   "outputs": [
    {
     "data": {
      "text/html": [
       "<div>\n",
       "<style scoped>\n",
       "    .dataframe tbody tr th:only-of-type {\n",
       "        vertical-align: middle;\n",
       "    }\n",
       "\n",
       "    .dataframe tbody tr th {\n",
       "        vertical-align: top;\n",
       "    }\n",
       "\n",
       "    .dataframe thead th {\n",
       "        text-align: right;\n",
       "    }\n",
       "</style>\n",
       "<table border=\"1\" class=\"dataframe\">\n",
       "  <thead>\n",
       "    <tr style=\"text-align: right;\">\n",
       "      <th></th>\n",
       "      <th>PC1</th>\n",
       "      <th>PC2</th>\n",
       "      <th>PC3</th>\n",
       "      <th>PC4</th>\n",
       "    </tr>\n",
       "  </thead>\n",
       "  <tbody>\n",
       "    <tr>\n",
       "      <th>Agr</th>\n",
       "      <td>0.523791</td>\n",
       "      <td>0.053594</td>\n",
       "      <td>0.048674</td>\n",
       "      <td>0.028793</td>\n",
       "    </tr>\n",
       "    <tr>\n",
       "      <th>Min</th>\n",
       "      <td>0.001323</td>\n",
       "      <td>0.617807</td>\n",
       "      <td>-0.201100</td>\n",
       "      <td>0.064085</td>\n",
       "    </tr>\n",
       "    <tr>\n",
       "      <th>Man</th>\n",
       "      <td>-0.347495</td>\n",
       "      <td>0.355054</td>\n",
       "      <td>-0.150463</td>\n",
       "      <td>-0.346088</td>\n",
       "    </tr>\n",
       "    <tr>\n",
       "      <th>PS</th>\n",
       "      <td>-0.255716</td>\n",
       "      <td>0.261096</td>\n",
       "      <td>-0.561083</td>\n",
       "      <td>0.393309</td>\n",
       "    </tr>\n",
       "    <tr>\n",
       "      <th>Con</th>\n",
       "      <td>-0.325179</td>\n",
       "      <td>0.051288</td>\n",
       "      <td>0.153321</td>\n",
       "      <td>-0.668324</td>\n",
       "    </tr>\n",
       "    <tr>\n",
       "      <th>SI</th>\n",
       "      <td>-0.378920</td>\n",
       "      <td>-0.350172</td>\n",
       "      <td>-0.115096</td>\n",
       "      <td>-0.050157</td>\n",
       "    </tr>\n",
       "    <tr>\n",
       "      <th>Fin</th>\n",
       "      <td>-0.074374</td>\n",
       "      <td>-0.453698</td>\n",
       "      <td>-0.587361</td>\n",
       "      <td>-0.051567</td>\n",
       "    </tr>\n",
       "    <tr>\n",
       "      <th>SPS</th>\n",
       "      <td>-0.387409</td>\n",
       "      <td>-0.221521</td>\n",
       "      <td>0.311904</td>\n",
       "      <td>0.412230</td>\n",
       "    </tr>\n",
       "    <tr>\n",
       "      <th>TC</th>\n",
       "      <td>-0.366823</td>\n",
       "      <td>0.202592</td>\n",
       "      <td>0.375106</td>\n",
       "      <td>0.314372</td>\n",
       "    </tr>\n",
       "  </tbody>\n",
       "</table>\n",
       "</div>"
      ],
      "text/plain": [
       "          PC1       PC2       PC3       PC4\n",
       "Agr  0.523791  0.053594  0.048674  0.028793\n",
       "Min  0.001323  0.617807 -0.201100  0.064085\n",
       "Man -0.347495  0.355054 -0.150463 -0.346088\n",
       "PS  -0.255716  0.261096 -0.561083  0.393309\n",
       "Con -0.325179  0.051288  0.153321 -0.668324\n",
       "SI  -0.378920 -0.350172 -0.115096 -0.050157\n",
       "Fin -0.074374 -0.453698 -0.587361 -0.051567\n",
       "SPS -0.387409 -0.221521  0.311904  0.412230\n",
       "TC  -0.366823  0.202592  0.375106  0.314372"
      ]
     },
     "execution_count": 27,
     "metadata": {},
     "output_type": "execute_result"
    }
   ],
   "source": [
    "P['PC3']=P['PC3']*-1\n",
    "P['PC4']=P['PC4']*-1\n",
    "P"
   ]
  },
  {
   "cell_type": "markdown",
   "metadata": {},
   "source": [
    "Теперь все одинаково"
   ]
  },
  {
   "cell_type": "code",
   "execution_count": 28,
   "metadata": {},
   "outputs": [],
   "source": [
    "df_score_new['PC3']=df_score_new['PC3']*-1\n",
    "df_score_new['PC4']=df_score_new['PC4']*-1"
   ]
  },
  {
   "cell_type": "markdown",
   "metadata": {},
   "source": [
    "## Посмотрим наблюдения в пространстве разных вариантов факторов"
   ]
  },
  {
   "cell_type": "code",
   "execution_count": 29,
   "metadata": {
    "scrolled": true
   },
   "outputs": [
    {
     "data": {
      "image/png": "[encoded data removed]",
      "text/plain": [
       "<Figure size 432x216 with 1 Axes>"
      ]
     },
     "metadata": {
      "needs_background": "light"
     },
     "output_type": "display_data"
    }
   ],
   "source": [
    "fig, ax = plt.subplots(1,1, figsize = (6, 3))\n",
    "ax.scatter(score_new[:, 0], score_new[:, 1],s=50)\n",
    "\n",
    "ax.set_xlabel('PC1')\n",
    "ax.set_ylabel('PC2')\n",
    "\n",
    "ax.set_title('Наблюдения в пространстве факторов 1 и 2')\n",
    "plt.show()\n"
   ]
  },
  {
   "cell_type": "code",
   "execution_count": 30,
   "metadata": {},
   "outputs": [
    {
     "data": {
      "image/png": "[encoded data removed]",
      "text/plain": [
       "<Figure size 432x216 with 1 Axes>"
      ]
     },
     "metadata": {
      "needs_background": "light"
     },
     "output_type": "display_data"
    }
   ],
   "source": [
    "fig, ax = plt.subplots(1,1, figsize = (6, 3))\n",
    "ax.scatter(score_new[:, 0], score_new[:, 2],s=50)\n",
    "\n",
    "ax.set_xlabel('PC1')\n",
    "ax.set_ylabel('PC3')\n",
    "\n",
    "ax.set_title('Наблюдения в пространстве факторов 1 и 3')\n",
    "plt.show()"
   ]
  },
  {
   "cell_type": "code",
   "execution_count": 31,
   "metadata": {},
   "outputs": [
    {
     "data": {
      "image/png": "[encoded data removed]",
      "text/plain": [
       "<Figure size 432x216 with 1 Axes>"
      ]
     },
     "metadata": {
      "needs_background": "light"
     },
     "output_type": "display_data"
    }
   ],
   "source": [
    "fig, ax = plt.subplots(1,1, figsize = (6, 3))\n",
    "ax.scatter(score_new[:, 0], score_new[:, 3],s=50)\n",
    "\n",
    "ax.set_xlabel('PC1')\n",
    "ax.set_ylabel('PC4')\n",
    "\n",
    "ax.set_title('Наблюдения в пространстве факторов 1 и 4')\n",
    "plt.show()"
   ]
  },
  {
   "cell_type": "code",
   "execution_count": 32,
   "metadata": {},
   "outputs": [
    {
     "data": {
      "image/png": "[encoded data removed]",
      "text/plain": [
       "<Figure size 432x216 with 1 Axes>"
      ]
     },
     "metadata": {
      "needs_background": "light"
     },
     "output_type": "display_data"
    }
   ],
   "source": [
    "fig, ax = plt.subplots(1,1, figsize = (6, 3))\n",
    "ax.scatter(-score_new[:, 2], score_new[:, 3],s=50)\n",
    "\n",
    "ax.set_xlabel('PC3')\n",
    "ax.set_ylabel('PC4')\n",
    "\n",
    "ax.set_title('Наблюдения в пространстве факторов 3 и 4')\n",
    "plt.show()"
   ]
  },
  {
   "cell_type": "markdown",
   "metadata": {},
   "source": [
    "В данных четырёх случаях не стоит говорить о четком разделении на две группы"
   ]
  },
  {
   "cell_type": "code",
   "execution_count": 33,
   "metadata": {},
   "outputs": [
    {
     "data": {
      "image/png": "[encoded data removed]",
      "text/plain": [
       "<Figure size 432x216 with 1 Axes>"
      ]
     },
     "metadata": {
      "needs_background": "light"
     },
     "output_type": "display_data"
    }
   ],
   "source": [
    "fig, ax = plt.subplots(1,1, figsize = (6, 3))\n",
    "ax.scatter(score_new[:, 1], score_new[:, 2],s=50)\n",
    "\n",
    "ax.set_xlabel('PC2')\n",
    "ax.set_ylabel('PC3')\n",
    "\n",
    "ax.set_title('Наблюдения в пространстве факторов 2 и 3')\n",
    "plt.show()"
   ]
  },
  {
   "cell_type": "markdown",
   "metadata": {},
   "source": [
    "В данном случае можно четко видеть разделение на две группы"
   ]
  },
  {
   "cell_type": "code",
   "execution_count": 34,
   "metadata": {},
   "outputs": [
    {
     "data": {
      "image/png": "[encoded data removed]",
      "text/plain": [
       "<Figure size 432x216 with 1 Axes>"
      ]
     },
     "metadata": {
      "needs_background": "light"
     },
     "output_type": "display_data"
    }
   ],
   "source": [
    "fig, ax = plt.subplots(1,1, figsize = (6, 3))\n",
    "ax.scatter(score_new[:, 1], score_new[:, 3],s=50)\n",
    "\n",
    "ax.set_xlabel('PC2')\n",
    "ax.set_ylabel('PC4')\n",
    "\n",
    "ax.set_title('Наблюдения в пространстве факторов 2 и 4')\n",
    "plt.show()"
   ]
  },
  {
   "cell_type": "markdown",
   "metadata": {},
   "source": [
    "В данном случае можно четко видеть разделение на две группы"
   ]
  },
  {
   "cell_type": "code",
   "execution_count": 35,
   "metadata": {},
   "outputs": [
    {
     "data": {
      "image/png": "[encoded data removed]",
      "text/plain": [
       "<Figure size 720x720 with 20 Axes>"
      ]
     },
     "metadata": {
      "needs_background": "light"
     },
     "output_type": "display_data"
    }
   ],
   "source": [
    "sns.pairplot(df_score_new)\n",
    "plt.show()"
   ]
  },
  {
   "cell_type": "markdown",
   "metadata": {},
   "source": [
    "## Посмотрим признаки в пространстве разных вариантов факторов"
   ]
  },
  {
   "cell_type": "code",
   "execution_count": 36,
   "metadata": {},
   "outputs": [
    {
     "data": {
      "image/png": "[encoded data removed]",
      "text/plain": [
       "<Figure size 576x288 with 1 Axes>"
      ]
     },
     "metadata": {
      "needs_background": "light"
     },
     "output_type": "display_data"
    }
   ],
   "source": [
    "fig, ax = plt.subplots(1,1, figsize = (8, 4))\n",
    "ax.scatter(pca.components_[0, :], pca.components_[1, :],s=50)\n",
    "\n",
    "ax.set_xlabel('PC1')\n",
    "ax.set_ylabel('PC2')\n",
    "\n",
    "ax.set_title('Признаки в пространстве факторов 1 и 2')\n",
    "plt.show()"
   ]
  },
  {
   "cell_type": "code",
   "execution_count": 37,
   "metadata": {},
   "outputs": [
    {
     "data": {
      "image/png": "[encoded data removed]",
      "text/plain": [
       "<Figure size 576x288 with 1 Axes>"
      ]
     },
     "metadata": {
      "needs_background": "light"
     },
     "output_type": "display_data"
    }
   ],
   "source": [
    "fig, ax = plt.subplots(1,1, figsize = (8, 4))\n",
    "ax.scatter(pca.components_[0, :], pca.components_[2, :],s=50)\n",
    "\n",
    "ax.set_xlabel('PC1')\n",
    "ax.set_ylabel('PC3')\n",
    "\n",
    "ax.set_title('Признаки в пространстве факторов 1 и 3')\n",
    "plt.show()"
   ]
  },
  {
   "cell_type": "code",
   "execution_count": 38,
   "metadata": {},
   "outputs": [
    {
     "data": {
      "image/png": "[encoded data removed]",
      "text/plain": [
       "<Figure size 576x288 with 1 Axes>"
      ]
     },
     "metadata": {
      "needs_background": "light"
     },
     "output_type": "display_data"
    }
   ],
   "source": [
    "fig, ax = plt.subplots(1,1, figsize = (8, 4))\n",
    "ax.scatter(pca.components_[0, :], pca.components_[2, :],s=50)\n",
    "\n",
    "ax.set_xlabel('PC1')\n",
    "ax.set_ylabel('PC4')\n",
    "\n",
    "ax.set_title('Признаки в пространстве факторов 1 и 4')\n",
    "plt.show()"
   ]
  },
  {
   "cell_type": "code",
   "execution_count": 39,
   "metadata": {},
   "outputs": [
    {
     "data": {
      "image/png": "[encoded data removed]",
      "text/plain": [
       "<Figure size 576x288 with 1 Axes>"
      ]
     },
     "metadata": {
      "needs_background": "light"
     },
     "output_type": "display_data"
    }
   ],
   "source": [
    "fig, ax = plt.subplots(1,1, figsize = (8, 4))\n",
    "ax.scatter(pca.components_[1, :], pca.components_[2, :],s=50)\n",
    "\n",
    "ax.set_xlabel('PC2')\n",
    "ax.set_ylabel('PC3')\n",
    "\n",
    "ax.set_title('Признаки в пространстве факторов 2 и 3')\n",
    "plt.show()"
   ]
  },
  {
   "cell_type": "code",
   "execution_count": 40,
   "metadata": {},
   "outputs": [
    {
     "data": {
      "image/png": "[encoded data removed]",
      "text/plain": [
       "<Figure size 576x288 with 1 Axes>"
      ]
     },
     "metadata": {
      "needs_background": "light"
     },
     "output_type": "display_data"
    }
   ],
   "source": [
    "fig, ax = plt.subplots(1,1, figsize = (8, 4))\n",
    "ax.scatter(pca.components_[1, :], pca.components_[3, :],s=50)\n",
    "\n",
    "ax.set_xlabel('PC2')\n",
    "ax.set_ylabel('PC4')\n",
    "\n",
    "ax.set_title('Признаки в пространстве факторов 2 и 4')\n",
    "plt.show()"
   ]
  },
  {
   "cell_type": "code",
   "execution_count": 41,
   "metadata": {},
   "outputs": [
    {
     "data": {
      "image/png": "[encoded data removed]",
      "text/plain": [
       "<Figure size 576x288 with 1 Axes>"
      ]
     },
     "metadata": {
      "needs_background": "light"
     },
     "output_type": "display_data"
    }
   ],
   "source": [
    "fig, ax = plt.subplots(1,1, figsize = (8, 4))\n",
    "ax.scatter(pca.components_[2, :], pca.components_[3, :],s=50)\n",
    "\n",
    "ax.set_xlabel('PC3')\n",
    "ax.set_ylabel('PC4')\n",
    "\n",
    "ax.set_title('Признаки в пространстве факторов 3 и 4')\n",
    "plt.show()"
   ]
  },
  {
   "cell_type": "code",
   "execution_count": 42,
   "metadata": {},
   "outputs": [
    {
     "data": {
      "image/png": "[encoded data removed]",
      "text/plain": [
       "<Figure size 720x720 with 20 Axes>"
      ]
     },
     "metadata": {
      "needs_background": "light"
     },
     "output_type": "display_data"
    }
   ],
   "source": [
    "sns.pairplot(P)\n",
    "plt.show()"
   ]
  }
 ],
 "metadata": {
  "kernelspec": {
   "display_name": "Python 3",
   "language": "python",
   "name": "python3"
  },
  "language_info": {
   "codemirror_mode": {
    "name": "ipython",
    "version": 3
   },
   "file_extension": ".py",
   "mimetype": "text/x-python",
   "name": "python",
   "nbconvert_exporter": "python",
   "pygments_lexer": "ipython3",
   "version": "3.8.8"
  },
  "widgets": {
   "application/vnd.jupyter.widget-state+json": {
    "state": {},
    "version_major": 2,
    "version_minor": 0
   }
  }
 },
 "nbformat": 4,
 "nbformat_minor": 4
}
