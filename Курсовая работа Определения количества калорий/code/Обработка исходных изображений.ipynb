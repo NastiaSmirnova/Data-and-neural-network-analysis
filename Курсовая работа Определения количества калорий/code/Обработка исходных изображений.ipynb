{
 "cells": [
  {
   "cell_type": "code",
   "execution_count": 1,
   "id": "237d3633",
   "metadata": {},
   "outputs": [],
   "source": [
    "from os import walk, path, mkdir\n",
    "from PIL import Image    "
   ]
  },
  {
   "cell_type": "code",
   "execution_count": 2,
   "id": "dbff72dd",
   "metadata": {},
   "outputs": [],
   "source": [
    "img_dir = './data/FooDD/'"
   ]
  },
  {
   "cell_type": "code",
   "execution_count": 3,
   "id": "f152cb21",
   "metadata": {},
   "outputs": [],
   "source": [
    "_, categories, _ = next(walk(img_dir))"
   ]
  },
  {
   "cell_type": "code",
   "execution_count": 4,
   "id": "5e9bf9f1",
   "metadata": {},
   "outputs": [],
   "source": [
    "size = 100, 100\n",
    "\n",
    "for category in categories:\n",
    "     mkdir(fr'./data/cropped/{category}')\n",
    "    \n",
    "     _, _, fruits = next(walk(img_dir + category))\n",
    "#     fruits = [img_dir + category + '/' + filename for filename in fruits]\n",
    "    \n",
    "#     for fruit in fruits:\n",
    "#         img = Image.open(fruit)\n",
    "#         img = img.resize(size, Image.ANTIALIAS)\n",
    "#         img.save(fr'./data/cropped/{category}/{path.split(fruit)[1]}')"
   ]
  },
  {
   "cell_type": "code",
   "execution_count": null,
   "id": "a799c94c",
   "metadata": {},
   "outputs": [],
   "source": []
  }
 ],
 "metadata": {
  "kernelspec": {
   "display_name": "Python 3",
   "language": "python",
   "name": "python3"
  },
  "language_info": {
   "codemirror_mode": {
    "name": "ipython",
    "version": 3
   },
   "file_extension": ".py",
   "mimetype": "text/x-python",
   "name": "python",
   "nbconvert_exporter": "python",
   "pygments_lexer": "ipython3",
   "version": "3.8.8"
  }
 },
 "nbformat": 4,
 "nbformat_minor": 5
}
