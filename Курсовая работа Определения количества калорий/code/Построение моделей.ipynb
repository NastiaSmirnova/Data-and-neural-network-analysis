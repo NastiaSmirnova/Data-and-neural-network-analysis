{
 "cells": [
  {
   "cell_type": "code",
   "execution_count": null,
   "metadata": {
    "execution": {
     "iopub.execute_input": "2021-12-09T21:25:46.299654Z",
     "iopub.status.busy": "2021-12-09T21:25:46.299314Z",
     "iopub.status.idle": "2021-12-09T21:25:46.327645Z",
     "shell.execute_reply": "2021-12-09T21:25:46.327051Z",
     "shell.execute_reply.started": "2021-12-09T21:25:46.299603Z"
    }
   },
   "outputs": [],
   "source": [
    "import numpy as np\n",
    "import pandas as pd\n",
    "import os\n",
    "import random\n",
    "from PIL import Image, ImageFilter, ImageOps    "
   ]
  },
  {
   "cell_type": "code",
   "execution_count": null,
   "metadata": {
    "execution": {
     "iopub.execute_input": "2021-12-09T21:25:46.33548Z",
     "iopub.status.busy": "2021-12-09T21:25:46.335271Z",
     "iopub.status.idle": "2021-12-09T21:25:46.338962Z",
     "shell.execute_reply": "2021-12-09T21:25:46.338285Z",
     "shell.execute_reply.started": "2021-12-09T21:25:46.335456Z"
    }
   },
   "outputs": [],
   "source": [
    "# base_dir = \"../input/food-101\"\n",
    "# food_dir = os.path.join(base_dir, \"food-101.zip\")\n",
    "\n",
    "# with zipfile.ZipFile(food_dir,\"r\") as z:\n",
    "#     z.extractall()"
   ]
  },
  {
   "cell_type": "code",
   "execution_count": null,
   "metadata": {
    "execution": {
     "iopub.execute_input": "2021-12-09T21:25:46.340792Z",
     "iopub.status.busy": "2021-12-09T21:25:46.340256Z",
     "iopub.status.idle": "2021-12-09T21:25:46.347621Z",
     "shell.execute_reply": "2021-12-09T21:25:46.346864Z",
     "shell.execute_reply.started": "2021-12-09T21:25:46.340753Z"
    }
   },
   "outputs": [],
   "source": [
    "img_dir = '../input/data-foodd/FooDD'"
   ]
  },
  {
   "cell_type": "code",
   "execution_count": null,
   "metadata": {
    "execution": {
     "iopub.execute_input": "2021-12-09T21:25:46.350396Z",
     "iopub.status.busy": "2021-12-09T21:25:46.350147Z",
     "iopub.status.idle": "2021-12-09T21:25:46.375048Z",
     "shell.execute_reply": "2021-12-09T21:25:46.374437Z",
     "shell.execute_reply.started": "2021-12-09T21:25:46.350361Z"
    }
   },
   "outputs": [],
   "source": [
    "_, categories, _ = next(os.walk(fr'{img_dir}/cropped'))"
   ]
  },
  {
   "cell_type": "code",
   "execution_count": null,
   "metadata": {
    "execution": {
     "iopub.execute_input": "2021-12-09T21:25:46.377454Z",
     "iopub.status.busy": "2021-12-09T21:25:46.377192Z",
     "iopub.status.idle": "2021-12-09T21:25:47.209081Z",
     "shell.execute_reply": "2021-12-09T21:25:47.208278Z",
     "shell.execute_reply.started": "2021-12-09T21:25:46.377423Z"
    }
   },
   "outputs": [],
   "source": [
    "filenames = []\n",
    "y_full = []\n",
    "\n",
    "for category in categories:\n",
    "    _, _, fruits = next(os.walk(fr'{img_dir}/cropped/{category}'))\n",
    "    fruits = [fr'{img_dir}/cropped/{category}/{filename}' for filename in fruits]\n",
    "    \n",
    "    filenames += fruits\n",
    "    y_full += [category] * len(fruits)"
   ]
  },
  {
   "cell_type": "markdown",
   "metadata": {},
   "source": [
    "Преобразование всех изображений в массив"
   ]
  },
  {
   "cell_type": "code",
   "execution_count": null,
   "metadata": {
    "execution": {
     "iopub.execute_input": "2021-12-09T21:25:47.237865Z",
     "iopub.status.busy": "2021-12-09T21:25:47.237385Z",
     "iopub.status.idle": "2021-12-09T21:26:02.723478Z",
     "shell.execute_reply": "2021-12-09T21:26:02.722714Z",
     "shell.execute_reply.started": "2021-12-09T21:25:47.237829Z"
    }
   },
   "outputs": [],
   "source": [
    "X = []\n",
    "for img_path in filenames:\n",
    "    img = Image.open(img_path)\n",
    "    X.append(np.array(img).flatten())\n",
    "    \n",
    "X = np.array(X)"
   ]
  },
  {
   "cell_type": "markdown",
   "metadata": {},
   "source": [
    "Кодирование категорий в числа"
   ]
  },
  {
   "cell_type": "code",
   "execution_count": null,
   "metadata": {
    "execution": {
     "iopub.execute_input": "2021-12-09T21:26:02.725167Z",
     "iopub.status.busy": "2021-12-09T21:26:02.724898Z",
     "iopub.status.idle": "2021-12-09T21:26:03.415658Z",
     "shell.execute_reply": "2021-12-09T21:26:03.414925Z",
     "shell.execute_reply.started": "2021-12-09T21:26:02.725129Z"
    }
   },
   "outputs": [],
   "source": [
    "from sklearn.preprocessing import LabelEncoder"
   ]
  },
  {
   "cell_type": "code",
   "execution_count": null,
   "metadata": {
    "execution": {
     "iopub.execute_input": "2021-12-09T21:26:03.417307Z",
     "iopub.status.busy": "2021-12-09T21:26:03.416895Z",
     "iopub.status.idle": "2021-12-09T21:26:03.426755Z",
     "shell.execute_reply": "2021-12-09T21:26:03.425876Z",
     "shell.execute_reply.started": "2021-12-09T21:26:03.417268Z"
    }
   },
   "outputs": [],
   "source": [
    "le = LabelEncoder()\n",
    "le.fit(y_full)"
   ]
  },
  {
   "cell_type": "code",
   "execution_count": null,
   "metadata": {
    "execution": {
     "iopub.execute_input": "2021-12-09T21:26:03.428469Z",
     "iopub.status.busy": "2021-12-09T21:26:03.428161Z",
     "iopub.status.idle": "2021-12-09T21:26:03.43484Z",
     "shell.execute_reply": "2021-12-09T21:26:03.434077Z",
     "shell.execute_reply.started": "2021-12-09T21:26:03.428433Z"
    }
   },
   "outputs": [],
   "source": [
    "le.classes_"
   ]
  },
  {
   "cell_type": "code",
   "execution_count": null,
   "metadata": {
    "execution": {
     "iopub.execute_input": "2021-12-09T21:26:03.437078Z",
     "iopub.status.busy": "2021-12-09T21:26:03.436227Z",
     "iopub.status.idle": "2021-12-09T21:26:03.444835Z",
     "shell.execute_reply": "2021-12-09T21:26:03.443904Z",
     "shell.execute_reply.started": "2021-12-09T21:26:03.437041Z"
    }
   },
   "outputs": [],
   "source": [
    "le.transform([\"Apple\"])"
   ]
  },
  {
   "cell_type": "code",
   "execution_count": null,
   "metadata": {
    "execution": {
     "iopub.execute_input": "2021-12-09T21:26:03.446517Z",
     "iopub.status.busy": "2021-12-09T21:26:03.446215Z",
     "iopub.status.idle": "2021-12-09T21:26:03.454165Z",
     "shell.execute_reply": "2021-12-09T21:26:03.453388Z",
     "shell.execute_reply.started": "2021-12-09T21:26:03.446481Z"
    }
   },
   "outputs": [],
   "source": [
    "y = le.transform(y_full)"
   ]
  },
  {
   "cell_type": "markdown",
   "metadata": {},
   "source": [
    "Разбиение исходных данных"
   ]
  },
  {
   "cell_type": "code",
   "execution_count": null,
   "metadata": {
    "execution": {
     "iopub.execute_input": "2021-12-09T21:26:03.459537Z",
     "iopub.status.busy": "2021-12-09T21:26:03.458265Z",
     "iopub.status.idle": "2021-12-09T21:26:03.501475Z",
     "shell.execute_reply": "2021-12-09T21:26:03.500836Z",
     "shell.execute_reply.started": "2021-12-09T21:26:03.459499Z"
    }
   },
   "outputs": [],
   "source": [
    "from sklearn.model_selection import train_test_split"
   ]
  },
  {
   "cell_type": "code",
   "execution_count": null,
   "metadata": {
    "execution": {
     "iopub.execute_input": "2021-12-09T21:26:03.502799Z",
     "iopub.status.busy": "2021-12-09T21:26:03.502552Z",
     "iopub.status.idle": "2021-12-09T21:26:03.538554Z",
     "shell.execute_reply": "2021-12-09T21:26:03.537779Z",
     "shell.execute_reply.started": "2021-12-09T21:26:03.502766Z"
    }
   },
   "outputs": [],
   "source": [
    "X_train, X_test, y_train, y_test = train_test_split(X, y, test_size = 0.33, random_state = 42)"
   ]
  },
  {
   "cell_type": "code",
   "execution_count": null,
   "metadata": {
    "execution": {
     "iopub.execute_input": "2021-12-09T21:26:03.540249Z",
     "iopub.status.busy": "2021-12-09T21:26:03.539846Z",
     "iopub.status.idle": "2021-12-09T21:26:03.545791Z",
     "shell.execute_reply": "2021-12-09T21:26:03.545114Z",
     "shell.execute_reply.started": "2021-12-09T21:26:03.54021Z"
    }
   },
   "outputs": [],
   "source": [
    "X_train.shape"
   ]
  },
  {
   "cell_type": "markdown",
   "metadata": {},
   "source": [
    "# Логистическая регрессия"
   ]
  },
  {
   "cell_type": "code",
   "execution_count": null,
   "metadata": {
    "execution": {
     "iopub.execute_input": "2021-12-09T21:26:03.547875Z",
     "iopub.status.busy": "2021-12-09T21:26:03.547375Z",
     "iopub.status.idle": "2021-12-09T21:26:03.553739Z",
     "shell.execute_reply": "2021-12-09T21:26:03.552973Z",
     "shell.execute_reply.started": "2021-12-09T21:26:03.547836Z"
    }
   },
   "outputs": [],
   "source": [
    "from sklearn.linear_model import LogisticRegression"
   ]
  },
  {
   "cell_type": "code",
   "execution_count": null,
   "metadata": {
    "execution": {
     "iopub.execute_input": "2021-12-09T21:26:03.555596Z",
     "iopub.status.busy": "2021-12-09T21:26:03.555092Z",
     "iopub.status.idle": "2021-12-09T21:26:03.561367Z",
     "shell.execute_reply": "2021-12-09T21:26:03.56072Z",
     "shell.execute_reply.started": "2021-12-09T21:26:03.55556Z"
    }
   },
   "outputs": [],
   "source": [
    "clf = LogisticRegression()\n",
    "clf.fit(X_train, y_train)"
   ]
  },
  {
   "cell_type": "code",
   "execution_count": null,
   "metadata": {
    "execution": {
     "iopub.execute_input": "2021-12-09T21:26:03.562935Z",
     "iopub.status.busy": "2021-12-09T21:26:03.562676Z",
     "iopub.status.idle": "2021-12-09T21:26:03.569082Z",
     "shell.execute_reply": "2021-12-09T21:26:03.568437Z",
     "shell.execute_reply.started": "2021-12-09T21:26:03.562901Z"
    }
   },
   "outputs": [],
   "source": [
    "from sklearn.metrics import accuracy_score"
   ]
  },
  {
   "cell_type": "code",
   "execution_count": null,
   "metadata": {
    "execution": {
     "iopub.execute_input": "2021-12-09T21:26:03.572181Z",
     "iopub.status.busy": "2021-12-09T21:26:03.571238Z",
     "iopub.status.idle": "2021-12-09T21:26:03.576782Z",
     "shell.execute_reply": "2021-12-09T21:26:03.576151Z",
     "shell.execute_reply.started": "2021-12-09T21:26:03.572143Z"
    }
   },
   "outputs": [],
   "source": [
    "print(fr'Accuracy: {100 * accuracy_score(y_test, clf.predict(X_test)):.3f} %')"
   ]
  },
  {
   "cell_type": "markdown",
   "metadata": {},
   "source": [
    "# Гистограммный подход"
   ]
  },
  {
   "cell_type": "code",
   "execution_count": null,
   "metadata": {
    "execution": {
     "iopub.execute_input": "2021-12-09T21:26:03.578449Z",
     "iopub.status.busy": "2021-12-09T21:26:03.578076Z",
     "iopub.status.idle": "2021-12-09T21:26:03.585482Z",
     "shell.execute_reply": "2021-12-09T21:26:03.584749Z",
     "shell.execute_reply.started": "2021-12-09T21:26:03.578397Z"
    }
   },
   "outputs": [],
   "source": [
    "def data(filenames, classNumbers):\n",
    "    lst = []\n",
    "    \n",
    "    for i in range(len(filenames)):\n",
    "        file = filenames[i]\n",
    "        img = Image.open(file)\n",
    "        n = len(np.asarray(img)[:,:,0]) // 2\n",
    "        \n",
    "        r = np.asarray(img)[:, :, 0]\n",
    "        g = np.asarray(img)[:, :, 1]\n",
    "        b = np.asarray(img)[:, :, 2]\n",
    "\n",
    "        rmean = r.mean()\n",
    "        gmean = g.mean()\n",
    "        bmean = b.mean()\n",
    "\n",
    "        rstd = r.std()\n",
    "        gstd = g.std()\n",
    "        bstd = b.std()\n",
    "\n",
    "        rQuantile25 = np.quantile(r, 0.25)\n",
    "        gQuantile25 = np.quantile(g, 0.25)\n",
    "        bQuantile25 = np.quantile(b, 0.25)\n",
    "\n",
    "        rmedian= np.median(r)\n",
    "        gmedian = np.median(g)\n",
    "        bmedian = np.median(b)\n",
    "\n",
    "        rQuantile75 = np.quantile(r, 0.75)\n",
    "        gQuantile75= np.quantile(g, 0.75)\n",
    "        bQuantile75 = np.quantile(b, 0.75)\n",
    "        \n",
    "        \n",
    "        rDifference = np.asarray(img)[:n, :, 0].mean() - np.asarray(img)[n:, :, 0].mean()\n",
    "        gDifference = np.asarray(img)[:n, :, 1].mean() - np.asarray(img)[n:, :, 1].mean()\n",
    "        bDifference = np.asarray(img)[:n, :, 2].mean() - np.asarray(img)[n:, :, 2].mean()\n",
    "\n",
    "        lst.append([\n",
    "            rmean, gmean, bmean,\n",
    "            rstd, gstd, bstd,\n",
    "            rQuantile25, gQuantile25, bQuantile25,\n",
    "            rmedian, gmedian, bmedian,\n",
    "            rQuantile75, gQuantile75, bQuantile75,\n",
    "            rDifference, gDifference, bDifference,\n",
    "            y[i]\n",
    "        ])\n",
    "\n",
    "    return lst"
   ]
  },
  {
   "cell_type": "code",
   "execution_count": null,
   "metadata": {
    "execution": {
     "iopub.execute_input": "2021-12-09T21:26:03.588369Z",
     "iopub.status.busy": "2021-12-09T21:26:03.588113Z",
     "iopub.status.idle": "2021-12-09T21:26:03.595519Z",
     "shell.execute_reply": "2021-12-09T21:26:03.59472Z",
     "shell.execute_reply.started": "2021-12-09T21:26:03.588345Z"
    }
   },
   "outputs": [],
   "source": [
    "from os import listdir"
   ]
  },
  {
   "cell_type": "code",
   "execution_count": null,
   "metadata": {
    "execution": {
     "iopub.execute_input": "2021-12-09T21:26:03.597255Z",
     "iopub.status.busy": "2021-12-09T21:26:03.596981Z",
     "iopub.status.idle": "2021-12-09T21:26:03.604293Z",
     "shell.execute_reply": "2021-12-09T21:26:03.603646Z",
     "shell.execute_reply.started": "2021-12-09T21:26:03.597222Z"
    }
   },
   "outputs": [],
   "source": [
    "columns = [\n",
    "    'rMean', 'gMean', 'bMean',\n",
    "    'rStd', 'gStd', 'bStd',\n",
    "    'rQuantile25', 'gQuantile25', 'bQuantile25',\n",
    "    'rMedian', 'gMedian', 'bMedian',\n",
    "    'rQuantile75', 'gQuantile75', 'bQuantile75',\n",
    "    'rDifference', 'gDifference', 'bDifference',\n",
    "    'target'\n",
    "]\n",
    "\n",
    "if 'data_gist.csv' not in listdir(img_dir):\n",
    "    data_gist_save = data(filenames, y)\n",
    "    pd.DataFrame(data_gist_save, columns = columns).to_csv(fr'{img_dir}/data_gist.csv')"
   ]
  },
  {
   "cell_type": "code",
   "execution_count": null,
   "metadata": {
    "execution": {
     "iopub.execute_input": "2021-12-09T21:26:03.606597Z",
     "iopub.status.busy": "2021-12-09T21:26:03.605985Z",
     "iopub.status.idle": "2021-12-09T21:26:03.611896Z",
     "shell.execute_reply": "2021-12-09T21:26:03.611203Z",
     "shell.execute_reply.started": "2021-12-09T21:26:03.60656Z"
    }
   },
   "outputs": [],
   "source": [
    "data_gist = pd.read_csv(fr'{img_dir}/data_gist.csv', index_col = 0)\n",
    "data_gist"
   ]
  },
  {
   "cell_type": "code",
   "execution_count": null,
   "metadata": {
    "execution": {
     "iopub.execute_input": "2021-12-09T21:26:03.614486Z",
     "iopub.status.busy": "2021-12-09T21:26:03.614074Z",
     "iopub.status.idle": "2021-12-09T21:26:03.622128Z",
     "shell.execute_reply": "2021-12-09T21:26:03.621461Z",
     "shell.execute_reply.started": "2021-12-09T21:26:03.614447Z"
    }
   },
   "outputs": [],
   "source": [
    "X_train_gist, X_test_gist, y_train_gist, y_test_gist = train_test_split(\n",
    "    data_gist.drop(['target'], axis = 1),\n",
    "    data_gist['target'],\n",
    "    test_size=0.33,\n",
    "    random_state=42\n",
    ")"
   ]
  },
  {
   "cell_type": "code",
   "execution_count": null,
   "metadata": {
    "execution": {
     "iopub.execute_input": "2021-12-09T21:26:03.623946Z",
     "iopub.status.busy": "2021-12-09T21:26:03.623648Z",
     "iopub.status.idle": "2021-12-09T21:26:03.630862Z",
     "shell.execute_reply": "2021-12-09T21:26:03.630039Z",
     "shell.execute_reply.started": "2021-12-09T21:26:03.62391Z"
    }
   },
   "outputs": [],
   "source": [
    "clf = LogisticRegression(solver='liblinear')\n",
    "clf.fit(X_train_gist, y_train_gist)"
   ]
  },
  {
   "cell_type": "code",
   "execution_count": null,
   "metadata": {
    "execution": {
     "iopub.execute_input": "2021-12-09T21:26:03.632512Z",
     "iopub.status.busy": "2021-12-09T21:26:03.632156Z",
     "iopub.status.idle": "2021-12-09T21:26:03.638834Z",
     "shell.execute_reply": "2021-12-09T21:26:03.638145Z",
     "shell.execute_reply.started": "2021-12-09T21:26:03.632479Z"
    }
   },
   "outputs": [],
   "source": [
    "print(fr'Accuracy: {100 * accuracy_score(y_test_gist, clf.predict(X_test_gist)):.3f} %')"
   ]
  },
  {
   "cell_type": "markdown",
   "metadata": {},
   "source": [
    "# NeuralNet"
   ]
  },
  {
   "cell_type": "code",
   "execution_count": null,
   "metadata": {
    "execution": {
     "iopub.execute_input": "2021-12-09T21:26:03.640183Z",
     "iopub.status.busy": "2021-12-09T21:26:03.639919Z",
     "iopub.status.idle": "2021-12-09T21:26:04.955357Z",
     "shell.execute_reply": "2021-12-09T21:26:04.954583Z",
     "shell.execute_reply.started": "2021-12-09T21:26:03.640148Z"
    }
   },
   "outputs": [],
   "source": [
    "import torch\n",
    "import torch.nn as nn"
   ]
  },
  {
   "cell_type": "code",
   "execution_count": null,
   "metadata": {
    "execution": {
     "iopub.execute_input": "2021-12-09T21:26:04.959087Z",
     "iopub.status.busy": "2021-12-09T21:26:04.958868Z",
     "iopub.status.idle": "2021-12-09T21:26:05.002058Z",
     "shell.execute_reply": "2021-12-09T21:26:05.001325Z",
     "shell.execute_reply.started": "2021-12-09T21:26:04.95906Z"
    }
   },
   "outputs": [],
   "source": [
    "if torch.cuda.is_available():\n",
    "    dev = \"cuda:0\" \n",
    "else:  \n",
    "    dev = \"cpu\"  \n",
    "device = torch.device(dev) "
   ]
  },
  {
   "cell_type": "code",
   "execution_count": null,
   "metadata": {
    "execution": {
     "iopub.execute_input": "2021-12-09T21:26:05.003825Z",
     "iopub.status.busy": "2021-12-09T21:26:05.003485Z",
     "iopub.status.idle": "2021-12-09T21:26:05.013738Z",
     "shell.execute_reply": "2021-12-09T21:26:05.012587Z",
     "shell.execute_reply.started": "2021-12-09T21:26:05.003787Z"
    }
   },
   "outputs": [],
   "source": [
    "device"
   ]
  },
  {
   "cell_type": "code",
   "execution_count": null,
   "metadata": {
    "execution": {
     "iopub.execute_input": "2021-12-09T21:26:05.015338Z",
     "iopub.status.busy": "2021-12-09T21:26:05.014959Z",
     "iopub.status.idle": "2021-12-09T21:26:05.023906Z",
     "shell.execute_reply": "2021-12-09T21:26:05.023195Z",
     "shell.execute_reply.started": "2021-12-09T21:26:05.015301Z"
    }
   },
   "outputs": [],
   "source": [
    "from torch.utils.data import Dataset, DataLoader\n",
    "\n",
    "class FoodDataset(Dataset):\n",
    "    def __init__(self, images, labels):\n",
    "        self.labels = labels\n",
    "        self.images = images\n",
    "\n",
    "    def __len__(self):\n",
    "        return len(self.labels)\n",
    "        \n",
    "    def __getitem__(self, idx):\n",
    "        return (self.images[idx], self.labels[idx])"
   ]
  },
  {
   "cell_type": "code",
   "execution_count": null,
   "metadata": {
    "execution": {
     "iopub.execute_input": "2021-12-09T21:26:05.025991Z",
     "iopub.status.busy": "2021-12-09T21:26:05.025305Z",
     "iopub.status.idle": "2021-12-09T21:26:05.259949Z",
     "shell.execute_reply": "2021-12-09T21:26:05.259198Z",
     "shell.execute_reply.started": "2021-12-09T21:26:05.025919Z"
    }
   },
   "outputs": [],
   "source": [
    "batch_size = 50\n",
    "train_dataset = FoodDataset(torch.FloatTensor(X_train.reshape(X_train.shape[0], 3, 100, 100)), torch.LongTensor(y_train))\n",
    "train_loader = DataLoader(train_dataset, batch_size = batch_size, shuffle = True)\n",
    "\n",
    "test_dataset = FoodDataset(torch.FloatTensor(X_test.reshape(X_test.shape[0], 3, 100, 100)), torch.LongTensor(y_test))\n",
    "test_loader = DataLoader(test_dataset, batch_size = batch_size, shuffle = True)"
   ]
  },
  {
   "cell_type": "code",
   "execution_count": null,
   "metadata": {
    "execution": {
     "iopub.execute_input": "2021-12-09T21:26:05.26155Z",
     "iopub.status.busy": "2021-12-09T21:26:05.261203Z",
     "iopub.status.idle": "2021-12-09T21:26:05.293292Z",
     "shell.execute_reply": "2021-12-09T21:26:05.292667Z",
     "shell.execute_reply.started": "2021-12-09T21:26:05.261512Z"
    }
   },
   "outputs": [],
   "source": [
    "examples = enumerate(train_loader)\n",
    "batch_idx, (example_data, example_targets) = next(examples)"
   ]
  },
  {
   "cell_type": "code",
   "execution_count": null,
   "metadata": {
    "execution": {
     "iopub.execute_input": "2021-12-09T21:26:05.294839Z",
     "iopub.status.busy": "2021-12-09T21:26:05.294579Z",
     "iopub.status.idle": "2021-12-09T21:26:05.300464Z",
     "shell.execute_reply": "2021-12-09T21:26:05.299611Z",
     "shell.execute_reply.started": "2021-12-09T21:26:05.294805Z"
    }
   },
   "outputs": [],
   "source": [
    "example_data.shape"
   ]
  },
  {
   "cell_type": "code",
   "execution_count": null,
   "metadata": {
    "execution": {
     "iopub.execute_input": "2021-12-09T21:26:05.302457Z",
     "iopub.status.busy": "2021-12-09T21:26:05.302008Z",
     "iopub.status.idle": "2021-12-09T21:26:05.309746Z",
     "shell.execute_reply": "2021-12-09T21:26:05.308982Z",
     "shell.execute_reply.started": "2021-12-09T21:26:05.302276Z"
    }
   },
   "outputs": [],
   "source": [
    "example_targets.shape"
   ]
  },
  {
   "cell_type": "code",
   "execution_count": null,
   "metadata": {
    "execution": {
     "iopub.execute_input": "2021-12-09T21:26:05.311687Z",
     "iopub.status.busy": "2021-12-09T21:26:05.311112Z",
     "iopub.status.idle": "2021-12-09T21:26:05.319188Z",
     "shell.execute_reply": "2021-12-09T21:26:05.318325Z",
     "shell.execute_reply.started": "2021-12-09T21:26:05.311648Z"
    }
   },
   "outputs": [],
   "source": [
    "class NeuralNet(nn.Module):\n",
    "    def __init__(self, input_size, hidden_size, num_classes):\n",
    "        super(NeuralNet, self).__init__()\n",
    "        self.layer_1 = nn.Linear(input_size, hidden_size)\n",
    "        self.layer_2 = nn.Linear(hidden_size, num_classes)\n",
    "        \n",
    "        self.relu = nn.ReLU()\n",
    "        \n",
    "    def forward(self, inputs):\n",
    "        output_1 = self.relu(self.layer_1(inputs))\n",
    "        output = self.layer_2(output_1)\n",
    "        \n",
    "        return output"
   ]
  },
  {
   "cell_type": "code",
   "execution_count": null,
   "metadata": {
    "execution": {
     "iopub.execute_input": "2021-12-09T21:26:05.321183Z",
     "iopub.status.busy": "2021-12-09T21:26:05.320375Z",
     "iopub.status.idle": "2021-12-09T21:26:08.185889Z",
     "shell.execute_reply": "2021-12-09T21:26:08.185083Z",
     "shell.execute_reply.started": "2021-12-09T21:26:05.321148Z"
    }
   },
   "outputs": [],
   "source": [
    "model = NeuralNet(3 * 100 * 100, 500, len(categories)).to(device)\n",
    "print(model)"
   ]
  },
  {
   "cell_type": "code",
   "execution_count": null,
   "metadata": {
    "execution": {
     "iopub.execute_input": "2021-12-09T21:26:08.187548Z",
     "iopub.status.busy": "2021-12-09T21:26:08.18723Z",
     "iopub.status.idle": "2021-12-09T21:26:08.192179Z",
     "shell.execute_reply": "2021-12-09T21:26:08.19128Z",
     "shell.execute_reply.started": "2021-12-09T21:26:08.187502Z"
    }
   },
   "outputs": [],
   "source": [
    "criterion = nn.CrossEntropyLoss()\n",
    "optimizer = torch.optim.Adam(model.parameters(), lr=0.001)"
   ]
  },
  {
   "cell_type": "code",
   "execution_count": null,
   "metadata": {
    "execution": {
     "iopub.execute_input": "2021-12-09T21:26:08.194836Z",
     "iopub.status.busy": "2021-12-09T21:26:08.194423Z",
     "iopub.status.idle": "2021-12-09T21:26:11.637624Z",
     "shell.execute_reply": "2021-12-09T21:26:11.636092Z",
     "shell.execute_reply.started": "2021-12-09T21:26:08.194799Z"
    }
   },
   "outputs": [],
   "source": [
    "np.random.seed(0)\n",
    "torch.manual_seed(0)\n",
    "\n",
    "total_step = len(train_loader)\n",
    "for epoch in range(10):\n",
    "    for i, (images, labels) in enumerate(train_loader):  \n",
    "        images = images.reshape(-1, 100 * 100 * 3).to(device)\n",
    "\n",
    "        outputs = model(images)\n",
    "        loss = criterion(outputs, labels.to(device))\n",
    "\n",
    "        optimizer.zero_grad()\n",
    "        loss.backward()\n",
    "        optimizer.step()\n",
    "        \n",
    "        if (i+1) % 10 == 0:\n",
    "            print ('Epoch [{}/{}], Step [{}/{}], Loss: {:.4f}' \n",
    "                   .format(epoch+1, 5, i+1, total_step, loss.item()))"
   ]
  },
  {
   "cell_type": "code",
   "execution_count": null,
   "metadata": {
    "execution": {
     "iopub.execute_input": "2021-12-09T21:26:11.639321Z",
     "iopub.status.busy": "2021-12-09T21:26:11.639054Z",
     "iopub.status.idle": "2021-12-09T21:26:11.731818Z",
     "shell.execute_reply": "2021-12-09T21:26:11.731078Z",
     "shell.execute_reply.started": "2021-12-09T21:26:11.639286Z"
    }
   },
   "outputs": [],
   "source": [
    "# На этапе предсказания не требуется вычислять градиенты:\n",
    "with torch.no_grad():\n",
    "    correct = 0\n",
    "    total = 0\n",
    "    for images, labels in test_loader:\n",
    "        images = images.reshape(-1, 100 * 100 * 3).to(device)\n",
    "        outputs = model(images)\n",
    "        _, predicted = torch.max(outputs.data, 1)\n",
    "        labels = labels.to(device)\n",
    "        total += labels.size(0)\n",
    "        correct += (predicted == labels).sum().item()\n",
    "\n",
    "    print(fr'Accuracy: {100 * correct / total:.3f} %')"
   ]
  },
  {
   "cell_type": "markdown",
   "metadata": {},
   "source": [
    "# Сверточная нейронная сеть"
   ]
  },
  {
   "cell_type": "code",
   "execution_count": null,
   "metadata": {
    "execution": {
     "iopub.execute_input": "2021-12-09T21:26:11.736714Z",
     "iopub.status.busy": "2021-12-09T21:26:11.736511Z",
     "iopub.status.idle": "2021-12-09T21:26:11.74634Z",
     "shell.execute_reply": "2021-12-09T21:26:11.745558Z",
     "shell.execute_reply.started": "2021-12-09T21:26:11.73669Z"
    }
   },
   "outputs": [],
   "source": [
    "class LeNet5(nn.Module):\n",
    "    def __init__(self, num_classes):\n",
    "        super(LeNet5, self).__init__()\n",
    "        self.conv_layer1 = nn.Conv2d(in_channels=3, out_channels=6, kernel_size=5, stride=1)\n",
    "        self.conv_layer2 = nn.Conv2d(in_channels=6, out_channels=16, kernel_size=5, stride=1)\n",
    "        self.conv_layer3 = nn.Conv2d(in_channels=16, out_channels=120, kernel_size=5, stride=1)\n",
    "        self.conv_layer4 = nn.Conv2d(in_channels=120, out_channels=256, kernel_size=5, stride=1)\n",
    "        self.pooling_layer1 = nn.AvgPool2d(kernel_size=2)\n",
    "        self.pooling_layer2 = nn.AvgPool2d(kernel_size=2)\n",
    "        \n",
    "        self.linear_layer1 = nn.Linear(in_features=38880, out_features=84)\n",
    "        self.linear_layer2 = nn.Linear(in_features=84, out_features=num_classes)\n",
    "        \n",
    "        self.tanh = nn.ReLU()\n",
    "        \n",
    "    def forward(self, inputs):\n",
    "        output = self.tanh(self.conv_layer1(inputs))\n",
    "        output = self.pooling_layer1(output)\n",
    "        output = self.tanh(self.conv_layer2(output))\n",
    "        output = self.pooling_layer2(output)\n",
    "        output = self.tanh(self.conv_layer3(output))\n",
    "        output = torch.flatten(output, 1)\n",
    "        \n",
    "        output = self.tanh(self.linear_layer1(output))\n",
    "        output = self.linear_layer2(output)\n",
    "        \n",
    "        return output"
   ]
  },
  {
   "cell_type": "code",
   "execution_count": null,
   "metadata": {
    "execution": {
     "iopub.execute_input": "2021-12-09T21:26:11.748073Z",
     "iopub.status.busy": "2021-12-09T21:26:11.747626Z",
     "iopub.status.idle": "2021-12-09T21:26:11.789691Z",
     "shell.execute_reply": "2021-12-09T21:26:11.788982Z",
     "shell.execute_reply.started": "2021-12-09T21:26:11.748037Z"
    }
   },
   "outputs": [],
   "source": [
    "model = LeNet5(len(categories)).to(device)\n",
    "print(model)"
   ]
  },
  {
   "cell_type": "code",
   "execution_count": null,
   "metadata": {
    "execution": {
     "iopub.execute_input": "2021-12-09T21:26:11.791696Z",
     "iopub.status.busy": "2021-12-09T21:26:11.791292Z",
     "iopub.status.idle": "2021-12-09T21:26:11.796073Z",
     "shell.execute_reply": "2021-12-09T21:26:11.795238Z",
     "shell.execute_reply.started": "2021-12-09T21:26:11.79166Z"
    }
   },
   "outputs": [],
   "source": [
    "criterion = nn.CrossEntropyLoss()\n",
    "optimizer = torch.optim.Adam(model.parameters(), lr=0.001)"
   ]
  },
  {
   "cell_type": "code",
   "execution_count": null,
   "metadata": {
    "execution": {
     "iopub.execute_input": "2021-12-09T21:26:11.797735Z",
     "iopub.status.busy": "2021-12-09T21:26:11.797478Z",
     "iopub.status.idle": "2021-12-09T21:26:23.954681Z",
     "shell.execute_reply": "2021-12-09T21:26:23.953946Z",
     "shell.execute_reply.started": "2021-12-09T21:26:11.797701Z"
    }
   },
   "outputs": [],
   "source": [
    "seed = 42\n",
    "os.environ['PYTHONHASHSEED'] = str(seed)\n",
    "# Torch RNG\n",
    "torch.manual_seed(seed)\n",
    "torch.cuda.manual_seed(seed)\n",
    "torch.cuda.manual_seed_all(seed)\n",
    "# Python RNG\n",
    "np.random.seed(seed)\n",
    "random.seed(seed)\n",
    "\n",
    "total_step = len(train_loader)\n",
    "for epoch in range(20):\n",
    "    for i, (images, labels) in enumerate(train_loader):\n",
    "        images = images.to(device)\n",
    "        outputs = model(images)\n",
    "        loss = criterion(outputs, labels.to(device))\n",
    "\n",
    "        optimizer.zero_grad()\n",
    "        loss.backward()\n",
    "        optimizer.step()\n",
    "        \n",
    "        if (i+1) % 10 == 0:\n",
    "            print ('Epoch [{}/{}], Step [{}/{}], Loss: {:.4f}' \n",
    "                   .format(epoch+1, 5, i+1, total_step, loss.item()))"
   ]
  },
  {
   "cell_type": "code",
   "execution_count": null,
   "metadata": {
    "execution": {
     "iopub.execute_input": "2021-12-09T21:26:23.956349Z",
     "iopub.status.busy": "2021-12-09T21:26:23.95606Z",
     "iopub.status.idle": "2021-12-09T21:26:24.066596Z",
     "shell.execute_reply": "2021-12-09T21:26:24.065824Z",
     "shell.execute_reply.started": "2021-12-09T21:26:23.956311Z"
    }
   },
   "outputs": [],
   "source": [
    "model.eval()\n",
    "with torch.no_grad():\n",
    "    correct = 0\n",
    "    total = 0\n",
    "    for images, labels in test_loader:\n",
    "        outputs = model(images.to(device))\n",
    "        _, predicted = torch.max(outputs.data, 1)\n",
    "        labels = labels.to(device)\n",
    "        total += labels.size(0)\n",
    "        correct += (predicted == labels).sum().item()\n",
    "\n",
    "    print(fr'Accuracy: {100 * correct / total:.3f}%')"
   ]
  },
  {
   "cell_type": "markdown",
   "metadata": {},
   "source": [
    "# Resnet"
   ]
  },
  {
   "cell_type": "code",
   "execution_count": null,
   "metadata": {
    "execution": {
     "iopub.execute_input": "2021-12-09T21:46:24.454185Z",
     "iopub.status.busy": "2021-12-09T21:46:24.453933Z",
     "iopub.status.idle": "2021-12-09T21:46:24.457558Z",
     "shell.execute_reply": "2021-12-09T21:46:24.45688Z",
     "shell.execute_reply.started": "2021-12-09T21:46:24.454156Z"
    }
   },
   "outputs": [],
   "source": [
    "import torchvision.models as models"
   ]
  },
  {
   "cell_type": "code",
   "execution_count": null,
   "metadata": {
    "execution": {
     "iopub.execute_input": "2021-12-09T21:46:36.973505Z",
     "iopub.status.busy": "2021-12-09T21:46:36.97324Z",
     "iopub.status.idle": "2021-12-09T21:46:36.980086Z",
     "shell.execute_reply": "2021-12-09T21:46:36.979012Z",
     "shell.execute_reply.started": "2021-12-09T21:46:36.973476Z"
    }
   },
   "outputs": [],
   "source": [
    "class PretrainedCNN(nn.Module):\n",
    "    def __init__(self, hidden_size, num_classes):\n",
    "        super(PretrainedCNN, self).__init__()\n",
    "#         self.train = train\n",
    "        self.resnet = models.resnet18(pretrained=True) # TODO\n",
    "        self.resnet.fc = nn.Linear(self.resnet.fc.in_features, hidden_size) # TODO\n",
    "        self.fc = nn.Linear(hidden_size, num_classes)\n",
    "        \n",
    "        self.relu = nn.ReLU()\n",
    "        self.dropout = nn.Dropout(0.2)\n",
    "        \n",
    "    def forward(self, images):\n",
    "#         for name, param in self.resnet.named_parameters():\n",
    "#             if 'fc.weight' in name or 'fc.bias' in name:\n",
    "#                 param.requires_grad = True\n",
    "#             else:\n",
    "#                 param.requires_grad = self.train\n",
    "                \n",
    "        resnet_features = self.dropout(self.relu(self.resnet(images)))\n",
    "                \n",
    "        return self.fc(resnet_features)"
   ]
  },
  {
   "cell_type": "code",
   "execution_count": null,
   "metadata": {
    "execution": {
     "iopub.execute_input": "2021-12-09T21:46:38.569779Z",
     "iopub.status.busy": "2021-12-09T21:46:38.569051Z",
     "iopub.status.idle": "2021-12-09T21:46:38.860551Z",
     "shell.execute_reply": "2021-12-09T21:46:38.859767Z",
     "shell.execute_reply.started": "2021-12-09T21:46:38.569726Z"
    }
   },
   "outputs": [],
   "source": [
    "modelResnet = PretrainedCNN(20000, len(categories)).to(device)\n",
    "print(modelResnet)"
   ]
  },
  {
   "cell_type": "code",
   "execution_count": null,
   "metadata": {
    "execution": {
     "iopub.execute_input": "2021-12-09T21:46:41.376172Z",
     "iopub.status.busy": "2021-12-09T21:46:41.375648Z",
     "iopub.status.idle": "2021-12-09T21:46:41.38492Z",
     "shell.execute_reply": "2021-12-09T21:46:41.380755Z",
     "shell.execute_reply.started": "2021-12-09T21:46:41.376119Z"
    }
   },
   "outputs": [],
   "source": [
    "criterion = nn.CrossEntropyLoss()\n",
    "optimizer = torch.optim.Adam(modelResnet.parameters(), lr=0.001)"
   ]
  },
  {
   "cell_type": "code",
   "execution_count": null,
   "metadata": {
    "execution": {
     "iopub.execute_input": "2021-12-09T21:46:52.05191Z",
     "iopub.status.busy": "2021-12-09T21:46:52.051361Z",
     "iopub.status.idle": "2021-12-09T21:47:44.235966Z",
     "shell.execute_reply": "2021-12-09T21:47:44.235272Z",
     "shell.execute_reply.started": "2021-12-09T21:46:52.051871Z"
    }
   },
   "outputs": [],
   "source": [
    "np.random.seed(0)\n",
    "torch.manual_seed(0)\n",
    "model.train()\n",
    "\n",
    "total_step = len(train_loader)\n",
    "for epoch in range(30):\n",
    "    for i, (images, labels) in enumerate(train_loader):\n",
    "        images = images.to(device)\n",
    "        outputs = modelResnet(images)\n",
    "        loss = criterion(outputs, labels.to(device))\n",
    "\n",
    "        optimizer.zero_grad()\n",
    "        loss.backward()\n",
    "        optimizer.step()\n",
    "        \n",
    "        if (i+1) % 10 == 0:\n",
    "            print ('Epoch [{}/{}], Step [{}/{}], Loss: {:.4f}' \n",
    "                   .format(epoch+1, 5, i+1, total_step, loss.item()))"
   ]
  },
  {
   "cell_type": "code",
   "execution_count": null,
   "metadata": {
    "execution": {
     "iopub.execute_input": "2021-12-09T21:47:57.19253Z",
     "iopub.status.busy": "2021-12-09T21:47:57.191945Z",
     "iopub.status.idle": "2021-12-09T21:47:57.530811Z",
     "shell.execute_reply": "2021-12-09T21:47:57.53008Z",
     "shell.execute_reply.started": "2021-12-09T21:47:57.192494Z"
    }
   },
   "outputs": [],
   "source": [
    "modelResnet.eval()\n",
    "with torch.no_grad():\n",
    "    correct = 0\n",
    "    total = 0\n",
    "    for images, labels in test_loader:\n",
    "        outputs = modelResnet(images.to(device))\n",
    "        _, predicted = torch.max(outputs.data, 1)\n",
    "        labels = labels.to(device)\n",
    "        total += labels.size(0)\n",
    "        correct += (predicted == labels).sum().item()\n",
    "\n",
    "    print(fr'Accuracy: {100 * correct / total:.3f}%')"
   ]
  },
  {
   "cell_type": "code",
   "execution_count": null,
   "metadata": {
    "execution": {
     "iopub.execute_input": "2021-12-09T21:54:20.205618Z",
     "iopub.status.busy": "2021-12-09T21:54:20.205143Z",
     "iopub.status.idle": "2021-12-09T21:54:20.398617Z",
     "shell.execute_reply": "2021-12-09T21:54:20.397787Z",
     "shell.execute_reply.started": "2021-12-09T21:54:20.20558Z"
    }
   },
   "outputs": [],
   "source": [
    "torch.save(modelResnet, 'model.pt')"
   ]
  },
  {
   "cell_type": "code",
   "execution_count": null,
   "metadata": {},
   "outputs": [],
   "source": []
  }
 ],
 "metadata": {
  "kernelspec": {
   "display_name": "Python 3",
   "language": "python",
   "name": "python3"
  },
  "language_info": {
   "codemirror_mode": {
    "name": "ipython",
    "version": 3
   },
   "file_extension": ".py",
   "mimetype": "text/x-python",
   "name": "python",
   "nbconvert_exporter": "python",
   "pygments_lexer": "ipython3",
   "version": "3.8.8"
  }
 },
 "nbformat": 4,
 "nbformat_minor": 4
}
